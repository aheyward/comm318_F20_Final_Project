{
 "cells": [
  {
   "cell_type": "markdown",
   "metadata": {},
   "source": [
    "# Data Analysis (Part 3: NHES)\n",
    "\n",
    "#### HISTORY\n",
    "* 10/25/20 Initial exploration of OECD dataset\n",
    "* 11/13/20 Data analysis of OECD data from 2015\n",
    "* 12/11/20 Data Analysis of Google Trends searches\n",
    "---\n",
    "\n",
    "In this notebook, I will be exploring data concerning homeschooling in the United States using the NHES data. Because the google trends data showed a marked increase in searches for 'how to homeschool' it is important to explore trends in homeschooling practices. I will answer the following questions:\n",
    "* What is the average amount of time parents spend homeschooling?\n",
    "* Do parents enlist outside instructors to teach their kids?\n",
    "* Do parents/family typically train to become homeschool teachers?\n",
    "* What is the most popular teaching style?\n"
   ]
  },
  {
   "cell_type": "code",
   "execution_count": 1,
   "metadata": {},
   "outputs": [],
   "source": [
    "#Importing necessary packages\n",
    "import pandas as pd\n",
    "import numpy as np\n",
    "import statsmodels.formula.api as smf\n",
    "import matplotlib.pyplot as plt\n",
    "import seaborn as sns"
   ]
  },
  {
   "cell_type": "code",
   "execution_count": 2,
   "metadata": {},
   "outputs": [],
   "source": [
    "#Reading in my data files\n",
    "nhes_df = pd.read_csv(\"../data/cleaned/nhes_CLEAN.csv\")\n",
    "hmsc_df = pd.read_csv(\"../data/hmsc_df.csv\")\n",
    "enroll_df = pd.read_csv(\"../data/enroll_df.csv\")"
   ]
  },
  {
   "cell_type": "markdown",
   "metadata": {},
   "source": [
    "## Question 1:\n",
    "### How much time do parents spend homeschooling?\n",
    "\n",
    "I will find mean of the amount of days parents homeschool per week and the average number of hours they homeschool per week."
   ]
  },
  {
   "cell_type": "code",
   "execution_count": 3,
   "metadata": {},
   "outputs": [
    {
     "data": {
      "text/plain": [
       "4.838768115942029"
      ]
     },
     "execution_count": 3,
     "metadata": {},
     "output_type": "execute_result"
    }
   ],
   "source": [
    "#Mean of days per week\n",
    "hmsc_df['days_hmsc'].mean()"
   ]
  },
  {
   "cell_type": "code",
   "execution_count": 4,
   "metadata": {},
   "outputs": [
    {
     "data": {
      "text/plain": [
       "21.98731884057971"
      ]
     },
     "execution_count": 4,
     "metadata": {},
     "output_type": "execute_result"
    }
   ],
   "source": [
    "#Mean of hours per week\n",
    "hmsc_df['hrs_hmsc'].mean()"
   ]
  },
  {
   "cell_type": "markdown",
   "metadata": {},
   "source": [
    "On average, people homeschool their children 4.8 days (close to 5 days) per week for 22 hours a week. While parents homeschool their children every day as if they were enrolled in public or private school, they homeschool for significantly less time than public/private schools each week. Most ublic schools stay in session for seven or eight hours a day for five days a week, so compared 35-40 hour school week, homeschooled children spend less time in \"class.\" "
   ]
  },
  {
   "cell_type": "markdown",
   "metadata": {},
   "source": [
    "## Question 2:\n",
    "### What is the average age of homeschooled children?"
   ]
  },
  {
   "cell_type": "code",
   "execution_count": 5,
   "metadata": {},
   "outputs": [
    {
     "name": "stdout",
     "output_type": "stream",
     "text": [
      "12.51268115942029\n",
      "13.0\n"
     ]
    }
   ],
   "source": [
    "#Mean of age\n",
    "print(hmsc_df['age'].mean())\n",
    "\n",
    "#Median of age\n",
    "print(hmsc_df['age'].median())"
   ]
  },
  {
   "cell_type": "markdown",
   "metadata": {},
   "source": [
    "The average age of a homeschooled child is 12 and a half and the median age is 13. In this data, children who are homeschooled tend to be older."
   ]
  },
  {
   "cell_type": "code",
   "execution_count": 6,
   "metadata": {},
   "outputs": [
    {
     "data": {
      "text/plain": [
       "<AxesSubplot:>"
      ]
     },
     "execution_count": 6,
     "metadata": {},
     "output_type": "execute_result"
    },
    {
     "data": {
      "image/png": "[encoded data removed]",
      "text/plain": [
       "<Figure size 432x288 with 1 Axes>"
      ]
     },
     "metadata": {
      "needs_background": "light"
     },
     "output_type": "display_data"
    }
   ],
   "source": [
    "hmsc_grade_count = hmsc_df['hmsc_grade_year'].value_counts()\n",
    "hmsc_grade_count.sort_values(ascending=False).plot(kind='bar')"
   ]
  },
  {
   "cell_type": "markdown",
   "metadata": {},
   "source": [
    "As evident from the graph, a large portion of homeschooled children are/could be considered 10th, 11th, and 12th graders. What are the percentages of this distribution?"
   ]
  },
  {
   "cell_type": "code",
   "execution_count": 7,
   "metadata": {
    "scrolled": true
   },
   "outputs": [
    {
     "data": {
      "text/plain": [
       "10th            0.132246\n",
       "12th            0.121377\n",
       "11th            0.112319\n",
       "6th             0.085145\n",
       "9th             0.072464\n",
       "2nd             0.070652\n",
       "5th             0.068841\n",
       "8th             0.068841\n",
       "Kindergarten    0.059783\n",
       "4th             0.057971\n",
       "7th             0.054348\n",
       "3rd             0.052536\n",
       "1st             0.043478\n",
       "Name: hmsc_grade_year, dtype: float64"
      ]
     },
     "execution_count": 7,
     "metadata": {},
     "output_type": "execute_result"
    }
   ],
   "source": [
    "hmsc_grade_pct = (hmsc_df['hmsc_grade_year'].value_counts())/hmsc_df['hmsc_grade_year'].count()\n",
    "hmsc_grade_pct"
   ]
  },
  {
   "cell_type": "code",
   "execution_count": 8,
   "metadata": {
    "scrolled": true
   },
   "outputs": [
    {
     "data": {
      "text/plain": [
       "0.4384057971014493"
      ]
     },
     "execution_count": 8,
     "metadata": {},
     "output_type": "execute_result"
    }
   ],
   "source": [
    "hmsc_grade_pct[['9th', '10th', '11th', '12th']].sum()"
   ]
  },
  {
   "cell_type": "code",
   "execution_count": 9,
   "metadata": {},
   "outputs": [
    {
     "data": {
      "text/plain": [
       "0.28442028985507245"
      ]
     },
     "execution_count": 9,
     "metadata": {},
     "output_type": "execute_result"
    }
   ],
   "source": [
    "hmsc_grade_pct[['Kindergarten', '1st', '2nd', '3rd', '4th']].sum()"
   ]
  },
  {
   "cell_type": "markdown",
   "metadata": {},
   "source": [
    "43.8% of homeschooled students in 2016 would have been in high school compared to just 28.4% of children who would have been in elementary school. This is interesting because it suggests that parents are opting to teach their teens more difficult work instead of teaching their younger children whose school lessons are more simple by comparison. What is this distribution of \"year grade\" (or the equivalent year grade) of homeschool students?"
   ]
  },
  {
   "cell_type": "markdown",
   "metadata": {},
   "source": [
    "## Question 3:\n",
    "### Do homeschooling parents prefer following a strict curriculum or informal learning?\n",
    "Some people may choose to homeschool to avoid the rigor, stress, or strictness of traditional education methods. When parents homeschool, do they continue to use traditional lesson plans, or do they use more informal, experience-based teaching?"
   ]
  },
  {
   "cell_type": "code",
   "execution_count": 10,
   "metadata": {},
   "outputs": [
    {
     "data": {
      "text/plain": [
       "Mostly use formal curriculum      276\n",
       "Strictly use formal curriculum    179\n",
       "Mostly use informal learning       61\n",
       "Always use informal learning       36\n",
       "Name: teach_style, dtype: int64"
      ]
     },
     "execution_count": 10,
     "metadata": {},
     "output_type": "execute_result"
    }
   ],
   "source": [
    "teach_style = hmsc_df['teach_style'].value_counts()\n",
    "teach_style"
   ]
  },
  {
   "cell_type": "code",
   "execution_count": 11,
   "metadata": {
    "scrolled": false
   },
   "outputs": [
    {
     "data": {
      "text/plain": [
       "<AxesSubplot:>"
      ]
     },
     "execution_count": 11,
     "metadata": {},
     "output_type": "execute_result"
    },
    {
     "data": {
      "image/png": "[encoded data removed]",
      "text/plain": [
       "<Figure size 432x288 with 1 Axes>"
      ]
     },
     "metadata": {
      "needs_background": "light"
     },
     "output_type": "display_data"
    }
   ],
   "source": [
    "teach_style.plot(kind='bar')"
   ]
  },
  {
   "cell_type": "markdown",
   "metadata": {},
   "source": [
    "A large majority of parents used a formal curriculum as opposed to following informal learning strategies.\n",
    "\n",
    "#### What percentage of parents strictly followed or mostly followed a formal curriculum?"
   ]
  },
  {
   "cell_type": "code",
   "execution_count": 12,
   "metadata": {},
   "outputs": [
    {
     "name": "stdout",
     "output_type": "stream",
     "text": [
      "0.8242753623188406\n"
     ]
    },
    {
     "data": {
      "text/plain": [
       "0.17572463768115942"
      ]
     },
     "execution_count": 12,
     "metadata": {},
     "output_type": "execute_result"
    }
   ],
   "source": [
    "#Taking sum of the # of people who \"Mostly/Strictly use a formal curriculum\"\n",
    "formal_sum = sum(hmsc_df['teach_style'] == 'Mostly use formal curriculum') + sum(hmsc_df['teach_style'] == 'Strictly use formal curriculum')\n",
    "#Dividing the sum for formal learning by the total number of people teaching\n",
    "formal_pct = formal_sum/hmsc_df['teach_style'].count()\n",
    "print(formal_pct)\n",
    "1-formal_pct"
   ]
  },
  {
   "cell_type": "markdown",
   "metadata": {},
   "source": [
    "82.4% of parents primarily use formal teaching styles, while 17.6% try to encourage informal learning. A very large majority of parents prefer formal teaching methods. It may be that their child mainly struggled with the traditional school environment as opposed to struggling with the lessons themselves, so they continued traditional practice in a new setting. \n",
    "\n",
    "If most parents are using a formal curriculum, how do they develop it? Where do they find lesson plans for their children to follow?\n",
    "\n",
    "## Question 4:\n",
    "### Where do parents find lessons for their homeschool curriculum?"
   ]
  },
  {
   "cell_type": "code",
   "execution_count": 13,
   "metadata": {},
   "outputs": [
    {
     "data": {
      "image/png": "[encoded data removed]",
      "text/plain": [
       "<Figure size 432x288 with 1 Axes>"
      ]
     },
     "metadata": {
      "needs_background": "light"
     },
     "output_type": "display_data"
    }
   ],
   "source": [
    "curric_cols = ['Websites', 'Bookstore', 'Other Source', 'Public School',\n",
    "       'Virtual School/Curriculum', 'Homeschooling Organization',\n",
    "       'Homeschool Catalog', 'Educational Publisher', 'Library', 'Church']\n",
    "\n",
    "curric_source_count=(hmsc_df[curric_cols]==1).sum()\n",
    "curric_source_plt = curric_source_count.sort_values(ascending=False).plot(kind='barh', \n",
    "                                                    title = 'Sources of Homeschool Curriculum',\n",
    "                                                      xlabel = 'Source', \n",
    "                                                      ylabel = 'Number of Parents Using Source',\n",
    "                                                     figsize = (6,4))\n",
    "curric_source_plt.get_figure().savefig('../data_story_presentation/img/curric_source.jpg', \n",
    "                                  bbox_inches='tight', dpi=300)"
   ]
  },
  {
   "cell_type": "code",
   "execution_count": 14,
   "metadata": {},
   "outputs": [
    {
     "data": {
      "text/plain": [
       "Websites                      378\n",
       "Bookstore                     357\n",
       "Other Source                   40\n",
       "Public School                 179\n",
       "Virtual School/Curriculum      30\n",
       "Homeschooling Organization    262\n",
       "Homeschool Catalog            321\n",
       "Educational Publisher         259\n",
       "Library                       373\n",
       "Church                        172\n",
       "dtype: int64"
      ]
     },
     "execution_count": 14,
     "metadata": {},
     "output_type": "execute_result"
    }
   ],
   "source": [
    "curric_source_count"
   ]
  },
  {
   "cell_type": "markdown",
   "metadata": {},
   "source": [
    "People compose their homeschool curriculum from a variety of sources, but the most people find their curriculum from websites, libraries, and bookstores. The first two make sense becuase they are typically free resources which lessen the cost of homeschooling. Alternatively, if a person wants to invest in a nice curriculum, they may buy one from the bookstore or a homeschool catalog. Very few people (only 30) actually used a learning resources from a virtual school. \n",
    "\n",
    "Once a parent develops their curriculum, how do they prepare to place themselves in the role of \"teacher\"? If they don't have a background in education, do they take a course to learn teaching methods?"
   ]
  },
  {
   "cell_type": "markdown",
   "metadata": {},
   "source": [
    "## Question 5:\n",
    "### Is it common for parents take a course to prep for homeschooling their children?"
   ]
  },
  {
   "cell_type": "code",
   "execution_count": 15,
   "metadata": {
    "scrolled": true
   },
   "outputs": [
    {
     "data": {
      "text/plain": [
       "No Course             422\n",
       "Online                 50\n",
       "Online & In-Person     48\n",
       "In-Person              32\n",
       "Name: hmsc_course, dtype: int64"
      ]
     },
     "execution_count": 15,
     "metadata": {},
     "output_type": "execute_result"
    }
   ],
   "source": [
    "hmsc_df['hmsc_course'].value_counts()"
   ]
  },
  {
   "cell_type": "markdown",
   "metadata": {},
   "source": [
    "A large majority of parents did not train to start homeschooling their kids. What percentage of parents actually choose to take a course in preparation to homeschool?"
   ]
  },
  {
   "cell_type": "code",
   "execution_count": 16,
   "metadata": {},
   "outputs": [
    {
     "data": {
      "text/plain": [
       "0.23550724637681164"
      ]
     },
     "execution_count": 16,
     "metadata": {},
     "output_type": "execute_result"
    }
   ],
   "source": [
    "#Number of parents who did not take any courses\n",
    "no_course_sum = sum(hmsc_df['hmsc_course'] == 'No Course')\n",
    "\n",
    "#Percent of parents who did not take any courses \n",
    "no_course_pct = no_course_sum/(hmsc_df['hmsc_course'].count())\n",
    "\n",
    "#Percent of parents who DID TAKE a course\n",
    "1-no_course_pct"
   ]
  },
  {
   "cell_type": "markdown",
   "metadata": {},
   "source": [
    "Only 23.6% of parents took a course to prepare for homeschooling their children. I suppose if one has enough education themselves they may not need to take a course to help follow a lesson plan. In that case, what is the average education level of parents who homeschool?\n",
    "\n",
    "## Question 6:\n",
    "### What is the education levels of parents who homeschool?"
   ]
  },
  {
   "cell_type": "code",
   "execution_count": 17,
   "metadata": {},
   "outputs": [
    {
     "data": {
      "text/plain": [
       "Vocational/Technical School          175\n",
       "College Graduate                     142\n",
       "Graduate/Professional School         105\n",
       "High School Diploma or Equivalent     76\n",
       "No High School Credential             54\n",
       "Name: parent_educ_cat, dtype: int64"
      ]
     },
     "execution_count": 17,
     "metadata": {},
     "output_type": "execute_result"
    }
   ],
   "source": [
    "parent_educ_dict = {1: \"No High School Credential\",\n",
    "                   2: \"High School Diploma or Equivalent\",\n",
    "                   3: \"Vocational/Technical School\",\n",
    "                   4: \"College Graduate\",\n",
    "                   5: \"Graduate/Professional School\"}\n",
    "\n",
    "hmsc_df['parent_educ_cat'] = hmsc_df['parent_educ'].map(parent_educ_dict)\n",
    "hmsc_df['parent_educ_cat'].value_counts()"
   ]
  },
  {
   "cell_type": "code",
   "execution_count": 18,
   "metadata": {},
   "outputs": [
    {
     "name": "stdout",
     "output_type": "stream",
     "text": [
      "3.3043478260869565\n",
      "3.0\n"
     ]
    }
   ],
   "source": [
    "print(hmsc_df['parent_educ'].mean())\n",
    "print(hmsc_df['parent_educ'].median())"
   ]
  },
  {
   "cell_type": "markdown",
   "metadata": {},
   "source": [
    "The category that corresponds to a mean and median of 3 is Vocational/Technical School; therefore, the average parent who homeschools has a associate's degree or trade certificate. What are the proportions of homeschooling parents who have any kind of post-secondary schooling (associate's degree/certificate or higher)?"
   ]
  },
  {
   "cell_type": "code",
   "execution_count": 19,
   "metadata": {},
   "outputs": [
    {
     "data": {
      "text/plain": [
       "0.7644927536231885"
      ]
     },
     "execution_count": 19,
     "metadata": {},
     "output_type": "execute_result"
    }
   ],
   "source": [
    "diploma_less_sum = sum(hmsc_df['parent_educ_cat'] == \"High School Diploma or Equivalent\") + sum(hmsc_df['parent_educ_cat'] == 'No High School Credential')\n",
    "diploma_less_pct = diploma_less_sum/(hmsc_df['parent_educ_cat'].count())\n",
    "1-diploma_less_pct"
   ]
  },
  {
   "cell_type": "markdown",
   "metadata": {},
   "source": [
    "More than three quarters of parents who homeschooled in 2016 had post-secondary schooling (76.4% of them did). This says that most parents have an educational background that is probably sufficient to explain more difficult subjects to their children. "
   ]
  },
  {
   "cell_type": "markdown",
   "metadata": {},
   "source": [
    "Given that homeschooling may require that at least one parent stay home from work to teach the child, I think that families who homeschool must have a higher income. If they are able to willingly forgo one source of income, they must have the financial ability to do so. Also, if that family has hired a private tutor or teacher, that would cost more money than sending a child to public school. I think that homeschool families will have an average income similar to families who send their children to private schools, and public school families will have a lower average income.\n",
    "\n",
    "## Question 7:\n",
    "### What was the average income for public school/private school/homsechool families?"
   ]
  },
  {
   "cell_type": "code",
   "execution_count": 20,
   "metadata": {},
   "outputs": [],
   "source": [
    "income_cat_dict = {1: '$0 to $10,000',\n",
    "                  2: '$10,001 to $20,000',\n",
    "                  3: '$20,001 to $30,000',\n",
    "                  4: '$30,001 to $40,000',\n",
    "                  5: '$40,001 to $50,000',\n",
    "                   6: '$50,001 to $60,000',\n",
    "                  7: '$60,001 to $75,000',\n",
    "                  8: '$75,001 to $100,000',\n",
    "                  9: '$100,001 to $150,000',\n",
    "                  10: '$150,001 or more'}\n",
    "\n",
    "nhes_df['ttl_income_cat'] = nhes_df['ttl_income'].map(income_cat_dict)"
   ]
  },
  {
   "cell_type": "code",
   "execution_count": 21,
   "metadata": {
    "scrolled": true
   },
   "outputs": [
    {
     "data": {
      "text/plain": [
       "school_type     ttl_income_cat      \n",
       "Homeschooled    $75,001 to $100,000       87\n",
       "                $100,001 to $150,000      64\n",
       "                $60,001 to $75,000        61\n",
       "                $20,001 to $30,000        58\n",
       "                $10,001 to $20,000        54\n",
       "                $40,001 to $50,000        53\n",
       "                $30,001 to $40,000        50\n",
       "                $50,001 to $60,000        48\n",
       "                $0 to $10,000             44\n",
       "                $150,001 or more          33\n",
       "Private School  $150,001 or more         585\n",
       "                $100,001 to $150,000     296\n",
       "                $75,001 to $100,000      185\n",
       "                $60,001 to $75,000       110\n",
       "                $30,001 to $40,000        80\n",
       "                $40,001 to $50,000        78\n",
       "                $50,001 to $60,000        75\n",
       "                $20,001 to $30,000        65\n",
       "                $10,001 to $20,000        35\n",
       "                $0 to $10,000             23\n",
       "Public School   $100,001 to $150,000    1971\n",
       "                $150,001 or more        1847\n",
       "                $75,001 to $100,000     1810\n",
       "                $60,001 to $75,000      1085\n",
       "                $20,001 to $30,000      1037\n",
       "                $30,001 to $40,000      1024\n",
       "                $40,001 to $50,000       867\n",
       "                $10,001 to $20,000       862\n",
       "                $50,001 to $60,000       855\n",
       "                $0 to $10,000            633\n",
       "Name: ttl_income_cat, dtype: int64"
      ]
     },
     "execution_count": 21,
     "metadata": {},
     "output_type": "execute_result"
    }
   ],
   "source": [
    "nhes_df.groupby('school_type')['ttl_income_cat'].value_counts()"
   ]
  },
  {
   "cell_type": "code",
   "execution_count": 22,
   "metadata": {
    "scrolled": true
   },
   "outputs": [
    {
     "data": {
      "text/plain": [
       "school_type\n",
       "Homeschooled      5.630435\n",
       "Private School    7.971279\n",
       "Public School     6.447586\n",
       "Name: ttl_income, dtype: float64"
      ]
     },
     "execution_count": 22,
     "metadata": {},
     "output_type": "execute_result"
    }
   ],
   "source": [
    "nhes_df.groupby('school_type')['ttl_income'].mean()"
   ]
  },
  {
   "cell_type": "markdown",
   "metadata": {},
   "source": [
    "Each of these averages refers to an income bracket. According to figures from the codebook, the average private school family earns between $60,001 to $75,000 per year (but closely verges on $75,001 to $100,000). The average public school family earns between $50,001 to $60,000, and the average homeschool family earns between $40,001 to $50,000 per year. On second thought, it is not surprising to see that homeschool families earn less than public school families because they are, indeed, likely to only have one income. It may be that the average income for the one parent who does not homeschool is higher relative to the income of one parent of a public school student. However, if that child comes from a two-parent family, the household income doubles as a result of both parents being employed."
   ]
  },
  {
   "cell_type": "markdown",
   "metadata": {},
   "source": [
    "## Question 8:\n",
    "### If the child is homeschooled over the internet, what entity provides their instruction?"
   ]
  },
  {
   "cell_type": "code",
   "execution_count": 23,
   "metadata": {
    "scrolled": true
   },
   "outputs": [
    {
     "data": {
      "image/png": "[encoded data removed]",
      "text/plain": [
       "<Figure size 360x216 with 1 Axes>"
      ]
     },
     "metadata": {
      "needs_background": "light"
     },
     "output_type": "display_data"
    }
   ],
   "source": [
    "internet_hmsc = ['Local Public School', 'State', 'Charter School', 'Another Public School', \n",
    "                 'College', 'Someplace Else']\n",
    "\n",
    "internet_hmsc_count = (hmsc_df[internet_hmsc]==1).sum()\n",
    "int_hmsc_plt = internet_hmsc_count.sort_values(ascending=False).plot(kind='barh', \n",
    "                                                      title = \"Provider of Internet Homeschool Instruction\",\n",
    "                                                     xlabel = \"Provider\",\n",
    "                                                     ylabel = 'Number of Parents Who Use the Provider',\n",
    "                                                        figsize = (5,3))\n",
    "int_hmsc_plt.get_figure().savefig('../data_story_presentation/img/internet_hmsc_count.jpg', \n",
    "                                  bbox_inches='tight', dpi=300)"
   ]
  },
  {
   "cell_type": "markdown",
   "metadata": {},
   "source": [
    "Because the 'Someplace else\" is not specified, it is difficult to get a true sense of how children receive online education. The next few popular options were charter schools, state K-12 schools, and online classes offered by local public schools. "
   ]
  },
  {
   "cell_type": "markdown",
   "metadata": {},
   "source": [
    "Unfortunately, the homeschool data does not have potential dependent variables, bu thte data for enrolled children does. Similar to the regressions form the OECD data, I am curious whether children with more involved parents do better in school.\n",
    "\n",
    "## Some linear regressions with the 'Enrolled\" data frame\n",
    "\n",
    "## Question 9:\n",
    "### Do public school children who have more meals with their family also have better behavior?\n",
    "Does the number of notes celebrating a child's good behavior increase with the more time families spend together over meals?"
   ]
  },
  {
   "cell_type": "code",
   "execution_count": 24,
   "metadata": {
    "scrolled": false
   },
   "outputs": [
    {
     "data": {
      "text/html": [
       "<table class=\"simpletable\">\n",
       "<caption>OLS Regression Results</caption>\n",
       "<tr>\n",
       "  <th>Dep. Variable:</th>      <td>behavior_good</td>  <th>  R-squared:         </th> <td>   0.002</td> \n",
       "</tr>\n",
       "<tr>\n",
       "  <th>Model:</th>                   <td>OLS</td>       <th>  Adj. R-squared:    </th> <td>   0.002</td> \n",
       "</tr>\n",
       "<tr>\n",
       "  <th>Method:</th>             <td>Least Squares</td>  <th>  F-statistic:       </th> <td>   28.36</td> \n",
       "</tr>\n",
       "<tr>\n",
       "  <th>Date:</th>             <td>Wed, 30 Dec 2020</td> <th>  Prob (F-statistic):</th> <td>1.02e-07</td> \n",
       "</tr>\n",
       "<tr>\n",
       "  <th>Time:</th>                 <td>17:07:51</td>     <th>  Log-Likelihood:    </th> <td> -36533.</td> \n",
       "</tr>\n",
       "<tr>\n",
       "  <th>No. Observations:</th>      <td> 13523</td>      <th>  AIC:               </th> <td>7.307e+04</td>\n",
       "</tr>\n",
       "<tr>\n",
       "  <th>Df Residuals:</th>          <td> 13521</td>      <th>  BIC:               </th> <td>7.309e+04</td>\n",
       "</tr>\n",
       "<tr>\n",
       "  <th>Df Model:</th>              <td>     1</td>      <th>                     </th>     <td> </td>    \n",
       "</tr>\n",
       "<tr>\n",
       "  <th>Covariance Type:</th>      <td>nonrobust</td>    <th>                     </th>     <td> </td>    \n",
       "</tr>\n",
       "</table>\n",
       "<table class=\"simpletable\">\n",
       "<tr>\n",
       "        <td></td>           <th>coef</th>     <th>std err</th>      <th>t</th>      <th>P>|t|</th>  <th>[0.025</th>    <th>0.975]</th>  \n",
       "</tr>\n",
       "<tr>\n",
       "  <th>Intercept</th>     <td>    0.8417</td> <td>    0.078</td> <td>   10.861</td> <td> 0.000</td> <td>    0.690</td> <td>    0.994</td>\n",
       "</tr>\n",
       "<tr>\n",
       "  <th>meal_together</th> <td>    0.0796</td> <td>    0.015</td> <td>    5.326</td> <td> 0.000</td> <td>    0.050</td> <td>    0.109</td>\n",
       "</tr>\n",
       "</table>\n",
       "<table class=\"simpletable\">\n",
       "<tr>\n",
       "  <th>Omnibus:</th>       <td>23272.256</td> <th>  Durbin-Watson:     </th>   <td>   2.016</td>  \n",
       "</tr>\n",
       "<tr>\n",
       "  <th>Prob(Omnibus):</th>  <td> 0.000</td>   <th>  Jarque-Bera (JB):  </th> <td>32093608.579</td>\n",
       "</tr>\n",
       "<tr>\n",
       "  <th>Skew:</th>           <td>11.896</td>   <th>  Prob(JB):          </th>   <td>    0.00</td>  \n",
       "</tr>\n",
       "<tr>\n",
       "  <th>Kurtosis:</th>       <td>240.470</td>  <th>  Cond. No.          </th>   <td>    13.4</td>  \n",
       "</tr>\n",
       "</table><br/><br/>Notes:<br/>[1] Standard Errors assume that the covariance matrix of the errors is correctly specified."
      ],
      "text/plain": [
       "<class 'statsmodels.iolib.summary.Summary'>\n",
       "\"\"\"\n",
       "                            OLS Regression Results                            \n",
       "==============================================================================\n",
       "Dep. Variable:          behavior_good   R-squared:                       0.002\n",
       "Model:                            OLS   Adj. R-squared:                  0.002\n",
       "Method:                 Least Squares   F-statistic:                     28.36\n",
       "Date:                Wed, 30 Dec 2020   Prob (F-statistic):           1.02e-07\n",
       "Time:                        17:07:51   Log-Likelihood:                -36533.\n",
       "No. Observations:               13523   AIC:                         7.307e+04\n",
       "Df Residuals:                   13521   BIC:                         7.309e+04\n",
       "Df Model:                           1                                         \n",
       "Covariance Type:            nonrobust                                         \n",
       "=================================================================================\n",
       "                    coef    std err          t      P>|t|      [0.025      0.975]\n",
       "---------------------------------------------------------------------------------\n",
       "Intercept         0.8417      0.078     10.861      0.000       0.690       0.994\n",
       "meal_together     0.0796      0.015      5.326      0.000       0.050       0.109\n",
       "==============================================================================\n",
       "Omnibus:                    23272.256   Durbin-Watson:                   2.016\n",
       "Prob(Omnibus):                  0.000   Jarque-Bera (JB):         32093608.579\n",
       "Skew:                          11.896   Prob(JB):                         0.00\n",
       "Kurtosis:                     240.470   Cond. No.                         13.4\n",
       "==============================================================================\n",
       "\n",
       "Notes:\n",
       "[1] Standard Errors assume that the covariance matrix of the errors is correctly specified.\n",
       "\"\"\""
      ]
     },
     "execution_count": 24,
     "metadata": {},
     "output_type": "execute_result"
    }
   ],
   "source": [
    "model1 = smf.ols('behavior_good ~ meal_together', data=enroll_df).fit()\n",
    "model1.summary()"
   ]
  },
  {
   "cell_type": "code",
   "execution_count": 25,
   "metadata": {},
   "outputs": [
    {
     "data": {
      "text/plain": [
       "<seaborn.axisgrid.FacetGrid at 0x7f200bd47c18>"
      ]
     },
     "execution_count": 25,
     "metadata": {},
     "output_type": "execute_result"
    },
    {
     "data": {
      "image/png": "[encoded data removed]",
      "text/plain": [
       "<Figure size 360x360 with 1 Axes>"
      ]
     },
     "metadata": {
      "needs_background": "light"
     },
     "output_type": "display_data"
    }
   ],
   "source": [
    "sns.lmplot(x='meal_together', y='behavior_good', x_jitter=.2, y_jitter=.2, data=enroll_df, markers=\"o\")"
   ]
  },
  {
   "cell_type": "code",
   "execution_count": 26,
   "metadata": {},
   "outputs": [
    {
     "data": {
      "text/plain": [
       "0.0457529324377427"
      ]
     },
     "execution_count": 26,
     "metadata": {},
     "output_type": "execute_result"
    }
   ],
   "source": [
    "#The correlation coefficient\n",
    "enroll_df.corr().loc['meal_together', 'behavior_good']"
   ]
  },
  {
   "cell_type": "code",
   "execution_count": 27,
   "metadata": {},
   "outputs": [
    {
     "data": {
      "text/plain": [
       "13523"
      ]
     },
     "execution_count": 27,
     "metadata": {},
     "output_type": "execute_result"
    }
   ],
   "source": [
    "enroll_df['meal_together'].count()"
   ]
  },
  {
   "cell_type": "markdown",
   "metadata": {},
   "source": [
    "There is a significant relationship between bonding over meals and good behavior. Looking at the regression plots, it seems like these relationships should not be significant, but there are about 13,523 observations accounted for in the regression model. For each additional meal a child has with their family, teachers send home .07 more good behavior notes on average.\n",
    "\n",
    "## Question 10:\n",
    "### Do children receive better grades the more a parent helps them with their homework?\n",
    "Is there an association between higher letter grades the number of hours parents spend helping their children with homework?"
   ]
  },
  {
   "cell_type": "code",
   "execution_count": 28,
   "metadata": {
    "scrolled": false
   },
   "outputs": [
    {
     "data": {
      "text/html": [
       "<table class=\"simpletable\">\n",
       "<caption>OLS Regression Results</caption>\n",
       "<tr>\n",
       "  <th>Dep. Variable:</th>         <td>grades</td>      <th>  R-squared:         </th> <td>   0.007</td> \n",
       "</tr>\n",
       "<tr>\n",
       "  <th>Model:</th>                   <td>OLS</td>       <th>  Adj. R-squared:    </th> <td>   0.007</td> \n",
       "</tr>\n",
       "<tr>\n",
       "  <th>Method:</th>             <td>Least Squares</td>  <th>  F-statistic:       </th> <td>   95.83</td> \n",
       "</tr>\n",
       "<tr>\n",
       "  <th>Date:</th>             <td>Wed, 30 Dec 2020</td> <th>  Prob (F-statistic):</th> <td>1.50e-22</td> \n",
       "</tr>\n",
       "<tr>\n",
       "  <th>Time:</th>                 <td>17:07:53</td>     <th>  Log-Likelihood:    </th> <td> -21375.</td> \n",
       "</tr>\n",
       "<tr>\n",
       "  <th>No. Observations:</th>      <td> 12795</td>      <th>  AIC:               </th> <td>4.275e+04</td>\n",
       "</tr>\n",
       "<tr>\n",
       "  <th>Df Residuals:</th>          <td> 12793</td>      <th>  BIC:               </th> <td>4.277e+04</td>\n",
       "</tr>\n",
       "<tr>\n",
       "  <th>Df Model:</th>              <td>     1</td>      <th>                     </th>     <td> </td>    \n",
       "</tr>\n",
       "<tr>\n",
       "  <th>Covariance Type:</th>      <td>nonrobust</td>    <th>                     </th>     <td> </td>    \n",
       "</tr>\n",
       "</table>\n",
       "<table class=\"simpletable\">\n",
       "<tr>\n",
       "      <td></td>         <th>coef</th>     <th>std err</th>      <th>t</th>      <th>P>|t|</th>  <th>[0.025</th>    <th>0.975]</th>  \n",
       "</tr>\n",
       "<tr>\n",
       "  <th>Intercept</th> <td>    1.8020</td> <td>    0.025</td> <td>   73.295</td> <td> 0.000</td> <td>    1.754</td> <td>    1.850</td>\n",
       "</tr>\n",
       "<tr>\n",
       "  <th>hw_help</th>   <td>    0.0847</td> <td>    0.009</td> <td>    9.789</td> <td> 0.000</td> <td>    0.068</td> <td>    0.102</td>\n",
       "</tr>\n",
       "</table>\n",
       "<table class=\"simpletable\">\n",
       "<tr>\n",
       "  <th>Omnibus:</th>       <td>2229.768</td> <th>  Durbin-Watson:     </th> <td>   1.995</td>\n",
       "</tr>\n",
       "<tr>\n",
       "  <th>Prob(Omnibus):</th>  <td> 0.000</td>  <th>  Jarque-Bera (JB):  </th> <td>3580.852</td>\n",
       "</tr>\n",
       "<tr>\n",
       "  <th>Skew:</th>           <td> 1.269</td>  <th>  Prob(JB):          </th> <td>    0.00</td>\n",
       "</tr>\n",
       "<tr>\n",
       "  <th>Kurtosis:</th>       <td> 3.529</td>  <th>  Cond. No.          </th> <td>    6.75</td>\n",
       "</tr>\n",
       "</table><br/><br/>Notes:<br/>[1] Standard Errors assume that the covariance matrix of the errors is correctly specified."
      ],
      "text/plain": [
       "<class 'statsmodels.iolib.summary.Summary'>\n",
       "\"\"\"\n",
       "                            OLS Regression Results                            \n",
       "==============================================================================\n",
       "Dep. Variable:                 grades   R-squared:                       0.007\n",
       "Model:                            OLS   Adj. R-squared:                  0.007\n",
       "Method:                 Least Squares   F-statistic:                     95.83\n",
       "Date:                Wed, 30 Dec 2020   Prob (F-statistic):           1.50e-22\n",
       "Time:                        17:07:53   Log-Likelihood:                -21375.\n",
       "No. Observations:               12795   AIC:                         4.275e+04\n",
       "Df Residuals:                   12793   BIC:                         4.277e+04\n",
       "Df Model:                           1                                         \n",
       "Covariance Type:            nonrobust                                         \n",
       "==============================================================================\n",
       "                 coef    std err          t      P>|t|      [0.025      0.975]\n",
       "------------------------------------------------------------------------------\n",
       "Intercept      1.8020      0.025     73.295      0.000       1.754       1.850\n",
       "hw_help        0.0847      0.009      9.789      0.000       0.068       0.102\n",
       "==============================================================================\n",
       "Omnibus:                     2229.768   Durbin-Watson:                   1.995\n",
       "Prob(Omnibus):                  0.000   Jarque-Bera (JB):             3580.852\n",
       "Skew:                           1.269   Prob(JB):                         0.00\n",
       "Kurtosis:                       3.529   Cond. No.                         6.75\n",
       "==============================================================================\n",
       "\n",
       "Notes:\n",
       "[1] Standard Errors assume that the covariance matrix of the errors is correctly specified.\n",
       "\"\"\""
      ]
     },
     "execution_count": 28,
     "metadata": {},
     "output_type": "execute_result"
    }
   ],
   "source": [
    "model2 = smf.ols('grades ~ hw_help', data=enroll_df).fit()\n",
    "model2.summary()"
   ]
  },
  {
   "cell_type": "code",
   "execution_count": 29,
   "metadata": {},
   "outputs": [
    {
     "data": {
      "text/plain": [
       "1.4990069919135698e-22"
      ]
     },
     "execution_count": 29,
     "metadata": {},
     "output_type": "execute_result"
    }
   ],
   "source": [
    "model2.pvalues.loc['hw_help']"
   ]
  },
  {
   "cell_type": "code",
   "execution_count": 30,
   "metadata": {
    "scrolled": false
   },
   "outputs": [
    {
     "data": {
      "text/plain": [
       "<seaborn.axisgrid.FacetGrid at 0x7f20084237b8>"
      ]
     },
     "execution_count": 30,
     "metadata": {},
     "output_type": "execute_result"
    },
    {
     "data": {
      "image/png": "[encoded data removed]",
      "text/plain": [
       "<Figure size 360x360 with 1 Axes>"
      ]
     },
     "metadata": {
      "needs_background": "light"
     },
     "output_type": "display_data"
    }
   ],
   "source": [
    "sns.lmplot(x='hw_help', y='grades', x_jitter=.2, y_jitter=.2, data=enroll_df, markers=\"o\")"
   ]
  },
  {
   "cell_type": "code",
   "execution_count": 31,
   "metadata": {},
   "outputs": [
    {
     "data": {
      "text/plain": [
       "0.08622901099631745"
      ]
     },
     "execution_count": 31,
     "metadata": {},
     "output_type": "execute_result"
    }
   ],
   "source": [
    "#The correlation coefficient\n",
    "enroll_df.corr().loc['grades', 'hw_help']"
   ]
  },
  {
   "cell_type": "markdown",
   "metadata": {},
   "source": [
    "There is a significant relationship between hours of homework help and better letter grades; for each additonal hour parents spend helping their child with homework, their grade increases very slightly. The correlation is near .1 so there is a very weak, positive correlation."
   ]
  }
 ],
 "metadata": {
  "kernelspec": {
   "display_name": "Python 3",
   "language": "python",
   "name": "python3"
  },
  "language_info": {
   "codemirror_mode": {
    "name": "ipython",
    "version": 3
   },
   "file_extension": ".py",
   "mimetype": "text/x-python",
   "name": "python",
   "nbconvert_exporter": "python",
   "pygments_lexer": "ipython3",
   "version": "3.7.3"
  }
 },
 "nbformat": 4,
 "nbformat_minor": 2
}
