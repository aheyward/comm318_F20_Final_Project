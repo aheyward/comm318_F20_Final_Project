{
 "cells": [
  {
   "cell_type": "markdown",
   "metadata": {},
   "source": [
    "# Data Analysis: Google Trends Data\n",
    "\n",
    "This notebook examines search trends for educational resources during lockdowns. Parents may have searched these topics to find help for their students studying from home due to COVID-19. I pulled the Google Trends data or four search terms: 'online tutoring', 'online public school', 'learning pod', and 'how to homeschool.' I chose to use data from the beginning of the Fall 2019 semester to the end of the 2020 Fall semester to better visualize search differences during a completely normal school term and the abnormal ones. \n",
    "\n",
    "I answer the following question in this notebook:\n",
    "* In which week was a certain search term most popular?\n",
    "* In which state was a certain search term most or least popular?"
   ]
  },
  {
   "cell_type": "code",
   "execution_count": 1,
   "metadata": {},
   "outputs": [],
   "source": [
    "import pandas as pd\n",
    "from matplotlib.dates import DateFormatter\n",
    "import matplotlib.pyplot as plt\n",
    "import warnings\n",
    "warnings.filterwarnings('ignore')"
   ]
  },
  {
   "cell_type": "markdown",
   "metadata": {},
   "source": [
    "### Load the Data"
   ]
  },
  {
   "cell_type": "code",
   "execution_count": 2,
   "metadata": {},
   "outputs": [],
   "source": [
    "tutor_df =  pd.read_csv('../data/raw/online_tutor_multiTimeline.csv')"
   ]
  },
  {
   "cell_type": "markdown",
   "metadata": {},
   "source": [
    "### Checking the distribution of the data"
   ]
  },
  {
   "cell_type": "code",
   "execution_count": 3,
   "metadata": {
    "scrolled": false
   },
   "outputs": [
    {
     "data": {
      "text/plain": [
       "(73, 1)"
      ]
     },
     "execution_count": 3,
     "metadata": {},
     "output_type": "execute_result"
    }
   ],
   "source": [
    "tutor_df.shape"
   ]
  },
  {
   "cell_type": "code",
   "execution_count": 4,
   "metadata": {
    "scrolled": true
   },
   "outputs": [
    {
     "data": {
      "text/html": [
       "<div>\n",
       "<style scoped>\n",
       "    .dataframe tbody tr th:only-of-type {\n",
       "        vertical-align: middle;\n",
       "    }\n",
       "\n",
       "    .dataframe tbody tr th {\n",
       "        vertical-align: top;\n",
       "    }\n",
       "\n",
       "    .dataframe thead th {\n",
       "        text-align: right;\n",
       "    }\n",
       "</style>\n",
       "<table border=\"1\" class=\"dataframe\">\n",
       "  <thead>\n",
       "    <tr style=\"text-align: right;\">\n",
       "      <th></th>\n",
       "      <th></th>\n",
       "      <th></th>\n",
       "      <th></th>\n",
       "      <th>Category: All categories</th>\n",
       "    </tr>\n",
       "  </thead>\n",
       "  <tbody>\n",
       "    <tr>\n",
       "      <th>Week</th>\n",
       "      <th>online tutoring: (United States)</th>\n",
       "      <th>online public schools: (United States)</th>\n",
       "      <th>learning pod: (United States)</th>\n",
       "      <td>how to homeschool: (United States)</td>\n",
       "    </tr>\n",
       "    <tr>\n",
       "      <th>2019-08-04</th>\n",
       "      <th>12</th>\n",
       "      <th>15</th>\n",
       "      <th>0</th>\n",
       "      <td>33</td>\n",
       "    </tr>\n",
       "    <tr>\n",
       "      <th>2019-08-11</th>\n",
       "      <th>24</th>\n",
       "      <th>20</th>\n",
       "      <th>1</th>\n",
       "      <td>39</td>\n",
       "    </tr>\n",
       "    <tr>\n",
       "      <th>2019-08-18</th>\n",
       "      <th>24</th>\n",
       "      <th>11</th>\n",
       "      <th>0</th>\n",
       "      <td>27</td>\n",
       "    </tr>\n",
       "    <tr>\n",
       "      <th>2019-08-25</th>\n",
       "      <th>20</th>\n",
       "      <th>6</th>\n",
       "      <th>2</th>\n",
       "      <td>35</td>\n",
       "    </tr>\n",
       "  </tbody>\n",
       "</table>\n",
       "</div>"
      ],
      "text/plain": [
       "                                                                                                                            Category: All categories\n",
       "Week       online tutoring: (United States) online public schools: (United States) learning pod: (United States)  how to homeschool: (United States)\n",
       "2019-08-04 12                               15                                     0                                                              33\n",
       "2019-08-11 24                               20                                     1                                                              39\n",
       "2019-08-18 24                               11                                     0                                                              27\n",
       "2019-08-25 20                               6                                      2                                                              35"
      ]
     },
     "execution_count": 4,
     "metadata": {},
     "output_type": "execute_result"
    }
   ],
   "source": [
    "tutor_df.head()"
   ]
  },
  {
   "cell_type": "code",
   "execution_count": 5,
   "metadata": {},
   "outputs": [
    {
     "data": {
      "text/plain": [
       "Index(['Category: All categories'], dtype='object')"
      ]
     },
     "execution_count": 5,
     "metadata": {},
     "output_type": "execute_result"
    }
   ],
   "source": [
    "tutor_df.columns"
   ]
  },
  {
   "cell_type": "markdown",
   "metadata": {
    "slideshow": {
     "slide_type": "subslide"
    }
   },
   "source": [
    "Because the first row consists only of the column names, there are 72 weeks of data in the data set. I'd like to turn the first row into column names, and then read the first column in as a date object so that data can be indexed as dates."
   ]
  },
  {
   "cell_type": "markdown",
   "metadata": {},
   "source": [
    "### Reading in the data with the first column as a date object"
   ]
  },
  {
   "cell_type": "code",
   "execution_count": 6,
   "metadata": {},
   "outputs": [],
   "source": [
    "tutor2_df = pd.read_csv('../data/raw/online_tutor_multiTimeline.csv',\n",
    "                       skiprows=1,\n",
    "                       index_col=0,\n",
    "                       parse_dates=True\n",
    "                      )"
   ]
  },
  {
   "cell_type": "code",
   "execution_count": 7,
   "metadata": {
    "scrolled": false
   },
   "outputs": [
    {
     "data": {
      "text/plain": [
       "DatetimeIndex(['2019-08-04', '2019-08-11', '2019-08-18', '2019-08-25',\n",
       "               '2019-09-01', '2019-09-08', '2019-09-15', '2019-09-22',\n",
       "               '2019-09-29', '2019-10-06', '2019-10-13', '2019-10-20',\n",
       "               '2019-10-27', '2019-11-03', '2019-11-10', '2019-11-17',\n",
       "               '2019-11-24', '2019-12-01', '2019-12-08', '2019-12-15',\n",
       "               '2019-12-22', '2019-12-29', '2020-01-05', '2020-01-12',\n",
       "               '2020-01-19', '2020-01-26', '2020-02-02', '2020-02-09',\n",
       "               '2020-02-16', '2020-02-23', '2020-03-01', '2020-03-08',\n",
       "               '2020-03-15', '2020-03-22', '2020-03-29', '2020-04-05',\n",
       "               '2020-04-12', '2020-04-19', '2020-04-26', '2020-05-03',\n",
       "               '2020-05-10', '2020-05-17', '2020-05-24', '2020-05-31',\n",
       "               '2020-06-07', '2020-06-14', '2020-06-21', '2020-06-28',\n",
       "               '2020-07-05', '2020-07-12', '2020-07-19', '2020-07-26',\n",
       "               '2020-08-02', '2020-08-09', '2020-08-16', '2020-08-23',\n",
       "               '2020-08-30', '2020-09-06', '2020-09-13', '2020-09-20',\n",
       "               '2020-09-27', '2020-10-04', '2020-10-11', '2020-10-18',\n",
       "               '2020-10-25', '2020-11-01', '2020-11-08', '2020-11-15',\n",
       "               '2020-11-22', '2020-11-29', '2020-12-06', '2020-12-13'],\n",
       "              dtype='datetime64[ns]', name='Week', freq=None)"
      ]
     },
     "execution_count": 7,
     "metadata": {},
     "output_type": "execute_result"
    }
   ],
   "source": [
    "tutor2_df.index"
   ]
  },
  {
   "cell_type": "code",
   "execution_count": 8,
   "metadata": {
    "scrolled": true
   },
   "outputs": [
    {
     "data": {
      "text/plain": [
       "Index(['online tutoring: (United States)',\n",
       "       'online public schools: (United States)',\n",
       "       'learning pod: (United States)', 'how to homeschool: (United States)'],\n",
       "      dtype='object')"
      ]
     },
     "execution_count": 8,
     "metadata": {},
     "output_type": "execute_result"
    }
   ],
   "source": [
    "#Checking that the first row is now the column names\n",
    "tutor2_df.columns"
   ]
  },
  {
   "cell_type": "markdown",
   "metadata": {},
   "source": [
    "I don't want the extra characters following the search term to be in the columns because they will also show up in the graph.\n",
    "\n",
    "### Renaming the columns to remove the extra \"`: (United States)`\""
   ]
  },
  {
   "cell_type": "code",
   "execution_count": 9,
   "metadata": {},
   "outputs": [
    {
     "data": {
      "text/plain": [
       "Index(['online tutoring', 'online public school', 'learning pod',\n",
       "       'how to homeschool'],\n",
       "      dtype='object')"
      ]
     },
     "execution_count": 9,
     "metadata": {},
     "output_type": "execute_result"
    }
   ],
   "source": [
    "#Create a mapping dictionary\n",
    "rename_search = {'online tutoring: (United States)': 'online tutoring',\n",
    "                 'online public schools: (United States)' : 'online public school',\n",
    "                 'learning pod: (United States)' : 'learning pod',\n",
    "                 'how to homeschool: (United States)' : 'how to homeschool'}\n",
    "#Renaming the columns and saving it as a new data frame\n",
    "tutor2_df = tutor2_df.rename(columns = rename_search)\n",
    "tutor2_df.columns"
   ]
  },
  {
   "cell_type": "markdown",
   "metadata": {},
   "source": [
    "### Plotting the data in a line graph"
   ]
  },
  {
   "cell_type": "code",
   "execution_count": 10,
   "metadata": {
    "scrolled": true
   },
   "outputs": [
    {
     "data": {
      "image/png": "[encoded data removed]",
      "text/plain": [
       "<Figure size 1080x288 with 1 Axes>"
      ]
     },
     "metadata": {
      "needs_background": "light"
     },
     "output_type": "display_data"
    }
   ],
   "source": [
    "# find maximum search popularity for each term and plot in the graph\n",
    "online_tutor_max = tutor2_df['online tutoring'].idxmax()\n",
    "label = online_tutor_max.strftime('%d %B')\n",
    "\n",
    "homeschool_max = tutor2_df['how to homeschool'].idxmax()\n",
    "label2 = homeschool_max.strftime('%d %B')\n",
    "\n",
    "onl_pschl_max = tutor2_df['online public school'].idxmax()\n",
    "label3 = onl_pschl_max.strftime('%d %B')\n",
    "\n",
    "learn_pod_max = tutor2_df['learning pod'].idxmax()\n",
    "label4 = learn_pod_max.strftime('%d %B')\n",
    "\n",
    "#Plotting graph\n",
    "tplot = tutor2_df.plot(figsize = (15,4), xlabel='Week', \n",
    "                            ylabel='Average Weekly Popularity of Search Term',\n",
    "                           title='Popularity of Searches for Educational Resources'\n",
    "                      \n",
    "                      )\n",
    "\n",
    "tplot.legend(loc=2)\n",
    "\n",
    "#Creating lines to show max popularity\n",
    "tplot.vlines(online_tutor_max, 0, 100, linestyle='dotted', color='gray')\n",
    "tplot.text(online_tutor_max, 93, f'Peak of searches for\\nonline tutoring ({label})')\n",
    "\n",
    "tplot.vlines(homeschool_max, 0, 100, linestyle='dotted', color='gray')\n",
    "tplot.text(homeschool_max, 80, f'Peak of searches for\\nhow to homeschool ({label2})')\n",
    "\n",
    "tplot.vlines(onl_pschl_max, 0, 100, linestyle='dotted', color='gray')\n",
    "tplot.text(onl_pschl_max, 76, f'Peak of searches for\\nonline public school ({label3})')\n",
    "\n",
    "tplot.vlines(learn_pod_max, 0, 75, linestyle='dotted', color='gray')\n",
    "tplot.text(learn_pod_max, 65, f'Peak of searches for\\nlearning pod ({label4})')\n",
    "\n",
    "#Saving image to folder\n",
    "tplot.get_figure().savefig('../data_story_presentation/img/google_trends.jpg', \n",
    "                                  bbox_inches='tight', dpi=300)"
   ]
  },
  {
   "cell_type": "markdown",
   "metadata": {},
   "source": [
    "Between March 1 and March 21, searches for \"online tutoring,\" \"online public school,\" and \"how to homeschool\" showed a sharp increase, and searches for online tutors remained popular for the rest of the Spring 2020 semester.\n",
    "Interest rose again in early July and throughout August in preparation for the Fall 2020 semester, and people also began searching for more information about \"learning pods.\" Most interestingly, the searches for \"how to homeschool\" reached peak popularity during the third week of July. It seems parents consider homeschooling just before the start of every school year, and many more people gave thought to it during the pandemic. "
   ]
  },
  {
   "cell_type": "code",
   "execution_count": 11,
   "metadata": {},
   "outputs": [
    {
     "data": {
      "image/png": "[encoded data removed]",
      "text/plain": [
       "<Figure size 1080x288 with 1 Axes>"
      ]
     },
     "metadata": {
      "needs_background": "light"
     },
     "output_type": "display_data"
    }
   ],
   "source": [
    "#The MONTHLY average of popularity\n",
    "tutor_plot_month = tutor2_df.resample('M').mean().plot(figsize = (15,4), xlabel='Month', \n",
    "                            ylabel='Average Monthly Popularity of Search Term',\n",
    "                           title='Popularity of Searches for Educational Resources')\n",
    "tutor_plot_month.get_figure().savefig('../data_story_presentation/img/google_trends_month.jpg', \n",
    "                                  bbox_inches='tight', dpi=300)"
   ]
  },
  {
   "cell_type": "markdown",
   "metadata": {},
   "source": [
    "## Question 1: Which weeks yielded the highest percentage of searches?"
   ]
  },
  {
   "cell_type": "code",
   "execution_count": 12,
   "metadata": {},
   "outputs": [
    {
     "name": "stdout",
     "output_type": "stream",
     "text": [
      "71 42 23 100\n"
     ]
    }
   ],
   "source": [
    "#Maximum popularity of searches per search term\n",
    "max_search_tutor = max(tutor2_df['online tutoring'])\n",
    "max_search_public = max(tutor2_df['online public school'])\n",
    "max_search_pod = max(tutor2_df['learning pod'])\n",
    "max_search_hs = max(tutor2_df['how to homeschool'])\n",
    "\n",
    "print(max_search_tutor, max_search_public, max_search_pod, max_search_hs)"
   ]
  },
  {
   "cell_type": "code",
   "execution_count": 13,
   "metadata": {
    "scrolled": true
   },
   "outputs": [
    {
     "name": "stdout",
     "output_type": "stream",
     "text": [
      "            online tutoring  online public school  learning pod  \\\n",
      "Week                                                              \n",
      "2020-07-12               52                    25             1   \n",
      "\n",
      "            how to homeschool  \n",
      "Week                           \n",
      "2020-07-12                100  \n"
     ]
    }
   ],
   "source": [
    "#Index the week with the peak popularity of searches\n",
    "# print(tutor2_df.loc[tutor2_df['online tutoring']==max_search_tutor, ])\n",
    "# print(tutor2_df.loc[tutor2_df['online public school']==max_search_public, ])\n",
    "# print(tutor2_df.loc[tutor2_df['learning pod']==max_search_pod, ])\n",
    "print(tutor2_df.loc[tutor2_df['how to homeschool']==max_search_hs, ])\n"
   ]
  },
  {
   "cell_type": "markdown",
   "metadata": {},
   "source": [
    "The term \"online public school\" saw the most searches the week of March 15, for \"online public school,\" popularity peaked twice: once the week of of March 15, and again on July 19. For \"learning pod,\" peak popularity was the week of August 23, and for \"how to homeschool\" popularity reached 100 on July 12. This says that at the beginning of the school closures, people immediately started looking for online tutors (when people searched online public school, I think it may have just been for general information about the new format and opposed to actively searching for an online program.) As things got closer to the school year, people wanted to try new learning in place of traditional schooling, so they searched for more information about learning pods and homeschooling."
   ]
  },
  {
   "cell_type": "markdown",
   "metadata": {},
   "source": [
    "## Question 2: In which state was each search term most popular?\n",
    "\n",
    "This requires that I load in the second data frame with the state data (making sure to use the first row as column names and the first columns as indexes like before), and remove the dates from the column names as well."
   ]
  },
  {
   "cell_type": "code",
   "execution_count": 14,
   "metadata": {},
   "outputs": [],
   "source": [
    "#Load in the data\n",
    "map_df =  pd.read_csv('../data/raw/online_tutor_geoMap.csv',\n",
    "                      skiprows=1,\n",
    "                      index_col=0)"
   ]
  },
  {
   "cell_type": "code",
   "execution_count": 15,
   "metadata": {
    "scrolled": false
   },
   "outputs": [
    {
     "data": {
      "text/html": [
       "<div>\n",
       "<style scoped>\n",
       "    .dataframe tbody tr th:only-of-type {\n",
       "        vertical-align: middle;\n",
       "    }\n",
       "\n",
       "    .dataframe tbody tr th {\n",
       "        vertical-align: top;\n",
       "    }\n",
       "\n",
       "    .dataframe thead th {\n",
       "        text-align: right;\n",
       "    }\n",
       "</style>\n",
       "<table border=\"1\" class=\"dataframe\">\n",
       "  <thead>\n",
       "    <tr style=\"text-align: right;\">\n",
       "      <th></th>\n",
       "      <th>online tutoring: (8/1/19 - 12/18/20)</th>\n",
       "      <th>online public schools: (8/1/19 - 12/18/20)</th>\n",
       "      <th>learning pod: (8/1/19 - 12/18/20)</th>\n",
       "      <th>how to homeschool: (8/1/19 - 12/18/20)</th>\n",
       "    </tr>\n",
       "    <tr>\n",
       "      <th>Region</th>\n",
       "      <th></th>\n",
       "      <th></th>\n",
       "      <th></th>\n",
       "      <th></th>\n",
       "    </tr>\n",
       "  </thead>\n",
       "  <tbody>\n",
       "    <tr>\n",
       "      <th>Oklahoma</th>\n",
       "      <td>15%</td>\n",
       "      <td>58%</td>\n",
       "      <td>NaN</td>\n",
       "      <td>27%</td>\n",
       "    </tr>\n",
       "    <tr>\n",
       "      <th>West Virginia</th>\n",
       "      <td>16%</td>\n",
       "      <td>NaN</td>\n",
       "      <td>NaN</td>\n",
       "      <td>84%</td>\n",
       "    </tr>\n",
       "    <tr>\n",
       "      <th>Alabama</th>\n",
       "      <td>31%</td>\n",
       "      <td>9%</td>\n",
       "      <td>NaN</td>\n",
       "      <td>60%</td>\n",
       "    </tr>\n",
       "    <tr>\n",
       "      <th>Kentucky</th>\n",
       "      <td>23%</td>\n",
       "      <td>24%</td>\n",
       "      <td>NaN</td>\n",
       "      <td>53%</td>\n",
       "    </tr>\n",
       "    <tr>\n",
       "      <th>Mississippi</th>\n",
       "      <td>23%</td>\n",
       "      <td>18%</td>\n",
       "      <td>NaN</td>\n",
       "      <td>59%</td>\n",
       "    </tr>\n",
       "  </tbody>\n",
       "</table>\n",
       "</div>"
      ],
      "text/plain": [
       "              online tutoring: (8/1/19 - 12/18/20)  \\\n",
       "Region                                               \n",
       "Oklahoma                                       15%   \n",
       "West Virginia                                  16%   \n",
       "Alabama                                        31%   \n",
       "Kentucky                                       23%   \n",
       "Mississippi                                    23%   \n",
       "\n",
       "              online public schools: (8/1/19 - 12/18/20)  \\\n",
       "Region                                                     \n",
       "Oklahoma                                             58%   \n",
       "West Virginia                                        NaN   \n",
       "Alabama                                               9%   \n",
       "Kentucky                                             24%   \n",
       "Mississippi                                          18%   \n",
       "\n",
       "              learning pod: (8/1/19 - 12/18/20)  \\\n",
       "Region                                            \n",
       "Oklahoma                                    NaN   \n",
       "West Virginia                               NaN   \n",
       "Alabama                                     NaN   \n",
       "Kentucky                                    NaN   \n",
       "Mississippi                                 NaN   \n",
       "\n",
       "              how to homeschool: (8/1/19 - 12/18/20)  \n",
       "Region                                                \n",
       "Oklahoma                                         27%  \n",
       "West Virginia                                    84%  \n",
       "Alabama                                          60%  \n",
       "Kentucky                                         53%  \n",
       "Mississippi                                      59%  "
      ]
     },
     "execution_count": 15,
     "metadata": {},
     "output_type": "execute_result"
    }
   ],
   "source": [
    "map_df.head()"
   ]
  },
  {
   "cell_type": "code",
   "execution_count": 16,
   "metadata": {
    "scrolled": true
   },
   "outputs": [
    {
     "data": {
      "text/plain": [
       "Index(['online tutoring', 'online public school', 'learning pod',\n",
       "       'how to homeschool'],\n",
       "      dtype='object')"
      ]
     },
     "execution_count": 16,
     "metadata": {},
     "output_type": "execute_result"
    }
   ],
   "source": [
    "#Create a mapping dictionary\n",
    "rename_search2 = {'online tutoring: (8/1/19 - 12/18/20)': 'online tutoring',\n",
    "                 'online public schools: (8/1/19 - 12/18/20)' : 'online public school',\n",
    "                 'learning pod: (8/1/19 - 12/18/20)' : 'learning pod',\n",
    "                 'how to homeschool: (8/1/19 - 12/18/20)' : 'how to homeschool'}\n",
    "#Renaming the columns\n",
    "map_df = map_df.rename(columns = rename_search2)\n",
    "map_df.columns"
   ]
  },
  {
   "cell_type": "markdown",
   "metadata": {},
   "source": [
    "Now I want to find the maximum popularity of each term, but with the numerical data in this state, I get an error of the percent signs. For example:"
   ]
  },
  {
   "cell_type": "code",
   "execution_count": 17,
   "metadata": {},
   "outputs": [],
   "source": [
    "#max(map_df['online tutoring'])"
   ]
  },
  {
   "cell_type": "markdown",
   "metadata": {},
   "source": [
    "Looking at the data frame info, you can see the numbers are actually reading as strings, so the percent signs must be replaced in order for the data to become an integer variable."
   ]
  },
  {
   "cell_type": "code",
   "execution_count": 18,
   "metadata": {
    "scrolled": true
   },
   "outputs": [
    {
     "name": "stdout",
     "output_type": "stream",
     "text": [
      "<class 'pandas.core.frame.DataFrame'>\n",
      "Index: 51 entries, Oklahoma to Wyoming\n",
      "Data columns (total 4 columns):\n",
      " #   Column                Non-Null Count  Dtype \n",
      "---  ------                --------------  ----- \n",
      " 0   online tutoring       46 non-null     object\n",
      " 1   online public school  36 non-null     object\n",
      " 2   learning pod          25 non-null     object\n",
      " 3   how to homeschool     46 non-null     object\n",
      "dtypes: object(4)\n",
      "memory usage: 2.0+ KB\n"
     ]
    }
   ],
   "source": [
    "map_df.info()"
   ]
  },
  {
   "cell_type": "code",
   "execution_count": 19,
   "metadata": {},
   "outputs": [],
   "source": [
    "#Replacing the percent signs wih nothing for each search term\n",
    "map_df['online_tutoring_num'] = map_df['online tutoring'].str.replace('[%<]','').astype(float)\n",
    "map_df['online_pubschl_num']=map_df['online public school'].str.replace('%','').astype(float)\n",
    "map_df['learning_pod_num']=map_df['learning pod'].str.replace('[%<]','').astype(float)\n",
    "map_df['how_homeschool_num']=map_df['how to homeschool'].str.replace('%','').astype(float)"
   ]
  },
  {
   "cell_type": "code",
   "execution_count": 20,
   "metadata": {},
   "outputs": [],
   "source": [
    "#Dropping the first four columns\n",
    "cols_to_drop = ['online tutoring', 'online public school', 'learning pod',\n",
    "       'how to homeschool']\n",
    "map_df = map_df.drop(columns = cols_to_drop)"
   ]
  },
  {
   "cell_type": "code",
   "execution_count": 21,
   "metadata": {
    "scrolled": true
   },
   "outputs": [
    {
     "data": {
      "text/html": [
       "<div>\n",
       "<style scoped>\n",
       "    .dataframe tbody tr th:only-of-type {\n",
       "        vertical-align: middle;\n",
       "    }\n",
       "\n",
       "    .dataframe tbody tr th {\n",
       "        vertical-align: top;\n",
       "    }\n",
       "\n",
       "    .dataframe thead th {\n",
       "        text-align: right;\n",
       "    }\n",
       "</style>\n",
       "<table border=\"1\" class=\"dataframe\">\n",
       "  <thead>\n",
       "    <tr style=\"text-align: right;\">\n",
       "      <th></th>\n",
       "      <th>online_tutoring_num</th>\n",
       "      <th>online_pubschl_num</th>\n",
       "      <th>learning_pod_num</th>\n",
       "      <th>how_homeschool_num</th>\n",
       "    </tr>\n",
       "    <tr>\n",
       "      <th>Region</th>\n",
       "      <th></th>\n",
       "      <th></th>\n",
       "      <th></th>\n",
       "      <th></th>\n",
       "    </tr>\n",
       "  </thead>\n",
       "  <tbody>\n",
       "    <tr>\n",
       "      <th>Oklahoma</th>\n",
       "      <td>15.0</td>\n",
       "      <td>58.0</td>\n",
       "      <td>NaN</td>\n",
       "      <td>27.0</td>\n",
       "    </tr>\n",
       "    <tr>\n",
       "      <th>West Virginia</th>\n",
       "      <td>16.0</td>\n",
       "      <td>NaN</td>\n",
       "      <td>NaN</td>\n",
       "      <td>84.0</td>\n",
       "    </tr>\n",
       "    <tr>\n",
       "      <th>Alabama</th>\n",
       "      <td>31.0</td>\n",
       "      <td>9.0</td>\n",
       "      <td>NaN</td>\n",
       "      <td>60.0</td>\n",
       "    </tr>\n",
       "    <tr>\n",
       "      <th>Kentucky</th>\n",
       "      <td>23.0</td>\n",
       "      <td>24.0</td>\n",
       "      <td>NaN</td>\n",
       "      <td>53.0</td>\n",
       "    </tr>\n",
       "    <tr>\n",
       "      <th>Mississippi</th>\n",
       "      <td>23.0</td>\n",
       "      <td>18.0</td>\n",
       "      <td>NaN</td>\n",
       "      <td>59.0</td>\n",
       "    </tr>\n",
       "    <tr>\n",
       "      <th>Maine</th>\n",
       "      <td>22.0</td>\n",
       "      <td>NaN</td>\n",
       "      <td>NaN</td>\n",
       "      <td>78.0</td>\n",
       "    </tr>\n",
       "    <tr>\n",
       "      <th>Arizona</th>\n",
       "      <td>49.0</td>\n",
       "      <td>20.0</td>\n",
       "      <td>1.0</td>\n",
       "      <td>30.0</td>\n",
       "    </tr>\n",
       "    <tr>\n",
       "      <th>Idaho</th>\n",
       "      <td>42.0</td>\n",
       "      <td>NaN</td>\n",
       "      <td>NaN</td>\n",
       "      <td>58.0</td>\n",
       "    </tr>\n",
       "    <tr>\n",
       "      <th>Maryland</th>\n",
       "      <td>35.0</td>\n",
       "      <td>38.0</td>\n",
       "      <td>2.0</td>\n",
       "      <td>25.0</td>\n",
       "    </tr>\n",
       "    <tr>\n",
       "      <th>Connecticut</th>\n",
       "      <td>41.0</td>\n",
       "      <td>41.0</td>\n",
       "      <td>4.0</td>\n",
       "      <td>14.0</td>\n",
       "    </tr>\n",
       "  </tbody>\n",
       "</table>\n",
       "</div>"
      ],
      "text/plain": [
       "               online_tutoring_num  online_pubschl_num  learning_pod_num  \\\n",
       "Region                                                                     \n",
       "Oklahoma                      15.0                58.0               NaN   \n",
       "West Virginia                 16.0                 NaN               NaN   \n",
       "Alabama                       31.0                 9.0               NaN   \n",
       "Kentucky                      23.0                24.0               NaN   \n",
       "Mississippi                   23.0                18.0               NaN   \n",
       "Maine                         22.0                 NaN               NaN   \n",
       "Arizona                       49.0                20.0               1.0   \n",
       "Idaho                         42.0                 NaN               NaN   \n",
       "Maryland                      35.0                38.0               2.0   \n",
       "Connecticut                   41.0                41.0               4.0   \n",
       "\n",
       "               how_homeschool_num  \n",
       "Region                             \n",
       "Oklahoma                     27.0  \n",
       "West Virginia                84.0  \n",
       "Alabama                      60.0  \n",
       "Kentucky                     53.0  \n",
       "Mississippi                  59.0  \n",
       "Maine                        78.0  \n",
       "Arizona                      30.0  \n",
       "Idaho                        58.0  \n",
       "Maryland                     25.0  \n",
       "Connecticut                  14.0  "
      ]
     },
     "execution_count": 21,
     "metadata": {},
     "output_type": "execute_result"
    }
   ],
   "source": [
    "#Checking that it worked\n",
    "map_df.head(10)"
   ]
  },
  {
   "cell_type": "markdown",
   "metadata": {},
   "source": [
    "Next, I will pull the maximum and minimum level of popularity for each search term."
   ]
  },
  {
   "cell_type": "code",
   "execution_count": 22,
   "metadata": {},
   "outputs": [
    {
     "name": "stdout",
     "output_type": "stream",
     "text": [
      "Nebraska\n",
      "District of Columbia\n"
     ]
    }
   ],
   "source": [
    "#for 'online tutoring'\n",
    "print(map_df['online_tutoring_num'].idxmin())\n",
    "print(map_df['online_tutoring_num'].idxmax())"
   ]
  },
  {
   "cell_type": "code",
   "execution_count": 23,
   "metadata": {},
   "outputs": [
    {
     "name": "stdout",
     "output_type": "stream",
     "text": [
      "California\n",
      "Oklahoma\n"
     ]
    }
   ],
   "source": [
    "#for 'online public school'\n",
    "print(map_df['online_pubschl_num'].idxmin())\n",
    "print(map_df['online_pubschl_num'].idxmax())"
   ]
  },
  {
   "cell_type": "code",
   "execution_count": 24,
   "metadata": {},
   "outputs": [
    {
     "name": "stdout",
     "output_type": "stream",
     "text": [
      "Arizona\n",
      "Pennsylvania\n"
     ]
    }
   ],
   "source": [
    "#for 'learning pod'\n",
    "print(map_df['learning_pod_num'].idxmin())\n",
    "print(map_df['learning_pod_num'].idxmax())"
   ]
  },
  {
   "cell_type": "code",
   "execution_count": 25,
   "metadata": {},
   "outputs": [
    {
     "name": "stdout",
     "output_type": "stream",
     "text": [
      "Connecticut\n",
      "Alaska\n"
     ]
    }
   ],
   "source": [
    "#for 'how to homeschool'\n",
    "print(map_df['how_homeschool_num'].idxmin())\n",
    "print(map_df['how_homeschool_num'].idxmax())"
   ]
  },
  {
   "cell_type": "markdown",
   "metadata": {},
   "source": [
    "In 1.5 years, Nebraskan parents searched the most for \"online tutoring,\" Californians for \"online public school,\" Arizonans for \"learning pods,\" and Connecticut parents for \"how to homeschool.\"\n",
    "On the other hand, parents from DC had the least searches for \"online tutoring,\" Oklahoma for \"online public school,\" Pennsylvanians for \"learning pods,\" and Alaskan parents for \"how to homeschool.\" Search term popularity by state is not consolidated to just one region."
   ]
  }
 ],
 "metadata": {
  "kernelspec": {
   "display_name": "Python 3",
   "language": "python",
   "name": "python3"
  },
  "language_info": {
   "codemirror_mode": {
    "name": "ipython",
    "version": 3
   },
   "file_extension": ".py",
   "mimetype": "text/x-python",
   "name": "python",
   "nbconvert_exporter": "python",
   "pygments_lexer": "ipython3",
   "version": "3.7.3"
  }
 },
 "nbformat": 4,
 "nbformat_minor": 2
}
