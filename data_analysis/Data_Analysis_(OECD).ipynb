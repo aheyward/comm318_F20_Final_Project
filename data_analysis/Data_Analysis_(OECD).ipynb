{
 "cells": [
  {
   "cell_type": "markdown",
   "metadata": {},
   "source": [
    "# Data Analysis (Part 1: OECD)\n",
    "\n",
    "### HISTORY\n",
    "* 10/25/20 Initial exploration of OECD dataset\n",
    "* 11/13/20 Data analysis of OECD data from 2015\n",
    "\n",
    "---\n",
    "\n",
    "In this notebook, I clean the data frame by filtering only data from 2015. Then I create separate data frames for OECD and non_OECD nations. Lastly, I attempt some statistical analysis to answer the following questions:\n",
    "* Which OECD country has the highest percentage of parental involvement?\n",
    "* How do standardized test scores compare between OECD and non-OECD countries?\n",
    "* What percentage of countries have a majority of students who wish to pursue higher education?\n",
    "* Are children with more involved parents more academically driven?\n",
    "* Do children with more involved parents perform better in standardized testing? (And other questions about associations)"
   ]
  },
  {
   "cell_type": "code",
   "execution_count": 1,
   "metadata": {},
   "outputs": [],
   "source": [
    "#Importing necessary packages\n",
    "import matplotlib.pyplot as plt\n",
    "import pandas as pd\n",
    "import numpy as np\n",
    "import seaborn as sns\n",
    "import statsmodels.formula.api as smf"
   ]
  },
  {
   "cell_type": "code",
   "execution_count": 2,
   "metadata": {},
   "outputs": [],
   "source": [
    "#Reading in my data file\n",
    "oecd_df = pd.read_csv(\"../data/cleaned/CLEAN_OECD_child_wellbeing.csv\")"
   ]
  },
  {
   "cell_type": "markdown",
   "metadata": {},
   "source": [
    "## More Data Cleaning\n",
    "\n",
    "Because OECD only had relatively consistent data for each country in the 2015 survey, I have chosen to only use from that year to complete this analysis. I will update to only include values from 2015 by subsetting the imported data."
   ]
  },
  {
   "cell_type": "code",
   "execution_count": 3,
   "metadata": {},
   "outputs": [
    {
     "data": {
      "text/html": [
       "<div>\n",
       "<style scoped>\n",
       "    .dataframe tbody tr th:only-of-type {\n",
       "        vertical-align: middle;\n",
       "    }\n",
       "\n",
       "    .dataframe tbody tr th {\n",
       "        vertical-align: top;\n",
       "    }\n",
       "\n",
       "    .dataframe thead th {\n",
       "        text-align: right;\n",
       "    }\n",
       "</style>\n",
       "<table border=\"1\" class=\"dataframe\">\n",
       "  <thead>\n",
       "    <tr style=\"text-align: right;\">\n",
       "      <th></th>\n",
       "      <th>country_code</th>\n",
       "      <th>country</th>\n",
       "      <th>indicator_code</th>\n",
       "      <th>indicator</th>\n",
       "      <th>year</th>\n",
       "      <th>data_value</th>\n",
       "    </tr>\n",
       "  </thead>\n",
       "  <tbody>\n",
       "    <tr>\n",
       "      <th>2</th>\n",
       "      <td>AUS</td>\n",
       "      <td>Australia</td>\n",
       "      <td>CWB8A</td>\n",
       "      <td>Adolescents (15-year-olds) who report talking ...</td>\n",
       "      <td>2015</td>\n",
       "      <td>96.7</td>\n",
       "    </tr>\n",
       "    <tr>\n",
       "      <th>3</th>\n",
       "      <td>AUS</td>\n",
       "      <td>Australia</td>\n",
       "      <td>CWB16</td>\n",
       "      <td>Adolescents (15-year-olds) skipping either bre...</td>\n",
       "      <td>2015</td>\n",
       "      <td>22.1</td>\n",
       "    </tr>\n",
       "    <tr>\n",
       "      <th>4</th>\n",
       "      <td>AUS</td>\n",
       "      <td>Australia</td>\n",
       "      <td>CWB17A</td>\n",
       "      <td>Adolescents (15-year-olds) who report doing no...</td>\n",
       "      <td>2015</td>\n",
       "      <td>6.5</td>\n",
       "    </tr>\n",
       "    <tr>\n",
       "      <th>5</th>\n",
       "      <td>AUS</td>\n",
       "      <td>Australia</td>\n",
       "      <td>CWB17B</td>\n",
       "      <td>Adolescents (15-year-olds) who report regularl...</td>\n",
       "      <td>2015</td>\n",
       "      <td>52.5</td>\n",
       "    </tr>\n",
       "    <tr>\n",
       "      <th>7</th>\n",
       "      <td>AUS</td>\n",
       "      <td>Australia</td>\n",
       "      <td>CWB22</td>\n",
       "      <td>Children (3-5 year-olds) enrolled in pre-prima...</td>\n",
       "      <td>2015</td>\n",
       "      <td>86.5</td>\n",
       "    </tr>\n",
       "  </tbody>\n",
       "</table>\n",
       "</div>"
      ],
      "text/plain": [
       "  country_code    country indicator_code  \\\n",
       "2          AUS  Australia          CWB8A   \n",
       "3          AUS  Australia          CWB16   \n",
       "4          AUS  Australia         CWB17A   \n",
       "5          AUS  Australia         CWB17B   \n",
       "7          AUS  Australia          CWB22   \n",
       "\n",
       "                                           indicator  year  data_value  \n",
       "2  Adolescents (15-year-olds) who report talking ...  2015        96.7  \n",
       "3  Adolescents (15-year-olds) skipping either bre...  2015        22.1  \n",
       "4  Adolescents (15-year-olds) who report doing no...  2015         6.5  \n",
       "5  Adolescents (15-year-olds) who report regularl...  2015        52.5  \n",
       "7  Children (3-5 year-olds) enrolled in pre-prima...  2015        86.5  "
      ]
     },
     "execution_count": 3,
     "metadata": {},
     "output_type": "execute_result"
    }
   ],
   "source": [
    "#Subestting the original data frame by data from 2015\n",
    "filter2015 = oecd_df['year']==2015\n",
    "oecd2015_df = oecd_df[filter2015]\n",
    "oecd2015_df.head(5)"
   ]
  },
  {
   "cell_type": "markdown",
   "metadata": {},
   "source": [
    "Next, I want to create a new variable distinguishing between OECD and non-OECD nations. The data includes some data from non-OECD nations probably for the purpose of comparing. A variable the identifies the country as OECD or not will be useful for subsetting the data frame later."
   ]
  },
  {
   "cell_type": "code",
   "execution_count": 4,
   "metadata": {
    "scrolled": true
   },
   "outputs": [
    {
     "data": {
      "text/plain": [
       "country\n",
       "Australia          17\n",
       "Austria            26\n",
       "Belgium            26\n",
       "Brazil             17\n",
       "Bulgaria           23\n",
       "Canada             16\n",
       "Chile              21\n",
       "Colombia           17\n",
       "Costa Rica         18\n",
       "Croatia            24\n",
       "Cyprus              7\n",
       "Czech Republic     26\n",
       "Denmark            24\n",
       "Estonia            26\n",
       "Finland            26\n",
       "Flanders            1\n",
       "France             27\n",
       "Germany            25\n",
       "Greece             26\n",
       "Hungary            26\n",
       "Iceland            24\n",
       "Indonesia           4\n",
       "Ireland            27\n",
       "Israel             17\n",
       "Italy              25\n",
       "Japan              23\n",
       "Korea              21\n",
       "Latvia             26\n",
       "Lithuania          26\n",
       "Luxembourg         27\n",
       "Malta              11\n",
       "Mexico             20\n",
       "Netherlands        26\n",
       "New Zealand        17\n",
       "Norway             21\n",
       "OECD - Average     18\n",
       "Peru               16\n",
       "Poland             26\n",
       "Portugal           27\n",
       "Romania            11\n",
       "Russia             17\n",
       "Slovak Republic    25\n",
       "Slovenia           26\n",
       "South Africa        2\n",
       "Spain              27\n",
       "Sweden             24\n",
       "Switzerland        23\n",
       "Turkey             22\n",
       "United Kingdom     26\n",
       "United States      24\n",
       "dtype: int64"
      ]
     },
     "execution_count": 4,
     "metadata": {},
     "output_type": "execute_result"
    }
   ],
   "source": [
    "#Checking to see which countries are in the data frame\n",
    "oecd2015_df.groupby(['country']).size()"
   ]
  },
  {
   "cell_type": "code",
   "execution_count": 5,
   "metadata": {},
   "outputs": [],
   "source": [
    "#Making a list to filter out non-OECD nations\n",
    "non_oecd_countries = ['Bulgaria', 'Colombia', 'Costa Rica', 'Croatia', 'Cyprus', 'Indonesia', \n",
    "                      'Malta', 'Peru', 'Romania', 'Russia', 'South Africa']"
   ]
  },
  {
   "cell_type": "code",
   "execution_count": 6,
   "metadata": {},
   "outputs": [
    {
     "name": "stderr",
     "output_type": "stream",
     "text": [
      "/usr/local/anaconda3/lib/python3.7/site-packages/ipykernel_launcher.py:3: SettingWithCopyWarning: \n",
      "A value is trying to be set on a copy of a slice from a DataFrame.\n",
      "Try using .loc[row_indexer,col_indexer] = value instead\n",
      "\n",
      "See the caveats in the documentation: https://pandas.pydata.org/pandas-docs/stable/user_guide/indexing.html#returning-a-view-versus-a-copy\n",
      "  This is separate from the ipykernel package so we can avoid doing imports until\n"
     ]
    }
   ],
   "source": [
    "#Creating a new columns where, if the country is in the `non_oecd_countries` list, it will identify as such\n",
    "#If not, it identifies the country as OECD\n",
    "oecd2015_df['in_oecd'] = np.where(oecd2015_df['country'].isin(non_oecd_countries), 'non_oecd', 'oecd')"
   ]
  },
  {
   "cell_type": "code",
   "execution_count": 7,
   "metadata": {},
   "outputs": [
    {
     "data": {
      "text/plain": [
       "oecd        898\n",
       "non_oecd    150\n",
       "Name: in_oecd, dtype: int64"
      ]
     },
     "execution_count": 7,
     "metadata": {},
     "output_type": "execute_result"
    }
   ],
   "source": [
    "#Checking that it worked\n",
    "oecd2015_df['in_oecd'].value_counts()"
   ]
  },
  {
   "cell_type": "code",
   "execution_count": 8,
   "metadata": {
    "scrolled": true
   },
   "outputs": [
    {
     "data": {
      "text/html": [
       "<div>\n",
       "<style scoped>\n",
       "    .dataframe tbody tr th:only-of-type {\n",
       "        vertical-align: middle;\n",
       "    }\n",
       "\n",
       "    .dataframe tbody tr th {\n",
       "        vertical-align: top;\n",
       "    }\n",
       "\n",
       "    .dataframe thead th {\n",
       "        text-align: right;\n",
       "    }\n",
       "</style>\n",
       "<table border=\"1\" class=\"dataframe\">\n",
       "  <thead>\n",
       "    <tr style=\"text-align: right;\">\n",
       "      <th></th>\n",
       "      <th>country_code</th>\n",
       "      <th>country</th>\n",
       "      <th>indicator_code</th>\n",
       "      <th>indicator</th>\n",
       "      <th>year</th>\n",
       "      <th>data_value</th>\n",
       "      <th>in_oecd</th>\n",
       "    </tr>\n",
       "  </thead>\n",
       "  <tbody>\n",
       "    <tr>\n",
       "      <th>2</th>\n",
       "      <td>AUS</td>\n",
       "      <td>Australia</td>\n",
       "      <td>CWB8A</td>\n",
       "      <td>Adolescents (15-year-olds) who report talking ...</td>\n",
       "      <td>2015</td>\n",
       "      <td>96.7</td>\n",
       "      <td>oecd</td>\n",
       "    </tr>\n",
       "    <tr>\n",
       "      <th>3</th>\n",
       "      <td>AUS</td>\n",
       "      <td>Australia</td>\n",
       "      <td>CWB16</td>\n",
       "      <td>Adolescents (15-year-olds) skipping either bre...</td>\n",
       "      <td>2015</td>\n",
       "      <td>22.1</td>\n",
       "      <td>oecd</td>\n",
       "    </tr>\n",
       "    <tr>\n",
       "      <th>4</th>\n",
       "      <td>AUS</td>\n",
       "      <td>Australia</td>\n",
       "      <td>CWB17A</td>\n",
       "      <td>Adolescents (15-year-olds) who report doing no...</td>\n",
       "      <td>2015</td>\n",
       "      <td>6.5</td>\n",
       "      <td>oecd</td>\n",
       "    </tr>\n",
       "    <tr>\n",
       "      <th>5</th>\n",
       "      <td>AUS</td>\n",
       "      <td>Australia</td>\n",
       "      <td>CWB17B</td>\n",
       "      <td>Adolescents (15-year-olds) who report regularl...</td>\n",
       "      <td>2015</td>\n",
       "      <td>52.5</td>\n",
       "      <td>oecd</td>\n",
       "    </tr>\n",
       "    <tr>\n",
       "      <th>7</th>\n",
       "      <td>AUS</td>\n",
       "      <td>Australia</td>\n",
       "      <td>CWB22</td>\n",
       "      <td>Children (3-5 year-olds) enrolled in pre-prima...</td>\n",
       "      <td>2015</td>\n",
       "      <td>86.5</td>\n",
       "      <td>oecd</td>\n",
       "    </tr>\n",
       "  </tbody>\n",
       "</table>\n",
       "</div>"
      ],
      "text/plain": [
       "  country_code    country indicator_code  \\\n",
       "2          AUS  Australia          CWB8A   \n",
       "3          AUS  Australia          CWB16   \n",
       "4          AUS  Australia         CWB17A   \n",
       "5          AUS  Australia         CWB17B   \n",
       "7          AUS  Australia          CWB22   \n",
       "\n",
       "                                           indicator  year  data_value in_oecd  \n",
       "2  Adolescents (15-year-olds) who report talking ...  2015        96.7    oecd  \n",
       "3  Adolescents (15-year-olds) skipping either bre...  2015        22.1    oecd  \n",
       "4  Adolescents (15-year-olds) who report doing no...  2015         6.5    oecd  \n",
       "5  Adolescents (15-year-olds) who report regularl...  2015        52.5    oecd  \n",
       "7  Children (3-5 year-olds) enrolled in pre-prima...  2015        86.5    oecd  "
      ]
     },
     "execution_count": 8,
     "metadata": {},
     "output_type": "execute_result"
    }
   ],
   "source": [
    "oecd2015_df.head()"
   ]
  },
  {
   "cell_type": "code",
   "execution_count": 9,
   "metadata": {},
   "outputs": [],
   "source": [
    "#Saving the data frame as a .csv file in the `cleaned` data folder\n",
    "oecd2015_df.to_csv('../data/cleaned/OECD_child_wellbeing_2015.csv', index=False)"
   ]
  },
  {
   "cell_type": "code",
   "execution_count": 10,
   "metadata": {},
   "outputs": [
    {
     "data": {
      "text/html": [
       "<div>\n",
       "<style scoped>\n",
       "    .dataframe tbody tr th:only-of-type {\n",
       "        vertical-align: middle;\n",
       "    }\n",
       "\n",
       "    .dataframe tbody tr th {\n",
       "        vertical-align: top;\n",
       "    }\n",
       "\n",
       "    .dataframe thead th {\n",
       "        text-align: right;\n",
       "    }\n",
       "</style>\n",
       "<table border=\"1\" class=\"dataframe\">\n",
       "  <thead>\n",
       "    <tr style=\"text-align: right;\">\n",
       "      <th></th>\n",
       "      <th>country_code</th>\n",
       "      <th>country</th>\n",
       "      <th>indicator_code</th>\n",
       "      <th>indicator</th>\n",
       "      <th>year</th>\n",
       "      <th>data_value</th>\n",
       "      <th>in_oecd</th>\n",
       "    </tr>\n",
       "  </thead>\n",
       "  <tbody>\n",
       "    <tr>\n",
       "      <th>1624</th>\n",
       "      <td>BGR</td>\n",
       "      <td>Bulgaria</td>\n",
       "      <td>CWB1A</td>\n",
       "      <td>Children (0-17) living with two parents (%)</td>\n",
       "      <td>2015</td>\n",
       "      <td>81.4</td>\n",
       "      <td>non_oecd</td>\n",
       "    </tr>\n",
       "    <tr>\n",
       "      <th>1629</th>\n",
       "      <td>BGR</td>\n",
       "      <td>Bulgaria</td>\n",
       "      <td>CWB1B</td>\n",
       "      <td>Children (0-17) living with a single parent (%)</td>\n",
       "      <td>2015</td>\n",
       "      <td>16.5</td>\n",
       "      <td>non_oecd</td>\n",
       "    </tr>\n",
       "    <tr>\n",
       "      <th>1634</th>\n",
       "      <td>BGR</td>\n",
       "      <td>Bulgaria</td>\n",
       "      <td>CWB1C</td>\n",
       "      <td>Children (0-17) living in 'other' types of hou...</td>\n",
       "      <td>2015</td>\n",
       "      <td>2.1</td>\n",
       "      <td>non_oecd</td>\n",
       "    </tr>\n",
       "    <tr>\n",
       "      <th>1639</th>\n",
       "      <td>BGR</td>\n",
       "      <td>Bulgaria</td>\n",
       "      <td>CWB2A</td>\n",
       "      <td>Children (0-14) in households where all adults...</td>\n",
       "      <td>2015</td>\n",
       "      <td>46.2</td>\n",
       "      <td>non_oecd</td>\n",
       "    </tr>\n",
       "    <tr>\n",
       "      <th>1644</th>\n",
       "      <td>BGR</td>\n",
       "      <td>Bulgaria</td>\n",
       "      <td>CWB2C</td>\n",
       "      <td>Children (0-14) in households with all adults ...</td>\n",
       "      <td>2015</td>\n",
       "      <td>17.1</td>\n",
       "      <td>non_oecd</td>\n",
       "    </tr>\n",
       "  </tbody>\n",
       "</table>\n",
       "</div>"
      ],
      "text/plain": [
       "     country_code   country indicator_code  \\\n",
       "1624          BGR  Bulgaria          CWB1A   \n",
       "1629          BGR  Bulgaria          CWB1B   \n",
       "1634          BGR  Bulgaria          CWB1C   \n",
       "1639          BGR  Bulgaria          CWB2A   \n",
       "1644          BGR  Bulgaria          CWB2C   \n",
       "\n",
       "                                              indicator  year  data_value  \\\n",
       "1624        Children (0-17) living with two parents (%)  2015        81.4   \n",
       "1629    Children (0-17) living with a single parent (%)  2015        16.5   \n",
       "1634  Children (0-17) living in 'other' types of hou...  2015         2.1   \n",
       "1639  Children (0-14) in households where all adults...  2015        46.2   \n",
       "1644  Children (0-14) in households with all adults ...  2015        17.1   \n",
       "\n",
       "       in_oecd  \n",
       "1624  non_oecd  \n",
       "1629  non_oecd  \n",
       "1634  non_oecd  \n",
       "1639  non_oecd  \n",
       "1644  non_oecd  "
      ]
     },
     "execution_count": 10,
     "metadata": {},
     "output_type": "execute_result"
    }
   ],
   "source": [
    "#Subsetting based on OECD status\n",
    "non_oecd_filter = oecd2015_df['in_oecd'] == 'non_oecd'\n",
    "non_oecd_df = oecd2015_df[non_oecd_filter]\n",
    "non_oecd_df['country'].unique()\n",
    "non_oecd_df = pd.DataFrame(data = non_oecd_df)\n",
    "non_oecd_df.head()"
   ]
  },
  {
   "cell_type": "code",
   "execution_count": 11,
   "metadata": {},
   "outputs": [
    {
     "data": {
      "text/plain": [
       "array(['Australia', 'Austria', 'Belgium', 'Canada', 'Czech Republic',\n",
       "       'Denmark', 'Finland', 'France', 'Germany', 'Greece', 'Hungary',\n",
       "       'Iceland', 'Ireland', 'Italy', 'Japan', 'Korea', 'Luxembourg',\n",
       "       'Mexico', 'Netherlands', 'New Zealand', 'Norway', 'Poland',\n",
       "       'Portugal', 'Slovak Republic', 'Spain', 'Sweden', 'Switzerland',\n",
       "       'Turkey', 'United Kingdom', 'United States', 'Brazil', 'Chile',\n",
       "       'Estonia', 'Israel', 'Latvia', 'Lithuania', 'Slovenia', 'Flanders'],\n",
       "      dtype=object)"
      ]
     },
     "execution_count": 11,
     "metadata": {},
     "output_type": "execute_result"
    }
   ],
   "source": [
    "oecd_filter = ~oecd2015_df['country'].isin(non_oecd_countries)\n",
    "no_avg_filter = oecd2015_df['country']!= 'OECD - Average'\n",
    "oecd_df = oecd2015_df[(oecd_filter) & (no_avg_filter)]\n",
    "oecd_df['country'].unique()"
   ]
  },
  {
   "cell_type": "markdown",
   "metadata": {},
   "source": [
    "Lastly, I would like to check which variables are in these data frames so I can choose which variables to analyze. Because only a few of these variables have data for all nations in the data frame, I will only use indicators where data is recorded in more than 43 countries."
   ]
  },
  {
   "cell_type": "code",
   "execution_count": 12,
   "metadata": {
    "scrolled": true
   },
   "outputs": [
    {
     "data": {
      "text/html": [
       "<div>\n",
       "<style scoped>\n",
       "    .dataframe tbody tr th:only-of-type {\n",
       "        vertical-align: middle;\n",
       "    }\n",
       "\n",
       "    .dataframe tbody tr th {\n",
       "        vertical-align: top;\n",
       "    }\n",
       "\n",
       "    .dataframe thead th {\n",
       "        text-align: right;\n",
       "    }\n",
       "</style>\n",
       "<table border=\"1\" class=\"dataframe\">\n",
       "  <thead>\n",
       "    <tr style=\"text-align: right;\">\n",
       "      <th></th>\n",
       "      <th></th>\n",
       "      <th>0</th>\n",
       "    </tr>\n",
       "    <tr>\n",
       "      <th>indicator_code</th>\n",
       "      <th>indicator</th>\n",
       "      <th></th>\n",
       "    </tr>\n",
       "  </thead>\n",
       "  <tbody>\n",
       "    <tr>\n",
       "      <th>CWB35B</th>\n",
       "      <th>Mathematics performance at age 15 (PISA)</th>\n",
       "      <td>47</td>\n",
       "    </tr>\n",
       "    <tr>\n",
       "      <th>CWB35A</th>\n",
       "      <th>Reading performance at age 15 (PISA)</th>\n",
       "      <td>47</td>\n",
       "    </tr>\n",
       "    <tr>\n",
       "      <th>CWB32</th>\n",
       "      <th>Adolescents (15-year-olds) who feel like they belong in school (%)</th>\n",
       "      <td>46</td>\n",
       "    </tr>\n",
       "    <tr>\n",
       "      <th>CWB33</th>\n",
       "      <th>Adolescents (15-year-olds) who feel like outsiders at school (%)</th>\n",
       "      <td>46</td>\n",
       "    </tr>\n",
       "    <tr>\n",
       "      <th>CWB22</th>\n",
       "      <th>Children (3-5 year-olds) enrolled in pre-primary education or primary school (%)</th>\n",
       "      <td>45</td>\n",
       "    </tr>\n",
       "    <tr>\n",
       "      <th>CWB30</th>\n",
       "      <th>Adolescents (15-year-olds) who feel anxious about school tests even when well-prepared (%)</th>\n",
       "      <td>44</td>\n",
       "    </tr>\n",
       "    <tr>\n",
       "      <th>CWB28</th>\n",
       "      <th>Adolescents (15-year-olds) who study before or after school (%)</th>\n",
       "      <td>44</td>\n",
       "    </tr>\n",
       "    <tr>\n",
       "      <th>CWB29</th>\n",
       "      <th>Adolescents (15-year-olds) who want top grades at school (%)</th>\n",
       "      <td>44</td>\n",
       "    </tr>\n",
       "    <tr>\n",
       "      <th>CWB16</th>\n",
       "      <th>Adolescents (15-year-olds) skipping either breakfast or dinner (%)</th>\n",
       "      <td>44</td>\n",
       "    </tr>\n",
       "    <tr>\n",
       "      <th>CWB8A</th>\n",
       "      <th>Adolescents (15-year-olds) who report talking to their parents before or after school (%)</th>\n",
       "      <td>44</td>\n",
       "    </tr>\n",
       "    <tr>\n",
       "      <th>CWB31</th>\n",
       "      <th>Adolescents (15-year-olds) who expect to complete a university degree (%)</th>\n",
       "      <td>43</td>\n",
       "    </tr>\n",
       "    <tr>\n",
       "      <th>CWB17A</th>\n",
       "      <th>Adolescents (15-year-olds) who report doing no physical activity outside of school (%)</th>\n",
       "      <td>43</td>\n",
       "    </tr>\n",
       "    <tr>\n",
       "      <th>CWB17B</th>\n",
       "      <th>Adolescents (15-year-olds) who report regularly engaging in vigorous physical activity outside of school (%)</th>\n",
       "      <td>43</td>\n",
       "    </tr>\n",
       "    <tr>\n",
       "      <th>CWB27</th>\n",
       "      <th>Adolescents (15-year-olds) with parents interested in and supportive of their education (%)</th>\n",
       "      <td>43</td>\n",
       "    </tr>\n",
       "    <tr>\n",
       "      <th>CWB40</th>\n",
       "      <th>Adolescents (15-year-olds) who are high or extreme internet users (%)</th>\n",
       "      <td>39</td>\n",
       "    </tr>\n",
       "    <tr>\n",
       "      <th>CWB44A</th>\n",
       "      <th>Adolescents (15-year-olds) reporting high life satisfaction (%)</th>\n",
       "      <td>37</td>\n",
       "    </tr>\n",
       "    <tr>\n",
       "      <th>CWB44B</th>\n",
       "      <th>Adolescents (15-year-olds) reporting low life satisfaction (%)</th>\n",
       "      <td>37</td>\n",
       "    </tr>\n",
       "    <tr>\n",
       "      <th>CWB50B</th>\n",
       "      <th>Length of paid paternity and parental leave reserved for fathers in weeks</th>\n",
       "      <td>36</td>\n",
       "    </tr>\n",
       "    <tr>\n",
       "      <th>CWB50A</th>\n",
       "      <th>Length of paid maternity and parental leave available to mothers in weeks</th>\n",
       "      <td>36</td>\n",
       "    </tr>\n",
       "    <tr>\n",
       "      <th>CWB3</th>\n",
       "      <th>Average disposable household income, 0-17 year-olds, 2015 USD PPP</th>\n",
       "      <td>36</td>\n",
       "    </tr>\n",
       "    <tr>\n",
       "      <th>CWB1C</th>\n",
       "      <th>Children (0-17) living in 'other' types of household (%)</th>\n",
       "      <td>34</td>\n",
       "    </tr>\n",
       "    <tr>\n",
       "      <th>CWB1B</th>\n",
       "      <th>Children (0-17) living with a single parent (%)</th>\n",
       "      <td>34</td>\n",
       "    </tr>\n",
       "    <tr>\n",
       "      <th>CWB1A</th>\n",
       "      <th>Children (0-17) living with two parents (%)</th>\n",
       "      <td>34</td>\n",
       "    </tr>\n",
       "    <tr>\n",
       "      <th>CWB2A</th>\n",
       "      <th>Children (0-14) in households where all adults are in employment (working) (%)</th>\n",
       "      <td>30</td>\n",
       "    </tr>\n",
       "    <tr>\n",
       "      <th>CWB2C</th>\n",
       "      <th>Children (0-14) in households with all adults not in employment (jobless) (%)</th>\n",
       "      <td>30</td>\n",
       "    </tr>\n",
       "    <tr>\n",
       "      <th>CWB9</th>\n",
       "      <th>Children (0-17) in overcrowded households (%)</th>\n",
       "      <td>28</td>\n",
       "    </tr>\n",
       "    <tr>\n",
       "      <th>CWB8B</th>\n",
       "      <th>Adolescents (15-year-olds) whose parents report spending time \"just talking to my child\" every day or almost every day (%)</th>\n",
       "      <td>14</td>\n",
       "    </tr>\n",
       "  </tbody>\n",
       "</table>\n",
       "</div>"
      ],
      "text/plain": [
       "                                                                    0\n",
       "indicator_code indicator                                             \n",
       "CWB35B         Mathematics performance at age 15 (PISA)            47\n",
       "CWB35A         Reading performance at age 15 (PISA)                47\n",
       "CWB32          Adolescents (15-year-olds) who feel like they b...  46\n",
       "CWB33          Adolescents (15-year-olds) who feel like outsid...  46\n",
       "CWB22          Children (3-5 year-olds) enrolled in pre-primar...  45\n",
       "CWB30          Adolescents (15-year-olds) who feel anxious abo...  44\n",
       "CWB28          Adolescents (15-year-olds) who study before or ...  44\n",
       "CWB29          Adolescents (15-year-olds) who want top grades ...  44\n",
       "CWB16          Adolescents (15-year-olds) skipping either brea...  44\n",
       "CWB8A          Adolescents (15-year-olds) who report talking t...  44\n",
       "CWB31          Adolescents (15-year-olds) who expect to comple...  43\n",
       "CWB17A         Adolescents (15-year-olds) who report doing no ...  43\n",
       "CWB17B         Adolescents (15-year-olds) who report regularly...  43\n",
       "CWB27          Adolescents (15-year-olds) with parents interes...  43\n",
       "CWB40          Adolescents (15-year-olds) who are high or extr...  39\n",
       "CWB44A         Adolescents (15-year-olds) reporting high life ...  37\n",
       "CWB44B         Adolescents (15-year-olds) reporting low life s...  37\n",
       "CWB50B         Length of paid paternity and parental leave res...  36\n",
       "CWB50A         Length of paid maternity and parental leave ava...  36\n",
       "CWB3           Average disposable household income, 0-17 year-...  36\n",
       "CWB1C          Children (0-17) living in 'other' types of hous...  34\n",
       "CWB1B          Children (0-17) living with a single parent (%)     34\n",
       "CWB1A          Children (0-17) living with two parents (%)         34\n",
       "CWB2A          Children (0-14) in households where all adults ...  30\n",
       "CWB2C          Children (0-14) in households with all adults n...  30\n",
       "CWB9           Children (0-17) in overcrowded households (%)       28\n",
       "CWB8B          Adolescents (15-year-olds) whose parents report...  14"
      ]
     },
     "execution_count": 12,
     "metadata": {},
     "output_type": "execute_result"
    }
   ],
   "source": [
    "oecd2015_df.groupby(['indicator_code', 'indicator']).size().sort_values(ascending=False).to_frame()"
   ]
  },
  {
   "cell_type": "markdown",
   "metadata": {},
   "source": [
    "I will update the OECD and non-OECD data frames to have the data value for each indicator in its own column using the `pd.melt()` function."
   ]
  },
  {
   "cell_type": "code",
   "execution_count": 13,
   "metadata": {
    "scrolled": true
   },
   "outputs": [
    {
     "data": {
      "text/plain": [
       "Index(['country_code', 'country', 'indicator_code', 'indicator', 'year',\n",
       "       'data_value', 'in_oecd'],\n",
       "      dtype='object')"
      ]
     },
     "execution_count": 13,
     "metadata": {},
     "output_type": "execute_result"
    }
   ],
   "source": [
    "oecd_df.columns"
   ]
  },
  {
   "cell_type": "code",
   "execution_count": 14,
   "metadata": {
    "scrolled": false
   },
   "outputs": [
    {
     "data": {
      "text/html": [
       "<div>\n",
       "<style scoped>\n",
       "    .dataframe tbody tr th:only-of-type {\n",
       "        vertical-align: middle;\n",
       "    }\n",
       "\n",
       "    .dataframe tbody tr th {\n",
       "        vertical-align: top;\n",
       "    }\n",
       "\n",
       "    .dataframe thead th {\n",
       "        text-align: right;\n",
       "    }\n",
       "</style>\n",
       "<table border=\"1\" class=\"dataframe\">\n",
       "  <thead>\n",
       "    <tr style=\"text-align: right;\">\n",
       "      <th></th>\n",
       "      <th>indicator_code</th>\n",
       "      <th>CWB16</th>\n",
       "      <th>CWB17A</th>\n",
       "      <th>CWB17B</th>\n",
       "      <th>CWB1A</th>\n",
       "      <th>CWB1B</th>\n",
       "      <th>CWB1C</th>\n",
       "      <th>CWB22</th>\n",
       "      <th>CWB27</th>\n",
       "      <th>CWB28</th>\n",
       "      <th>CWB29</th>\n",
       "      <th>...</th>\n",
       "      <th>CWB35A</th>\n",
       "      <th>CWB35B</th>\n",
       "      <th>CWB40</th>\n",
       "      <th>CWB44A</th>\n",
       "      <th>CWB44B</th>\n",
       "      <th>CWB50A</th>\n",
       "      <th>CWB50B</th>\n",
       "      <th>CWB8A</th>\n",
       "      <th>CWB8B</th>\n",
       "      <th>CWB9</th>\n",
       "    </tr>\n",
       "    <tr>\n",
       "      <th>country_code</th>\n",
       "      <th>country</th>\n",
       "      <th></th>\n",
       "      <th></th>\n",
       "      <th></th>\n",
       "      <th></th>\n",
       "      <th></th>\n",
       "      <th></th>\n",
       "      <th></th>\n",
       "      <th></th>\n",
       "      <th></th>\n",
       "      <th></th>\n",
       "      <th></th>\n",
       "      <th></th>\n",
       "      <th></th>\n",
       "      <th></th>\n",
       "      <th></th>\n",
       "      <th></th>\n",
       "      <th></th>\n",
       "      <th></th>\n",
       "      <th></th>\n",
       "      <th></th>\n",
       "      <th></th>\n",
       "    </tr>\n",
       "  </thead>\n",
       "  <tbody>\n",
       "    <tr>\n",
       "      <th>AUS</th>\n",
       "      <th>Australia</th>\n",
       "      <td>22.1</td>\n",
       "      <td>6.5</td>\n",
       "      <td>52.5</td>\n",
       "      <td>NaN</td>\n",
       "      <td>NaN</td>\n",
       "      <td>NaN</td>\n",
       "      <td>86.5</td>\n",
       "      <td>92.7</td>\n",
       "      <td>76.2</td>\n",
       "      <td>89.2</td>\n",
       "      <td>...</td>\n",
       "      <td>502.9</td>\n",
       "      <td>493.9</td>\n",
       "      <td>69.2</td>\n",
       "      <td>NaN</td>\n",
       "      <td>NaN</td>\n",
       "      <td>18.0</td>\n",
       "      <td>2.0</td>\n",
       "      <td>96.7</td>\n",
       "      <td>NaN</td>\n",
       "      <td>NaN</td>\n",
       "    </tr>\n",
       "    <tr>\n",
       "      <th>AUT</th>\n",
       "      <th>Austria</th>\n",
       "      <td>37.9</td>\n",
       "      <td>6.1</td>\n",
       "      <td>42.7</td>\n",
       "      <td>81.3</td>\n",
       "      <td>18.3</td>\n",
       "      <td>0.4</td>\n",
       "      <td>88.1</td>\n",
       "      <td>90.3</td>\n",
       "      <td>86.7</td>\n",
       "      <td>77.9</td>\n",
       "      <td>...</td>\n",
       "      <td>484.9</td>\n",
       "      <td>496.7</td>\n",
       "      <td>59.4</td>\n",
       "      <td>39.7</td>\n",
       "      <td>11.1</td>\n",
       "      <td>60.0</td>\n",
       "      <td>8.7</td>\n",
       "      <td>94.4</td>\n",
       "      <td>NaN</td>\n",
       "      <td>24.6</td>\n",
       "    </tr>\n",
       "    <tr>\n",
       "      <th>BEL</th>\n",
       "      <th>Belgium</th>\n",
       "      <td>22.3</td>\n",
       "      <td>7.2</td>\n",
       "      <td>45.1</td>\n",
       "      <td>73.8</td>\n",
       "      <td>25.0</td>\n",
       "      <td>1.2</td>\n",
       "      <td>98.6</td>\n",
       "      <td>91.2</td>\n",
       "      <td>84.7</td>\n",
       "      <td>72.1</td>\n",
       "      <td>...</td>\n",
       "      <td>498.5</td>\n",
       "      <td>507.0</td>\n",
       "      <td>59.5</td>\n",
       "      <td>32.8</td>\n",
       "      <td>8.3</td>\n",
       "      <td>32.3</td>\n",
       "      <td>19.3</td>\n",
       "      <td>95.1</td>\n",
       "      <td>NaN</td>\n",
       "      <td>3.7</td>\n",
       "    </tr>\n",
       "    <tr>\n",
       "      <th>BEL-VLG</th>\n",
       "      <th>Flanders</th>\n",
       "      <td>NaN</td>\n",
       "      <td>NaN</td>\n",
       "      <td>NaN</td>\n",
       "      <td>NaN</td>\n",
       "      <td>NaN</td>\n",
       "      <td>NaN</td>\n",
       "      <td>NaN</td>\n",
       "      <td>NaN</td>\n",
       "      <td>NaN</td>\n",
       "      <td>NaN</td>\n",
       "      <td>...</td>\n",
       "      <td>NaN</td>\n",
       "      <td>NaN</td>\n",
       "      <td>NaN</td>\n",
       "      <td>NaN</td>\n",
       "      <td>NaN</td>\n",
       "      <td>NaN</td>\n",
       "      <td>NaN</td>\n",
       "      <td>NaN</td>\n",
       "      <td>71.2</td>\n",
       "      <td>NaN</td>\n",
       "    </tr>\n",
       "    <tr>\n",
       "      <th>BRA</th>\n",
       "      <th>Brazil</th>\n",
       "      <td>33.7</td>\n",
       "      <td>16.4</td>\n",
       "      <td>35.4</td>\n",
       "      <td>NaN</td>\n",
       "      <td>NaN</td>\n",
       "      <td>NaN</td>\n",
       "      <td>79.0</td>\n",
       "      <td>91.2</td>\n",
       "      <td>82.3</td>\n",
       "      <td>95.1</td>\n",
       "      <td>...</td>\n",
       "      <td>407.3</td>\n",
       "      <td>377.1</td>\n",
       "      <td>64.4</td>\n",
       "      <td>44.6</td>\n",
       "      <td>11.8</td>\n",
       "      <td>NaN</td>\n",
       "      <td>NaN</td>\n",
       "      <td>93.5</td>\n",
       "      <td>NaN</td>\n",
       "      <td>NaN</td>\n",
       "    </tr>\n",
       "  </tbody>\n",
       "</table>\n",
       "<p>5 rows × 27 columns</p>\n",
       "</div>"
      ],
      "text/plain": [
       "indicator_code          CWB16  CWB17A  CWB17B  CWB1A  CWB1B  CWB1C  CWB22  \\\n",
       "country_code country                                                        \n",
       "AUS          Australia   22.1     6.5    52.5    NaN    NaN    NaN   86.5   \n",
       "AUT          Austria     37.9     6.1    42.7   81.3   18.3    0.4   88.1   \n",
       "BEL          Belgium     22.3     7.2    45.1   73.8   25.0    1.2   98.6   \n",
       "BEL-VLG      Flanders     NaN     NaN     NaN    NaN    NaN    NaN    NaN   \n",
       "BRA          Brazil      33.7    16.4    35.4    NaN    NaN    NaN   79.0   \n",
       "\n",
       "indicator_code          CWB27  CWB28  CWB29  ...  CWB35A  CWB35B  CWB40  \\\n",
       "country_code country                         ...                          \n",
       "AUS          Australia   92.7   76.2   89.2  ...   502.9   493.9   69.2   \n",
       "AUT          Austria     90.3   86.7   77.9  ...   484.9   496.7   59.4   \n",
       "BEL          Belgium     91.2   84.7   72.1  ...   498.5   507.0   59.5   \n",
       "BEL-VLG      Flanders     NaN    NaN    NaN  ...     NaN     NaN    NaN   \n",
       "BRA          Brazil      91.2   82.3   95.1  ...   407.3   377.1   64.4   \n",
       "\n",
       "indicator_code          CWB44A  CWB44B  CWB50A  CWB50B  CWB8A  CWB8B  CWB9  \n",
       "country_code country                                                        \n",
       "AUS          Australia     NaN     NaN    18.0     2.0   96.7    NaN   NaN  \n",
       "AUT          Austria      39.7    11.1    60.0     8.7   94.4    NaN  24.6  \n",
       "BEL          Belgium      32.8     8.3    32.3    19.3   95.1    NaN   3.7  \n",
       "BEL-VLG      Flanders      NaN     NaN     NaN     NaN    NaN   71.2   NaN  \n",
       "BRA          Brazil       44.6    11.8     NaN     NaN   93.5    NaN   NaN  \n",
       "\n",
       "[5 rows x 27 columns]"
      ]
     },
     "execution_count": 14,
     "metadata": {},
     "output_type": "execute_result"
    }
   ],
   "source": [
    "#Creating a list of variables to use \"identifiers\"\n",
    "index_cols = ['country_code', 'country'] \n",
    "\n",
    "#Melting both data frames\n",
    "oecd2_df = oecd_df.pivot(index=index_cols,\n",
    "                  columns='indicator_code',\n",
    "                  values='data_value')\n",
    "non_oecd2_df = non_oecd_df.pivot(index=index_cols,\n",
    "                  columns='indicator_code',\n",
    "                  values='data_value')\n",
    "#Checking that it worked\n",
    "oecd2_df.head(5)"
   ]
  },
  {
   "cell_type": "markdown",
   "metadata": {},
   "source": [
    "Next, I want to rename the 8 variables I will use to measure the effect of parental involvement. The independent variables I'm using are:\n",
    "* CWB8A \tAdolescents (15-year-olds) who report talking to their parents before or after school\n",
    "* CWB27 \tAdolescents (15-year-olds) with parents interested in and supportive of their education\n",
    "\n",
    "I am using these variables as dependent variables:\n",
    "* CWB35B \tMathematics performance at age 15 (PISA) \t\n",
    "* CWB35A \tReading performance at age 15 (PISA)\n",
    "* CWB32 \tAdolescents (15-year-olds) who feel like they belong in school \n",
    "* CWB30 \tAdolescents (15-year-olds) who feel anxious about school tests even when well-prepared \n",
    "* CWB31 \tAdolescents (15-year-olds) who expect to complete a university degree"
   ]
  },
  {
   "cell_type": "code",
   "execution_count": 15,
   "metadata": {},
   "outputs": [
    {
     "data": {
      "text/plain": [
       "Index(['CWB16', 'CWB17A', 'CWB17B', 'CWB1A', 'CWB1B', 'CWB1C', 'CWB22',\n",
       "       'parent_attn', 'CWB28', 'top_grades', 'CWB2A', 'CWB2C', 'CWB3',\n",
       "       'test_anx', 'college', 'belong', 'CWB33', 'pisa_read', 'pisa_math',\n",
       "       'CWB40', 'CWB44A', 'CWB44B', 'CWB50A', 'CWB50B', 'talk_parents',\n",
       "       'CWB8B', 'CWB9'],\n",
       "      dtype='object', name='indicator_code')"
      ]
     },
     "execution_count": 15,
     "metadata": {},
     "output_type": "execute_result"
    }
   ],
   "source": [
    "#Creating a dictionary to name the columns something meaningful\n",
    "indicator_dict = {\n",
    "    'CWB35A': 'pisa_read',\n",
    "    'CWB35B': 'pisa_math',\n",
    "    'CWB32': 'belong',\n",
    "    'CWB30': 'test_anx',\n",
    "    'CWB29': 'top_grades',\n",
    "    'CWB8A': 'talk_parents',\n",
    "    'CWB31': 'college',\n",
    "    'CWB27': 'parent_attn'\n",
    "}\n",
    "\n",
    "#Renaming columns in the OECD/non-OECD data frames\n",
    "oecd2_df = oecd2_df.rename(columns=indicator_dict)\n",
    "non_oecd2_df = non_oecd2_df.rename(columns=indicator_dict)\n",
    "\n",
    "#Checking to see if it worked\n",
    "oecd2_df.columns\n",
    "#non_oecd2_df.columns"
   ]
  },
  {
   "cell_type": "code",
   "execution_count": 16,
   "metadata": {
    "scrolled": true
   },
   "outputs": [
    {
     "data": {
      "text/html": [
       "<div>\n",
       "<style scoped>\n",
       "    .dataframe tbody tr th:only-of-type {\n",
       "        vertical-align: middle;\n",
       "    }\n",
       "\n",
       "    .dataframe tbody tr th {\n",
       "        vertical-align: top;\n",
       "    }\n",
       "\n",
       "    .dataframe thead th {\n",
       "        text-align: right;\n",
       "    }\n",
       "</style>\n",
       "<table border=\"1\" class=\"dataframe\">\n",
       "  <thead>\n",
       "    <tr style=\"text-align: right;\">\n",
       "      <th></th>\n",
       "      <th>indicator_code</th>\n",
       "      <th>CWB16</th>\n",
       "      <th>CWB17A</th>\n",
       "      <th>CWB17B</th>\n",
       "      <th>CWB1A</th>\n",
       "      <th>CWB1B</th>\n",
       "      <th>CWB1C</th>\n",
       "      <th>CWB22</th>\n",
       "      <th>parent_attn</th>\n",
       "      <th>CWB28</th>\n",
       "      <th>top_grades</th>\n",
       "      <th>...</th>\n",
       "      <th>pisa_read</th>\n",
       "      <th>pisa_math</th>\n",
       "      <th>CWB40</th>\n",
       "      <th>CWB44A</th>\n",
       "      <th>CWB44B</th>\n",
       "      <th>CWB50A</th>\n",
       "      <th>CWB50B</th>\n",
       "      <th>talk_parents</th>\n",
       "      <th>CWB8B</th>\n",
       "      <th>CWB9</th>\n",
       "    </tr>\n",
       "    <tr>\n",
       "      <th>country_code</th>\n",
       "      <th>country</th>\n",
       "      <th></th>\n",
       "      <th></th>\n",
       "      <th></th>\n",
       "      <th></th>\n",
       "      <th></th>\n",
       "      <th></th>\n",
       "      <th></th>\n",
       "      <th></th>\n",
       "      <th></th>\n",
       "      <th></th>\n",
       "      <th></th>\n",
       "      <th></th>\n",
       "      <th></th>\n",
       "      <th></th>\n",
       "      <th></th>\n",
       "      <th></th>\n",
       "      <th></th>\n",
       "      <th></th>\n",
       "      <th></th>\n",
       "      <th></th>\n",
       "      <th></th>\n",
       "    </tr>\n",
       "  </thead>\n",
       "  <tbody>\n",
       "    <tr>\n",
       "      <th>AUS</th>\n",
       "      <th>Australia</th>\n",
       "      <td>22.1</td>\n",
       "      <td>6.5</td>\n",
       "      <td>52.5</td>\n",
       "      <td>NaN</td>\n",
       "      <td>NaN</td>\n",
       "      <td>NaN</td>\n",
       "      <td>86.5</td>\n",
       "      <td>92.7</td>\n",
       "      <td>76.2</td>\n",
       "      <td>89.2</td>\n",
       "      <td>...</td>\n",
       "      <td>502.9</td>\n",
       "      <td>493.9</td>\n",
       "      <td>69.2</td>\n",
       "      <td>NaN</td>\n",
       "      <td>NaN</td>\n",
       "      <td>18.0</td>\n",
       "      <td>2.0</td>\n",
       "      <td>96.7</td>\n",
       "      <td>NaN</td>\n",
       "      <td>NaN</td>\n",
       "    </tr>\n",
       "    <tr>\n",
       "      <th>AUT</th>\n",
       "      <th>Austria</th>\n",
       "      <td>37.9</td>\n",
       "      <td>6.1</td>\n",
       "      <td>42.7</td>\n",
       "      <td>81.3</td>\n",
       "      <td>18.3</td>\n",
       "      <td>0.4</td>\n",
       "      <td>88.1</td>\n",
       "      <td>90.3</td>\n",
       "      <td>86.7</td>\n",
       "      <td>77.9</td>\n",
       "      <td>...</td>\n",
       "      <td>484.9</td>\n",
       "      <td>496.7</td>\n",
       "      <td>59.4</td>\n",
       "      <td>39.7</td>\n",
       "      <td>11.1</td>\n",
       "      <td>60.0</td>\n",
       "      <td>8.7</td>\n",
       "      <td>94.4</td>\n",
       "      <td>NaN</td>\n",
       "      <td>24.6</td>\n",
       "    </tr>\n",
       "    <tr>\n",
       "      <th>BEL</th>\n",
       "      <th>Belgium</th>\n",
       "      <td>22.3</td>\n",
       "      <td>7.2</td>\n",
       "      <td>45.1</td>\n",
       "      <td>73.8</td>\n",
       "      <td>25.0</td>\n",
       "      <td>1.2</td>\n",
       "      <td>98.6</td>\n",
       "      <td>91.2</td>\n",
       "      <td>84.7</td>\n",
       "      <td>72.1</td>\n",
       "      <td>...</td>\n",
       "      <td>498.5</td>\n",
       "      <td>507.0</td>\n",
       "      <td>59.5</td>\n",
       "      <td>32.8</td>\n",
       "      <td>8.3</td>\n",
       "      <td>32.3</td>\n",
       "      <td>19.3</td>\n",
       "      <td>95.1</td>\n",
       "      <td>NaN</td>\n",
       "      <td>3.7</td>\n",
       "    </tr>\n",
       "    <tr>\n",
       "      <th>BEL-VLG</th>\n",
       "      <th>Flanders</th>\n",
       "      <td>NaN</td>\n",
       "      <td>NaN</td>\n",
       "      <td>NaN</td>\n",
       "      <td>NaN</td>\n",
       "      <td>NaN</td>\n",
       "      <td>NaN</td>\n",
       "      <td>NaN</td>\n",
       "      <td>NaN</td>\n",
       "      <td>NaN</td>\n",
       "      <td>NaN</td>\n",
       "      <td>...</td>\n",
       "      <td>NaN</td>\n",
       "      <td>NaN</td>\n",
       "      <td>NaN</td>\n",
       "      <td>NaN</td>\n",
       "      <td>NaN</td>\n",
       "      <td>NaN</td>\n",
       "      <td>NaN</td>\n",
       "      <td>NaN</td>\n",
       "      <td>71.2</td>\n",
       "      <td>NaN</td>\n",
       "    </tr>\n",
       "    <tr>\n",
       "      <th>BRA</th>\n",
       "      <th>Brazil</th>\n",
       "      <td>33.7</td>\n",
       "      <td>16.4</td>\n",
       "      <td>35.4</td>\n",
       "      <td>NaN</td>\n",
       "      <td>NaN</td>\n",
       "      <td>NaN</td>\n",
       "      <td>79.0</td>\n",
       "      <td>91.2</td>\n",
       "      <td>82.3</td>\n",
       "      <td>95.1</td>\n",
       "      <td>...</td>\n",
       "      <td>407.3</td>\n",
       "      <td>377.1</td>\n",
       "      <td>64.4</td>\n",
       "      <td>44.6</td>\n",
       "      <td>11.8</td>\n",
       "      <td>NaN</td>\n",
       "      <td>NaN</td>\n",
       "      <td>93.5</td>\n",
       "      <td>NaN</td>\n",
       "      <td>NaN</td>\n",
       "    </tr>\n",
       "  </tbody>\n",
       "</table>\n",
       "<p>5 rows × 27 columns</p>\n",
       "</div>"
      ],
      "text/plain": [
       "indicator_code          CWB16  CWB17A  CWB17B  CWB1A  CWB1B  CWB1C  CWB22  \\\n",
       "country_code country                                                        \n",
       "AUS          Australia   22.1     6.5    52.5    NaN    NaN    NaN   86.5   \n",
       "AUT          Austria     37.9     6.1    42.7   81.3   18.3    0.4   88.1   \n",
       "BEL          Belgium     22.3     7.2    45.1   73.8   25.0    1.2   98.6   \n",
       "BEL-VLG      Flanders     NaN     NaN     NaN    NaN    NaN    NaN    NaN   \n",
       "BRA          Brazil      33.7    16.4    35.4    NaN    NaN    NaN   79.0   \n",
       "\n",
       "indicator_code          parent_attn  CWB28  top_grades  ...  pisa_read  \\\n",
       "country_code country                                    ...              \n",
       "AUS          Australia         92.7   76.2        89.2  ...      502.9   \n",
       "AUT          Austria           90.3   86.7        77.9  ...      484.9   \n",
       "BEL          Belgium           91.2   84.7        72.1  ...      498.5   \n",
       "BEL-VLG      Flanders           NaN    NaN         NaN  ...        NaN   \n",
       "BRA          Brazil            91.2   82.3        95.1  ...      407.3   \n",
       "\n",
       "indicator_code          pisa_math  CWB40  CWB44A  CWB44B  CWB50A  CWB50B  \\\n",
       "country_code country                                                       \n",
       "AUS          Australia      493.9   69.2     NaN     NaN    18.0     2.0   \n",
       "AUT          Austria        496.7   59.4    39.7    11.1    60.0     8.7   \n",
       "BEL          Belgium        507.0   59.5    32.8     8.3    32.3    19.3   \n",
       "BEL-VLG      Flanders         NaN    NaN     NaN     NaN     NaN     NaN   \n",
       "BRA          Brazil         377.1   64.4    44.6    11.8     NaN     NaN   \n",
       "\n",
       "indicator_code          talk_parents  CWB8B  CWB9  \n",
       "country_code country                               \n",
       "AUS          Australia          96.7    NaN   NaN  \n",
       "AUT          Austria            94.4    NaN  24.6  \n",
       "BEL          Belgium            95.1    NaN   3.7  \n",
       "BEL-VLG      Flanders            NaN   71.2   NaN  \n",
       "BRA          Brazil             93.5    NaN   NaN  \n",
       "\n",
       "[5 rows x 27 columns]"
      ]
     },
     "execution_count": 16,
     "metadata": {},
     "output_type": "execute_result"
    }
   ],
   "source": [
    "oecd2_df.head(5)"
   ]
  },
  {
   "cell_type": "code",
   "execution_count": 17,
   "metadata": {
    "scrolled": true
   },
   "outputs": [
    {
     "data": {
      "text/plain": [
       "Index(['parent_attn', 'top_grades', 'test_anx', 'college', 'belong',\n",
       "       'pisa_read', 'pisa_math', 'talk_parents'],\n",
       "      dtype='object', name='indicator_code')"
      ]
     },
     "execution_count": 17,
     "metadata": {},
     "output_type": "execute_result"
    }
   ],
   "source": [
    "#Dropping the extra indicators I won't be using\n",
    "cols_to_keep = ['parent_attn', 'top_grades', 'test_anx', 'college', \n",
    "                'belong', 'pisa_read', 'pisa_math', 'talk_parents']\n",
    "\n",
    "#Filtering both df by the list of columns to keep\n",
    "oecd2_df = oecd2_df[cols_to_keep]\n",
    "non_oecd2_df = non_oecd2_df[cols_to_keep]\n",
    "\n",
    "oecd2_df.columns"
   ]
  },
  {
   "cell_type": "markdown",
   "metadata": {},
   "source": [
    "## Question 1\n",
    "### Which OECD country has the highest percentage of adolescents who feel their parents support their education?"
   ]
  },
  {
   "cell_type": "code",
   "execution_count": 18,
   "metadata": {
    "scrolled": true
   },
   "outputs": [
    {
     "name": "stdout",
     "output_type": "stream",
     "text": [
      "('PRT', 'Portugal')\n",
      "95.4\n"
     ]
    }
   ],
   "source": [
    "#Printing the maximum value and indexing the country with the max value\n",
    "print(oecd2_df['parent_attn'].idxmax())\n",
    "print(max(oecd2_df['parent_attn']))"
   ]
  },
  {
   "cell_type": "code",
   "execution_count": 19,
   "metadata": {},
   "outputs": [
    {
     "name": "stdout",
     "output_type": "stream",
     "text": [
      "('TUR', 'Turkey')\n",
      "75.2\n"
     ]
    }
   ],
   "source": [
    "#Printing the miximum value and indexing the country with the max value\n",
    "print(oecd2_df['parent_attn'].idxmin())\n",
    "print(min(oecd2_df['parent_attn']))"
   ]
  },
  {
   "cell_type": "markdown",
   "metadata": {},
   "source": [
    "Portuguese adolescents felt the most support from their parents when it came to their academic goals, whereas Turkish adolescents felt their parents were the least supportive. 95.4% of Portuguese students received educational support, and 75.2% of Turkish students received support. Overall, a large majority of students in all OECD countries reported that their parents were interested in their educational development. These high proportions show that parents in OECD member countries generally value education.\n",
    "\n",
    "Across OECD nations, **what is the average percentage of teens who feel their parents are interested in their education**?"
   ]
  },
  {
   "cell_type": "code",
   "execution_count": 20,
   "metadata": {
    "scrolled": false
   },
   "outputs": [
    {
     "data": {
      "text/plain": [
       "90.44722222222224"
      ]
     },
     "execution_count": 20,
     "metadata": {},
     "output_type": "execute_result"
    }
   ],
   "source": [
    "oecd2_df['parent_attn'].mean()"
   ]
  },
  {
   "cell_type": "markdown",
   "metadata": {},
   "source": [
    "An average of 90.4% of teens feel their parents are interested. This is a very high percentage, and it seems like OECD parents are rather attentive to their children's academic progress. What about the average proportion of teens in OECD countries who say they talk with their parents before and after school?"
   ]
  },
  {
   "cell_type": "code",
   "execution_count": 21,
   "metadata": {
    "scrolled": true
   },
   "outputs": [
    {
     "data": {
      "text/plain": [
       "95.13783783783784"
      ]
     },
     "execution_count": 21,
     "metadata": {},
     "output_type": "execute_result"
    }
   ],
   "source": [
    "oecd2_df['talk_parents'].mean()"
   ]
  },
  {
   "cell_type": "markdown",
   "metadata": {},
   "source": [
    "On average, 95.1% of teens in OECD countries speak with their parents before and after school. This average is higher than the proportion who feel they have their parent's support. It may be that even though parents are talking with their children, conservations may be critical of their academic performance/choices, or they may focus on a different subject entirely. Which countries have the highest/lowest proportion of teens who talk with their parents?"
   ]
  },
  {
   "cell_type": "code",
   "execution_count": 22,
   "metadata": {},
   "outputs": [
    {
     "name": "stdout",
     "output_type": "stream",
     "text": [
      "('ISL', 'Iceland')\n",
      "98.5\n"
     ]
    }
   ],
   "source": [
    "print(oecd2_df['talk_parents'].idxmax())\n",
    "print(max(oecd2_df['talk_parents']))"
   ]
  },
  {
   "cell_type": "code",
   "execution_count": 23,
   "metadata": {},
   "outputs": [
    {
     "name": "stdout",
     "output_type": "stream",
     "text": [
      "('TUR', 'Turkey')\n",
      "88.5\n"
     ]
    }
   ],
   "source": [
    "print(oecd2_df['talk_parents'].idxmin())\n",
    "print(min(oecd2_df['talk_parents']))"
   ]
  },
  {
   "cell_type": "markdown",
   "metadata": {},
   "source": [
    "98.5% of Icelandish teens speak with their parents at least twice a day, while only 88.5% of Turkish teens can say the same. Again, both these proportions are higher than the first indicator of parental involvement. "
   ]
  },
  {
   "cell_type": "markdown",
   "metadata": {},
   "source": [
    "## Question 2\n",
    "### How do standardized test scores compare between OECD and non-OECD countries?\n",
    "\n",
    "Because OECD nations tend to be more developed nations with better educations systems, I think students from OECD nations will have better test scores on the PISA."
   ]
  },
  {
   "cell_type": "code",
   "execution_count": 24,
   "metadata": {},
   "outputs": [
    {
     "data": {
      "text/plain": [
       "486.82162162162166"
      ]
     },
     "execution_count": 24,
     "metadata": {},
     "output_type": "execute_result"
    }
   ],
   "source": [
    "#Average math score in OECD nations\n",
    "oecd2_df['pisa_math'].mean()"
   ]
  },
  {
   "cell_type": "code",
   "execution_count": 25,
   "metadata": {},
   "outputs": [
    {
     "data": {
      "text/plain": [
       "431.6111111111111"
      ]
     },
     "execution_count": 25,
     "metadata": {},
     "output_type": "execute_result"
    }
   ],
   "source": [
    "#Average math score in non-OECD nations\n",
    "non_oecd2_df['pisa_math'].mean()"
   ]
  },
  {
   "cell_type": "code",
   "execution_count": 26,
   "metadata": {},
   "outputs": [
    {
     "data": {
      "text/plain": [
       "489.7027027027027"
      ]
     },
     "execution_count": 26,
     "metadata": {},
     "output_type": "execute_result"
    }
   ],
   "source": [
    "#Average reading score in OECD nations\n",
    "oecd2_df['pisa_read'].mean()"
   ]
  },
  {
   "cell_type": "code",
   "execution_count": 27,
   "metadata": {},
   "outputs": [
    {
     "data": {
      "text/plain": [
       "437.85555555555555"
      ]
     },
     "execution_count": 27,
     "metadata": {},
     "output_type": "execute_result"
    }
   ],
   "source": [
    "#Average reading score in non-OECD nations\n",
    "non_oecd2_df['pisa_read'].mean()"
   ]
  },
  {
   "cell_type": "markdown",
   "metadata": {},
   "source": [
    "Let's plot these averages to compare visually! First, I will need a data frame with only the indicators for PISA scores. I will use the `oecd2015_df` data frame because it has data for both OECD and non_OECD countries."
   ]
  },
  {
   "cell_type": "code",
   "execution_count": 28,
   "metadata": {},
   "outputs": [
    {
     "name": "stderr",
     "output_type": "stream",
     "text": [
      "/usr/local/anaconda3/lib/python3.7/site-packages/ipykernel_launcher.py:8: UserWarning: Boolean Series key will be reindexed to match DataFrame index.\n",
      "  \n"
     ]
    }
   ],
   "source": [
    "#Creating a filter to subset by indicators\n",
    "pisa_math_filter = oecd2015_df['indicator_code']== 'CWB35B' #Math score\n",
    "pisa_read_filter = oecd2015_df['indicator_code']== 'CWB35A' #Reading score\n",
    "remove_oecd_avg = oecd2015_df['country'] == 'OECD - Average' #Removes OECD Average data from the original df\n",
    "\n",
    "#Using these filters to subset `oecd2015_df`\n",
    "pisa_df = oecd2015_df[pisa_math_filter | pisa_read_filter]\n",
    "pisa_df = pisa_df[-remove_oecd_avg]"
   ]
  },
  {
   "cell_type": "code",
   "execution_count": 29,
   "metadata": {},
   "outputs": [
    {
     "data": {
      "text/plain": [
       "<matplotlib.legend.Legend at 0x7f9bf64b9f60>"
      ]
     },
     "execution_count": 29,
     "metadata": {},
     "output_type": "execute_result"
    },
    {
     "data": {
      "image/png": "[encoded data removed]",
      "text/plain": [
       "<Figure size 432x288 with 1 Axes>"
      ]
     },
     "metadata": {
      "needs_background": "light"
     },
     "output_type": "display_data"
    }
   ],
   "source": [
    "#Plotting the averages grouped by OECD or non_OECD member countries\n",
    "avg_plot = pisa_df.groupby(['indicator_code', 'in_oecd'])['data_value'].mean().unstack().plot(kind='bar')\n",
    "\n",
    "#Adding labels/title, moving legend\n",
    "avg_plot.set_xlabel('PISA Test')\n",
    "avg_plot.set_ylabel('Average Score')\n",
    "avg_plot.set_title('Average PISA Score for OECD and non_OECD Countries')\n",
    "avg_plot.set_xticklabels(['Reading','Mathematics'])\n",
    "avg_plot.legend( loc = 'upper center')"
   ]
  },
  {
   "cell_type": "markdown",
   "metadata": {},
   "source": [
    "This graph shows that, on average, OECD member countries had higher PISA scores in both the math and reading sections of the test. This would suggest that students from OECD member countries are better prepared in these content-areas. Another look at the distribution of scores below shows that--despite having a few countries with significantly lower average scores--the majority of OECD nations still have higher scores than non-OECD nations. For the reading test, some of the non-OECD countries had significantly higher scores than their counterparts."
   ]
  },
  {
   "cell_type": "code",
   "execution_count": 30,
   "metadata": {},
   "outputs": [
    {
     "data": {
      "text/plain": [
       "<matplotlib.legend.Legend at 0x7f9bf5bc5518>"
      ]
     },
     "execution_count": 30,
     "metadata": {},
     "output_type": "execute_result"
    },
    {
     "data": {
      "image/png": "[encoded data removed]",
      "text/plain": [
       "<Figure size 432x288 with 1 Axes>"
      ]
     },
     "metadata": {
      "needs_background": "light"
     },
     "output_type": "display_data"
    }
   ],
   "source": [
    "test_plot=sns.boxplot(y='data_value', x='indicator_code', hue='in_oecd', data=pisa_df)\n",
    "test_plot.set_xticklabels(['Reading','Mathematics'])\n",
    "\n",
    "#Adding labels/title, moving legend\n",
    "test_plot.set_xlabel('PISA Test')\n",
    "test_plot.set_ylabel('Average Score')\n",
    "test_plot.set_title('Average PISA for OECD and non_OECD Countries')\n",
    "test_plot.set_xticklabels(['Reading','Mathematics'])\n",
    "test_plot.legend( loc = 'upper center')"
   ]
  },
  {
   "cell_type": "markdown",
   "metadata": {},
   "source": [
    "## Question 3\n",
    "### What percentage of countries have a majority of students who wish to pursue higher education?\n",
    "\n",
    "_Step 1:_ Counting the number of OECD nations reporting data about the intentions to attend university. "
   ]
  },
  {
   "cell_type": "code",
   "execution_count": 31,
   "metadata": {},
   "outputs": [
    {
     "data": {
      "text/plain": [
       "38"
      ]
     },
     "execution_count": 31,
     "metadata": {},
     "output_type": "execute_result"
    }
   ],
   "source": [
    "oecd2_df['college'].shape[0]"
   ]
  },
  {
   "cell_type": "markdown",
   "metadata": {},
   "source": [
    "*Step 2*:  Create a data frame with only those countries that report 50% or more its adolescents intend to complete university. Count the number of countries in this data frame."
   ]
  },
  {
   "cell_type": "code",
   "execution_count": 32,
   "metadata": {},
   "outputs": [
    {
     "data": {
      "text/plain": [
       "13"
      ]
     },
     "execution_count": 32,
     "metadata": {},
     "output_type": "execute_result"
    }
   ],
   "source": [
    "college50_filter = oecd2_df['college'] >= 50\n",
    "college50_df = oecd2_df[college50_filter]\n",
    "college50_df['college'].shape[0]"
   ]
  },
  {
   "cell_type": "markdown",
   "metadata": {},
   "source": [
    "*Step 3*: Find the proportion of countries with a majority of college-bound students."
   ]
  },
  {
   "cell_type": "code",
   "execution_count": 33,
   "metadata": {},
   "outputs": [
    {
     "data": {
      "text/html": [
       "<div>\n",
       "<style scoped>\n",
       "    .dataframe tbody tr th:only-of-type {\n",
       "        vertical-align: middle;\n",
       "    }\n",
       "\n",
       "    .dataframe tbody tr th {\n",
       "        vertical-align: top;\n",
       "    }\n",
       "\n",
       "    .dataframe thead th {\n",
       "        text-align: right;\n",
       "    }\n",
       "</style>\n",
       "<table border=\"1\" class=\"dataframe\">\n",
       "  <thead>\n",
       "    <tr style=\"text-align: right;\">\n",
       "      <th></th>\n",
       "      <th>indicator_code</th>\n",
       "      <th>parent_attn</th>\n",
       "      <th>top_grades</th>\n",
       "      <th>test_anx</th>\n",
       "      <th>college</th>\n",
       "      <th>belong</th>\n",
       "      <th>pisa_read</th>\n",
       "      <th>pisa_math</th>\n",
       "      <th>talk_parents</th>\n",
       "    </tr>\n",
       "    <tr>\n",
       "      <th>country_code</th>\n",
       "      <th>country</th>\n",
       "      <th></th>\n",
       "      <th></th>\n",
       "      <th></th>\n",
       "      <th></th>\n",
       "      <th></th>\n",
       "      <th></th>\n",
       "      <th></th>\n",
       "      <th></th>\n",
       "    </tr>\n",
       "  </thead>\n",
       "  <tbody>\n",
       "    <tr>\n",
       "      <th>AUS</th>\n",
       "      <th>Australia</th>\n",
       "      <td>92.7</td>\n",
       "      <td>89.2</td>\n",
       "      <td>67.5</td>\n",
       "      <td>54.2</td>\n",
       "      <td>71.9</td>\n",
       "      <td>502.9</td>\n",
       "      <td>493.9</td>\n",
       "      <td>96.7</td>\n",
       "    </tr>\n",
       "    <tr>\n",
       "      <th>CAN</th>\n",
       "      <th>Canada</th>\n",
       "      <td>91.1</td>\n",
       "      <td>88.7</td>\n",
       "      <td>63.9</td>\n",
       "      <td>63.5</td>\n",
       "      <td>71.6</td>\n",
       "      <td>526.7</td>\n",
       "      <td>515.6</td>\n",
       "      <td>96.5</td>\n",
       "    </tr>\n",
       "    <tr>\n",
       "      <th>CHL</th>\n",
       "      <th>Chile</th>\n",
       "      <td>88.6</td>\n",
       "      <td>92.2</td>\n",
       "      <td>56.0</td>\n",
       "      <td>66.6</td>\n",
       "      <td>77.3</td>\n",
       "      <td>458.6</td>\n",
       "      <td>422.7</td>\n",
       "      <td>90.0</td>\n",
       "    </tr>\n",
       "    <tr>\n",
       "      <th>CZE</th>\n",
       "      <th>Czech Republic</th>\n",
       "      <td>87.9</td>\n",
       "      <td>81.1</td>\n",
       "      <td>40.3</td>\n",
       "      <td>55.6</td>\n",
       "      <td>70.9</td>\n",
       "      <td>487.3</td>\n",
       "      <td>492.3</td>\n",
       "      <td>96.4</td>\n",
       "    </tr>\n",
       "    <tr>\n",
       "      <th>ESP</th>\n",
       "      <th>Spain</th>\n",
       "      <td>90.0</td>\n",
       "      <td>77.1</td>\n",
       "      <td>67.1</td>\n",
       "      <td>51.0</td>\n",
       "      <td>87.2</td>\n",
       "      <td>495.6</td>\n",
       "      <td>485.8</td>\n",
       "      <td>94.8</td>\n",
       "    </tr>\n",
       "  </tbody>\n",
       "</table>\n",
       "</div>"
      ],
      "text/plain": [
       "indicator_code               parent_attn  top_grades  test_anx  college  \\\n",
       "country_code country                                                      \n",
       "AUS          Australia              92.7        89.2      67.5     54.2   \n",
       "CAN          Canada                 91.1        88.7      63.9     63.5   \n",
       "CHL          Chile                  88.6        92.2      56.0     66.6   \n",
       "CZE          Czech Republic         87.9        81.1      40.3     55.6   \n",
       "ESP          Spain                  90.0        77.1      67.1     51.0   \n",
       "\n",
       "indicator_code               belong  pisa_read  pisa_math  talk_parents  \n",
       "country_code country                                                     \n",
       "AUS          Australia         71.9      502.9      493.9          96.7  \n",
       "CAN          Canada            71.6      526.7      515.6          96.5  \n",
       "CHL          Chile             77.3      458.6      422.7          90.0  \n",
       "CZE          Czech Republic    70.9      487.3      492.3          96.4  \n",
       "ESP          Spain             87.2      495.6      485.8          94.8  "
      ]
     },
     "execution_count": 33,
     "metadata": {},
     "output_type": "execute_result"
    }
   ],
   "source": [
    "college50_df.head(5)"
   ]
  },
  {
   "cell_type": "code",
   "execution_count": 34,
   "metadata": {
    "scrolled": true
   },
   "outputs": [
    {
     "data": {
      "text/plain": [
       "0.34210526315789475"
      ]
     },
     "execution_count": 34,
     "metadata": {},
     "output_type": "execute_result"
    }
   ],
   "source": [
    "(college50_df['college'].shape[0])/(oecd2_df['college'].shape[0])"
   ]
  },
  {
   "cell_type": "markdown",
   "metadata": {
    "scrolled": true
   },
   "source": [
    "Only 34.2% of OECD member countries report that 50% or more of their adolescent citizens would like to attend a 4-year university in the future. This is a rather low percentage. It could be that the cost of college poses an obstacle to pursuing higher education. It might be good to explore the relationship between the average or median income in a country and its percentage of college bound students."
   ]
  },
  {
   "cell_type": "markdown",
   "metadata": {},
   "source": [
    "## Question 4\n",
    "### How do measures of parental involvement affect a teen's academic drive?\n",
    "\n",
    "What is the correlation between **parents who talk with their children and the desire to receive high grades**? I will run a regression model from the `oecd2_df` to determine whether there is a significant relationship between the two variables. A relationship is significant is the p-value is less than .05."
   ]
  },
  {
   "cell_type": "code",
   "execution_count": 35,
   "metadata": {
    "scrolled": false
   },
   "outputs": [
    {
     "data": {
      "text/html": [
       "<table class=\"simpletable\">\n",
       "<caption>OLS Regression Results</caption>\n",
       "<tr>\n",
       "  <th>Dep. Variable:</th>       <td>top_grades</td>    <th>  R-squared:         </th> <td>   0.000</td> \n",
       "</tr>\n",
       "<tr>\n",
       "  <th>Model:</th>                   <td>OLS</td>       <th>  Adj. R-squared:    </th> <td>  -0.029</td> \n",
       "</tr>\n",
       "<tr>\n",
       "  <th>Method:</th>             <td>Least Squares</td>  <th>  F-statistic:       </th> <td>2.210e-05</td>\n",
       "</tr>\n",
       "<tr>\n",
       "  <th>Date:</th>             <td>Wed, 30 Dec 2020</td> <th>  Prob (F-statistic):</th>  <td> 0.996</td>  \n",
       "</tr>\n",
       "<tr>\n",
       "  <th>Time:</th>                 <td>17:09:40</td>     <th>  Log-Likelihood:    </th> <td> -137.23</td> \n",
       "</tr>\n",
       "<tr>\n",
       "  <th>No. Observations:</th>      <td>    37</td>      <th>  AIC:               </th> <td>   278.5</td> \n",
       "</tr>\n",
       "<tr>\n",
       "  <th>Df Residuals:</th>          <td>    35</td>      <th>  BIC:               </th> <td>   281.7</td> \n",
       "</tr>\n",
       "<tr>\n",
       "  <th>Df Model:</th>              <td>     1</td>      <th>                     </th>     <td> </td>    \n",
       "</tr>\n",
       "<tr>\n",
       "  <th>Covariance Type:</th>      <td>nonrobust</td>    <th>                     </th>     <td> </td>    \n",
       "</tr>\n",
       "</table>\n",
       "<table class=\"simpletable\">\n",
       "<tr>\n",
       "        <td></td>          <th>coef</th>     <th>std err</th>      <th>t</th>      <th>P>|t|</th>  <th>[0.025</th>    <th>0.975]</th>  \n",
       "</tr>\n",
       "<tr>\n",
       "  <th>Intercept</th>    <td>   84.0074</td> <td>   64.263</td> <td>    1.307</td> <td> 0.200</td> <td>  -46.454</td> <td>  214.469</td>\n",
       "</tr>\n",
       "<tr>\n",
       "  <th>talk_parents</th> <td>   -0.0032</td> <td>    0.675</td> <td>   -0.005</td> <td> 0.996</td> <td>   -1.374</td> <td>    1.368</td>\n",
       "</tr>\n",
       "</table>\n",
       "<table class=\"simpletable\">\n",
       "<tr>\n",
       "  <th>Omnibus:</th>       <td> 2.823</td> <th>  Durbin-Watson:     </th> <td>   2.101</td>\n",
       "</tr>\n",
       "<tr>\n",
       "  <th>Prob(Omnibus):</th> <td> 0.244</td> <th>  Jarque-Bera (JB):  </th> <td>   2.416</td>\n",
       "</tr>\n",
       "<tr>\n",
       "  <th>Skew:</th>          <td>-0.519</td> <th>  Prob(JB):          </th> <td>   0.299</td>\n",
       "</tr>\n",
       "<tr>\n",
       "  <th>Kurtosis:</th>      <td> 2.302</td> <th>  Cond. No.          </th> <td>3.66e+03</td>\n",
       "</tr>\n",
       "</table><br/><br/>Notes:<br/>[1] Standard Errors assume that the covariance matrix of the errors is correctly specified.<br/>[2] The condition number is large, 3.66e+03. This might indicate that there are<br/>strong multicollinearity or other numerical problems."
      ],
      "text/plain": [
       "<class 'statsmodels.iolib.summary.Summary'>\n",
       "\"\"\"\n",
       "                            OLS Regression Results                            \n",
       "==============================================================================\n",
       "Dep. Variable:             top_grades   R-squared:                       0.000\n",
       "Model:                            OLS   Adj. R-squared:                 -0.029\n",
       "Method:                 Least Squares   F-statistic:                 2.210e-05\n",
       "Date:                Wed, 30 Dec 2020   Prob (F-statistic):              0.996\n",
       "Time:                        17:09:40   Log-Likelihood:                -137.23\n",
       "No. Observations:                  37   AIC:                             278.5\n",
       "Df Residuals:                      35   BIC:                             281.7\n",
       "Df Model:                           1                                         \n",
       "Covariance Type:            nonrobust                                         \n",
       "================================================================================\n",
       "                   coef    std err          t      P>|t|      [0.025      0.975]\n",
       "--------------------------------------------------------------------------------\n",
       "Intercept       84.0074     64.263      1.307      0.200     -46.454     214.469\n",
       "talk_parents    -0.0032      0.675     -0.005      0.996      -1.374       1.368\n",
       "==============================================================================\n",
       "Omnibus:                        2.823   Durbin-Watson:                   2.101\n",
       "Prob(Omnibus):                  0.244   Jarque-Bera (JB):                2.416\n",
       "Skew:                          -0.519   Prob(JB):                        0.299\n",
       "Kurtosis:                       2.302   Cond. No.                     3.66e+03\n",
       "==============================================================================\n",
       "\n",
       "Notes:\n",
       "[1] Standard Errors assume that the covariance matrix of the errors is correctly specified.\n",
       "[2] The condition number is large, 3.66e+03. This might indicate that there are\n",
       "strong multicollinearity or other numerical problems.\n",
       "\"\"\""
      ]
     },
     "execution_count": 35,
     "metadata": {},
     "output_type": "execute_result"
    }
   ],
   "source": [
    "#Regression model: Talking consistently vs. wanting top grades?\n",
    "model1 = smf.ols('top_grades ~ talk_parents', data=oecd2_df).fit()\n",
    "model1.summary()"
   ]
  },
  {
   "cell_type": "code",
   "execution_count": 36,
   "metadata": {},
   "outputs": [
    {
     "data": {
      "text/plain": [
       "-0.0031744171865595305"
      ]
     },
     "execution_count": 36,
     "metadata": {},
     "output_type": "execute_result"
    }
   ],
   "source": [
    "#The regression coefficient\n",
    "model1.params[1]"
   ]
  },
  {
   "cell_type": "code",
   "execution_count": 37,
   "metadata": {},
   "outputs": [
    {
     "data": {
      "text/plain": [
       "-0.0007946324866480208"
      ]
     },
     "execution_count": 37,
     "metadata": {},
     "output_type": "execute_result"
    }
   ],
   "source": [
    "#The correlation coefficient\n",
    "oecd2_df.corr().loc['talk_parents', 'top_grades']"
   ]
  },
  {
   "cell_type": "code",
   "execution_count": 38,
   "metadata": {
    "scrolled": true
   },
   "outputs": [
    {
     "data": {
      "text/plain": [
       "<seaborn.axisgrid.FacetGrid at 0x7f9bf56ba358>"
      ]
     },
     "execution_count": 38,
     "metadata": {},
     "output_type": "execute_result"
    },
    {
     "data": {
      "image/png": "[encoded data removed]",
      "text/plain": [
       "<Figure size 360x360 with 1 Axes>"
      ]
     },
     "metadata": {
      "needs_background": "light"
     },
     "output_type": "display_data"
    }
   ],
   "source": [
    "#Plotting the regression\n",
    "sns.lmplot(x='talk_parents', y='top_grades', data=oecd2_df)"
   ]
  },
  {
   "cell_type": "markdown",
   "metadata": {},
   "source": [
    "There is absolutely no significant relationship between parents who communicate consistently with their child and the child's desire to receive good grades. The correlation coefficient is pretty much 0, so there is no trend either, and the association seems to be completely random. \n",
    "\n",
    "#### What are the effect of interest and support on academic drive?"
   ]
  },
  {
   "cell_type": "code",
   "execution_count": 39,
   "metadata": {},
   "outputs": [
    {
     "data": {
      "text/html": [
       "<table class=\"simpletable\">\n",
       "<caption>OLS Regression Results</caption>\n",
       "<tr>\n",
       "  <th>Dep. Variable:</th>       <td>top_grades</td>    <th>  R-squared:         </th> <td>   0.004</td>\n",
       "</tr>\n",
       "<tr>\n",
       "  <th>Model:</th>                   <td>OLS</td>       <th>  Adj. R-squared:    </th> <td>  -0.025</td>\n",
       "</tr>\n",
       "<tr>\n",
       "  <th>Method:</th>             <td>Least Squares</td>  <th>  F-statistic:       </th> <td>  0.1429</td>\n",
       "</tr>\n",
       "<tr>\n",
       "  <th>Date:</th>             <td>Wed, 30 Dec 2020</td> <th>  Prob (F-statistic):</th>  <td> 0.708</td> \n",
       "</tr>\n",
       "<tr>\n",
       "  <th>Time:</th>                 <td>17:09:40</td>     <th>  Log-Likelihood:    </th> <td> -133.14</td>\n",
       "</tr>\n",
       "<tr>\n",
       "  <th>No. Observations:</th>      <td>    36</td>      <th>  AIC:               </th> <td>   270.3</td>\n",
       "</tr>\n",
       "<tr>\n",
       "  <th>Df Residuals:</th>          <td>    34</td>      <th>  BIC:               </th> <td>   273.5</td>\n",
       "</tr>\n",
       "<tr>\n",
       "  <th>Df Model:</th>              <td>     1</td>      <th>                     </th>     <td> </td>   \n",
       "</tr>\n",
       "<tr>\n",
       "  <th>Covariance Type:</th>      <td>nonrobust</td>    <th>                     </th>     <td> </td>   \n",
       "</tr>\n",
       "</table>\n",
       "<table class=\"simpletable\">\n",
       "<tr>\n",
       "       <td></td>          <th>coef</th>     <th>std err</th>      <th>t</th>      <th>P>|t|</th>  <th>[0.025</th>    <th>0.975]</th>  \n",
       "</tr>\n",
       "<tr>\n",
       "  <th>Intercept</th>   <td>   68.0236</td> <td>   40.609</td> <td>    1.675</td> <td> 0.103</td> <td>  -14.504</td> <td>  150.551</td>\n",
       "</tr>\n",
       "<tr>\n",
       "  <th>parent_attn</th> <td>    0.1696</td> <td>    0.449</td> <td>    0.378</td> <td> 0.708</td> <td>   -0.742</td> <td>    1.081</td>\n",
       "</tr>\n",
       "</table>\n",
       "<table class=\"simpletable\">\n",
       "<tr>\n",
       "  <th>Omnibus:</th>       <td> 2.504</td> <th>  Durbin-Watson:     </th> <td>   2.164</td>\n",
       "</tr>\n",
       "<tr>\n",
       "  <th>Prob(Omnibus):</th> <td> 0.286</td> <th>  Jarque-Bera (JB):  </th> <td>   2.091</td>\n",
       "</tr>\n",
       "<tr>\n",
       "  <th>Skew:</th>          <td>-0.466</td> <th>  Prob(JB):          </th> <td>   0.352</td>\n",
       "</tr>\n",
       "<tr>\n",
       "  <th>Kurtosis:</th>      <td> 2.274</td> <th>  Cond. No.          </th> <td>2.19e+03</td>\n",
       "</tr>\n",
       "</table><br/><br/>Notes:<br/>[1] Standard Errors assume that the covariance matrix of the errors is correctly specified.<br/>[2] The condition number is large, 2.19e+03. This might indicate that there are<br/>strong multicollinearity or other numerical problems."
      ],
      "text/plain": [
       "<class 'statsmodels.iolib.summary.Summary'>\n",
       "\"\"\"\n",
       "                            OLS Regression Results                            \n",
       "==============================================================================\n",
       "Dep. Variable:             top_grades   R-squared:                       0.004\n",
       "Model:                            OLS   Adj. R-squared:                 -0.025\n",
       "Method:                 Least Squares   F-statistic:                    0.1429\n",
       "Date:                Wed, 30 Dec 2020   Prob (F-statistic):              0.708\n",
       "Time:                        17:09:40   Log-Likelihood:                -133.14\n",
       "No. Observations:                  36   AIC:                             270.3\n",
       "Df Residuals:                      34   BIC:                             273.5\n",
       "Df Model:                           1                                         \n",
       "Covariance Type:            nonrobust                                         \n",
       "===============================================================================\n",
       "                  coef    std err          t      P>|t|      [0.025      0.975]\n",
       "-------------------------------------------------------------------------------\n",
       "Intercept      68.0236     40.609      1.675      0.103     -14.504     150.551\n",
       "parent_attn     0.1696      0.449      0.378      0.708      -0.742       1.081\n",
       "==============================================================================\n",
       "Omnibus:                        2.504   Durbin-Watson:                   2.164\n",
       "Prob(Omnibus):                  0.286   Jarque-Bera (JB):                2.091\n",
       "Skew:                          -0.466   Prob(JB):                        0.352\n",
       "Kurtosis:                       2.274   Cond. No.                     2.19e+03\n",
       "==============================================================================\n",
       "\n",
       "Notes:\n",
       "[1] Standard Errors assume that the covariance matrix of the errors is correctly specified.\n",
       "[2] The condition number is large, 2.19e+03. This might indicate that there are\n",
       "strong multicollinearity or other numerical problems.\n",
       "\"\"\""
      ]
     },
     "execution_count": 39,
     "metadata": {},
     "output_type": "execute_result"
    }
   ],
   "source": [
    "#Parental support vs. wanting top grades?\n",
    "model2 = smf.ols('top_grades ~ parent_attn', data=oecd2_df).fit()\n",
    "model2.summary()"
   ]
  },
  {
   "cell_type": "code",
   "execution_count": 40,
   "metadata": {
    "scrolled": true
   },
   "outputs": [
    {
     "data": {
      "text/plain": [
       "0.1696053740998258"
      ]
     },
     "execution_count": 40,
     "metadata": {},
     "output_type": "execute_result"
    }
   ],
   "source": [
    "#The regression coefficient\n",
    "model2.params[1]"
   ]
  },
  {
   "cell_type": "code",
   "execution_count": 41,
   "metadata": {},
   "outputs": [
    {
     "data": {
      "text/plain": [
       "0.06470390988330056"
      ]
     },
     "execution_count": 41,
     "metadata": {},
     "output_type": "execute_result"
    }
   ],
   "source": [
    "#The correlation coefficient\n",
    "oecd2_df.corr().loc['parent_attn', 'top_grades']"
   ]
  },
  {
   "cell_type": "markdown",
   "metadata": {},
   "source": [
    "Though there is no **significant** relationship here either, the percent of students who want top grades does increase about .17 percentage points for each additional percent of teens who report their parents are supportive of their education. The correlation coefficient is .06, which means there is a very, very weak positive trend. (I won't plot it here.)"
   ]
  },
  {
   "cell_type": "markdown",
   "metadata": {},
   "source": [
    "## Question 5\n",
    "### Do children with more involved parents perform better in standardized testing?\n",
    "\n",
    "What is the correlation between **supportive/interested parents** and the average **PISA Math scores** for a country? "
   ]
  },
  {
   "cell_type": "code",
   "execution_count": 42,
   "metadata": {},
   "outputs": [
    {
     "data": {
      "text/html": [
       "<table class=\"simpletable\">\n",
       "<caption>OLS Regression Results</caption>\n",
       "<tr>\n",
       "  <th>Dep. Variable:</th>        <td>pisa_math</td>    <th>  R-squared:         </th> <td>   0.103</td>\n",
       "</tr>\n",
       "<tr>\n",
       "  <th>Model:</th>                   <td>OLS</td>       <th>  Adj. R-squared:    </th> <td>   0.076</td>\n",
       "</tr>\n",
       "<tr>\n",
       "  <th>Method:</th>             <td>Least Squares</td>  <th>  F-statistic:       </th> <td>   3.888</td>\n",
       "</tr>\n",
       "<tr>\n",
       "  <th>Date:</th>             <td>Wed, 30 Dec 2020</td> <th>  Prob (F-statistic):</th>  <td>0.0568</td> \n",
       "</tr>\n",
       "<tr>\n",
       "  <th>Time:</th>                 <td>17:09:41</td>     <th>  Log-Likelihood:    </th> <td> -175.09</td>\n",
       "</tr>\n",
       "<tr>\n",
       "  <th>No. Observations:</th>      <td>    36</td>      <th>  AIC:               </th> <td>   354.2</td>\n",
       "</tr>\n",
       "<tr>\n",
       "  <th>Df Residuals:</th>          <td>    34</td>      <th>  BIC:               </th> <td>   357.4</td>\n",
       "</tr>\n",
       "<tr>\n",
       "  <th>Df Model:</th>              <td>     1</td>      <th>                     </th>     <td> </td>   \n",
       "</tr>\n",
       "<tr>\n",
       "  <th>Covariance Type:</th>      <td>nonrobust</td>    <th>                     </th>     <td> </td>   \n",
       "</tr>\n",
       "</table>\n",
       "<table class=\"simpletable\">\n",
       "<tr>\n",
       "       <td></td>          <th>coef</th>     <th>std err</th>      <th>t</th>      <th>P>|t|</th>  <th>[0.025</th>    <th>0.975]</th>  \n",
       "</tr>\n",
       "<tr>\n",
       "  <th>Intercept</th>   <td>  230.7600</td> <td>  130.219</td> <td>    1.772</td> <td> 0.085</td> <td>  -33.877</td> <td>  495.397</td>\n",
       "</tr>\n",
       "<tr>\n",
       "  <th>parent_attn</th> <td>    2.8363</td> <td>    1.438</td> <td>    1.972</td> <td> 0.057</td> <td>   -0.087</td> <td>    5.760</td>\n",
       "</tr>\n",
       "</table>\n",
       "<table class=\"simpletable\">\n",
       "<tr>\n",
       "  <th>Omnibus:</th>       <td>20.242</td> <th>  Durbin-Watson:     </th> <td>   2.194</td>\n",
       "</tr>\n",
       "<tr>\n",
       "  <th>Prob(Omnibus):</th> <td> 0.000</td> <th>  Jarque-Bera (JB):  </th> <td>  32.772</td>\n",
       "</tr>\n",
       "<tr>\n",
       "  <th>Skew:</th>          <td>-1.436</td> <th>  Prob(JB):          </th> <td>7.65e-08</td>\n",
       "</tr>\n",
       "<tr>\n",
       "  <th>Kurtosis:</th>      <td> 6.687</td> <th>  Cond. No.          </th> <td>2.19e+03</td>\n",
       "</tr>\n",
       "</table><br/><br/>Notes:<br/>[1] Standard Errors assume that the covariance matrix of the errors is correctly specified.<br/>[2] The condition number is large, 2.19e+03. This might indicate that there are<br/>strong multicollinearity or other numerical problems."
      ],
      "text/plain": [
       "<class 'statsmodels.iolib.summary.Summary'>\n",
       "\"\"\"\n",
       "                            OLS Regression Results                            \n",
       "==============================================================================\n",
       "Dep. Variable:              pisa_math   R-squared:                       0.103\n",
       "Model:                            OLS   Adj. R-squared:                  0.076\n",
       "Method:                 Least Squares   F-statistic:                     3.888\n",
       "Date:                Wed, 30 Dec 2020   Prob (F-statistic):             0.0568\n",
       "Time:                        17:09:41   Log-Likelihood:                -175.09\n",
       "No. Observations:                  36   AIC:                             354.2\n",
       "Df Residuals:                      34   BIC:                             357.4\n",
       "Df Model:                           1                                         \n",
       "Covariance Type:            nonrobust                                         \n",
       "===============================================================================\n",
       "                  coef    std err          t      P>|t|      [0.025      0.975]\n",
       "-------------------------------------------------------------------------------\n",
       "Intercept     230.7600    130.219      1.772      0.085     -33.877     495.397\n",
       "parent_attn     2.8363      1.438      1.972      0.057      -0.087       5.760\n",
       "==============================================================================\n",
       "Omnibus:                       20.242   Durbin-Watson:                   2.194\n",
       "Prob(Omnibus):                  0.000   Jarque-Bera (JB):               32.772\n",
       "Skew:                          -1.436   Prob(JB):                     7.65e-08\n",
       "Kurtosis:                       6.687   Cond. No.                     2.19e+03\n",
       "==============================================================================\n",
       "\n",
       "Notes:\n",
       "[1] Standard Errors assume that the covariance matrix of the errors is correctly specified.\n",
       "[2] The condition number is large, 2.19e+03. This might indicate that there are\n",
       "strong multicollinearity or other numerical problems.\n",
       "\"\"\""
      ]
     },
     "execution_count": 42,
     "metadata": {},
     "output_type": "execute_result"
    }
   ],
   "source": [
    "#PArental support vs. PISA math score\n",
    "model = smf.ols('pisa_math ~ parent_attn', data=oecd2_df).fit()\n",
    "model.summary()"
   ]
  },
  {
   "cell_type": "code",
   "execution_count": 43,
   "metadata": {},
   "outputs": [
    {
     "data": {
      "text/plain": [
       "2.836319957980292"
      ]
     },
     "execution_count": 43,
     "metadata": {},
     "output_type": "execute_result"
    }
   ],
   "source": [
    "#The regression coefficient\n",
    "model.params[1]"
   ]
  },
  {
   "cell_type": "code",
   "execution_count": 44,
   "metadata": {},
   "outputs": [
    {
     "data": {
      "text/plain": [
       "0.3203299006282419"
      ]
     },
     "execution_count": 44,
     "metadata": {},
     "output_type": "execute_result"
    }
   ],
   "source": [
    "#The correlation coefficient\n",
    "oecd2_df.corr().loc['parent_attn', 'pisa_math']"
   ]
  },
  {
   "cell_type": "code",
   "execution_count": 45,
   "metadata": {},
   "outputs": [
    {
     "data": {
      "text/plain": [
       "<seaborn.axisgrid.FacetGrid at 0x7f9bf45e4e10>"
      ]
     },
     "execution_count": 45,
     "metadata": {},
     "output_type": "execute_result"
    },
    {
     "data": {
      "image/png": "[encoded data removed]",
      "text/plain": [
       "<Figure size 360x360 with 1 Axes>"
      ]
     },
     "metadata": {
      "needs_background": "light"
     },
     "output_type": "display_data"
    }
   ],
   "source": [
    "#Plotting the regression\n",
    "sns.lmplot(x='parent_attn', y='pisa_math', data=oecd2_df)"
   ]
  },
  {
   "cell_type": "markdown",
   "metadata": {},
   "source": [
    "There is a moderate, positive correlation between parental attention and math scores (corr coefficient = .32), but there is no significant relationship. For each additional percent of teens who report their parents are supportive of their education, the average PISA math score increases by 2.8 points. "
   ]
  },
  {
   "cell_type": "markdown",
   "metadata": {},
   "source": [
    "#### Between talking consistently and PISA math scores?"
   ]
  },
  {
   "cell_type": "code",
   "execution_count": 46,
   "metadata": {
    "scrolled": true
   },
   "outputs": [
    {
     "data": {
      "text/html": [
       "<table class=\"simpletable\">\n",
       "<caption>OLS Regression Results</caption>\n",
       "<tr>\n",
       "  <th>Dep. Variable:</th>        <td>pisa_math</td>    <th>  R-squared:         </th> <td>   0.203</td>\n",
       "</tr>\n",
       "<tr>\n",
       "  <th>Model:</th>                   <td>OLS</td>       <th>  Adj. R-squared:    </th> <td>   0.180</td>\n",
       "</tr>\n",
       "<tr>\n",
       "  <th>Method:</th>             <td>Least Squares</td>  <th>  F-statistic:       </th> <td>   8.920</td>\n",
       "</tr>\n",
       "<tr>\n",
       "  <th>Date:</th>             <td>Wed, 30 Dec 2020</td> <th>  Prob (F-statistic):</th>  <td>0.00512</td>\n",
       "</tr>\n",
       "<tr>\n",
       "  <th>Time:</th>                 <td>17:09:41</td>     <th>  Log-Likelihood:    </th> <td> -177.39</td>\n",
       "</tr>\n",
       "<tr>\n",
       "  <th>No. Observations:</th>      <td>    37</td>      <th>  AIC:               </th> <td>   358.8</td>\n",
       "</tr>\n",
       "<tr>\n",
       "  <th>Df Residuals:</th>          <td>    35</td>      <th>  BIC:               </th> <td>   362.0</td>\n",
       "</tr>\n",
       "<tr>\n",
       "  <th>Df Model:</th>              <td>     1</td>      <th>                     </th>     <td> </td>   \n",
       "</tr>\n",
       "<tr>\n",
       "  <th>Covariance Type:</th>      <td>nonrobust</td>    <th>                     </th>     <td> </td>   \n",
       "</tr>\n",
       "</table>\n",
       "<table class=\"simpletable\">\n",
       "<tr>\n",
       "        <td></td>          <th>coef</th>     <th>std err</th>      <th>t</th>      <th>P>|t|</th>  <th>[0.025</th>    <th>0.975]</th>  \n",
       "</tr>\n",
       "<tr>\n",
       "  <th>Intercept</th>    <td>  -81.3066</td> <td>  190.288</td> <td>   -0.427</td> <td> 0.672</td> <td> -467.611</td> <td>  304.998</td>\n",
       "</tr>\n",
       "<tr>\n",
       "  <th>talk_parents</th> <td>    5.9716</td> <td>    1.999</td> <td>    2.987</td> <td> 0.005</td> <td>    1.913</td> <td>   10.031</td>\n",
       "</tr>\n",
       "</table>\n",
       "<table class=\"simpletable\">\n",
       "<tr>\n",
       "  <th>Omnibus:</th>       <td> 9.278</td> <th>  Durbin-Watson:     </th> <td>   2.009</td>\n",
       "</tr>\n",
       "<tr>\n",
       "  <th>Prob(Omnibus):</th> <td> 0.010</td> <th>  Jarque-Bera (JB):  </th> <td>  11.292</td>\n",
       "</tr>\n",
       "<tr>\n",
       "  <th>Skew:</th>          <td>-0.658</td> <th>  Prob(JB):          </th> <td> 0.00353</td>\n",
       "</tr>\n",
       "<tr>\n",
       "  <th>Kurtosis:</th>      <td> 5.365</td> <th>  Cond. No.          </th> <td>3.66e+03</td>\n",
       "</tr>\n",
       "</table><br/><br/>Notes:<br/>[1] Standard Errors assume that the covariance matrix of the errors is correctly specified.<br/>[2] The condition number is large, 3.66e+03. This might indicate that there are<br/>strong multicollinearity or other numerical problems."
      ],
      "text/plain": [
       "<class 'statsmodels.iolib.summary.Summary'>\n",
       "\"\"\"\n",
       "                            OLS Regression Results                            \n",
       "==============================================================================\n",
       "Dep. Variable:              pisa_math   R-squared:                       0.203\n",
       "Model:                            OLS   Adj. R-squared:                  0.180\n",
       "Method:                 Least Squares   F-statistic:                     8.920\n",
       "Date:                Wed, 30 Dec 2020   Prob (F-statistic):            0.00512\n",
       "Time:                        17:09:41   Log-Likelihood:                -177.39\n",
       "No. Observations:                  37   AIC:                             358.8\n",
       "Df Residuals:                      35   BIC:                             362.0\n",
       "Df Model:                           1                                         \n",
       "Covariance Type:            nonrobust                                         \n",
       "================================================================================\n",
       "                   coef    std err          t      P>|t|      [0.025      0.975]\n",
       "--------------------------------------------------------------------------------\n",
       "Intercept      -81.3066    190.288     -0.427      0.672    -467.611     304.998\n",
       "talk_parents     5.9716      1.999      2.987      0.005       1.913      10.031\n",
       "==============================================================================\n",
       "Omnibus:                        9.278   Durbin-Watson:                   2.009\n",
       "Prob(Omnibus):                  0.010   Jarque-Bera (JB):               11.292\n",
       "Skew:                          -0.658   Prob(JB):                      0.00353\n",
       "Kurtosis:                       5.365   Cond. No.                     3.66e+03\n",
       "==============================================================================\n",
       "\n",
       "Notes:\n",
       "[1] Standard Errors assume that the covariance matrix of the errors is correctly specified.\n",
       "[2] The condition number is large, 3.66e+03. This might indicate that there are\n",
       "strong multicollinearity or other numerical problems.\n",
       "\"\"\""
      ]
     },
     "execution_count": 46,
     "metadata": {},
     "output_type": "execute_result"
    }
   ],
   "source": [
    "#Talking consistently vs. PISA math score\n",
    "model3 = smf.ols('pisa_math ~ talk_parents', data=oecd2_df).fit()\n",
    "model3.summary()"
   ]
  },
  {
   "cell_type": "code",
   "execution_count": 47,
   "metadata": {},
   "outputs": [
    {
     "data": {
      "text/plain": [
       "<seaborn.axisgrid.FacetGrid at 0x7f9bf4575dd8>"
      ]
     },
     "execution_count": 47,
     "metadata": {},
     "output_type": "execute_result"
    },
    {
     "data": {
      "image/png": "[encoded data removed]",
      "text/plain": [
       "<Figure size 360x360 with 1 Axes>"
      ]
     },
     "metadata": {
      "needs_background": "light"
     },
     "output_type": "display_data"
    }
   ],
   "source": [
    "#Plotting the regression\n",
    "sns.lmplot(x='talk_parents', y='pisa_math', data=oecd2_df)"
   ]
  },
  {
   "cell_type": "code",
   "execution_count": 48,
   "metadata": {},
   "outputs": [
    {
     "data": {
      "text/plain": [
       "0.45066208244829536"
      ]
     },
     "execution_count": 48,
     "metadata": {},
     "output_type": "execute_result"
    }
   ],
   "source": [
    "#The correlation coefficient\n",
    "oecd2_df.corr().loc['talk_parents', 'pisa_math']"
   ]
  },
  {
   "cell_type": "markdown",
   "metadata": {},
   "source": [
    "There IS (finally) a significant relationship between talking consistently and math test scores, and a moderate, positive correlation. For each additional percent of teens who report talking to their parents regularly, the average PISA math score increases by 6 points. \n",
    "\n",
    "Are there similar trends with a country's **average PISA Reading score**, as well?\n",
    "#### What is the association between parental support/attention and PISA **Reading** scores?"
   ]
  },
  {
   "cell_type": "code",
   "execution_count": 49,
   "metadata": {
    "scrolled": false
   },
   "outputs": [
    {
     "data": {
      "text/html": [
       "<table class=\"simpletable\">\n",
       "<caption>OLS Regression Results</caption>\n",
       "<tr>\n",
       "  <th>Dep. Variable:</th>        <td>pisa_read</td>    <th>  R-squared:         </th> <td>   0.140</td>\n",
       "</tr>\n",
       "<tr>\n",
       "  <th>Model:</th>                   <td>OLS</td>       <th>  Adj. R-squared:    </th> <td>   0.115</td>\n",
       "</tr>\n",
       "<tr>\n",
       "  <th>Method:</th>             <td>Least Squares</td>  <th>  F-statistic:       </th> <td>   5.550</td>\n",
       "</tr>\n",
       "<tr>\n",
       "  <th>Date:</th>             <td>Wed, 30 Dec 2020</td> <th>  Prob (F-statistic):</th>  <td>0.0244</td> \n",
       "</tr>\n",
       "<tr>\n",
       "  <th>Time:</th>                 <td>17:09:42</td>     <th>  Log-Likelihood:    </th> <td> -167.86</td>\n",
       "</tr>\n",
       "<tr>\n",
       "  <th>No. Observations:</th>      <td>    36</td>      <th>  AIC:               </th> <td>   339.7</td>\n",
       "</tr>\n",
       "<tr>\n",
       "  <th>Df Residuals:</th>          <td>    34</td>      <th>  BIC:               </th> <td>   342.9</td>\n",
       "</tr>\n",
       "<tr>\n",
       "  <th>Df Model:</th>              <td>     1</td>      <th>                     </th>     <td> </td>   \n",
       "</tr>\n",
       "<tr>\n",
       "  <th>Covariance Type:</th>      <td>nonrobust</td>    <th>                     </th>     <td> </td>   \n",
       "</tr>\n",
       "</table>\n",
       "<table class=\"simpletable\">\n",
       "<tr>\n",
       "       <td></td>          <th>coef</th>     <th>std err</th>      <th>t</th>      <th>P>|t|</th>  <th>[0.025</th>    <th>0.975]</th>  \n",
       "</tr>\n",
       "<tr>\n",
       "  <th>Intercept</th>   <td>  239.2713</td> <td>  106.519</td> <td>    2.246</td> <td> 0.031</td> <td>   22.798</td> <td>  455.744</td>\n",
       "</tr>\n",
       "<tr>\n",
       "  <th>parent_attn</th> <td>    2.7721</td> <td>    1.177</td> <td>    2.356</td> <td> 0.024</td> <td>    0.381</td> <td>    5.163</td>\n",
       "</tr>\n",
       "</table>\n",
       "<table class=\"simpletable\">\n",
       "<tr>\n",
       "  <th>Omnibus:</th>       <td>12.547</td> <th>  Durbin-Watson:     </th> <td>   2.161</td>\n",
       "</tr>\n",
       "<tr>\n",
       "  <th>Prob(Omnibus):</th> <td> 0.002</td> <th>  Jarque-Bera (JB):  </th> <td>  13.845</td>\n",
       "</tr>\n",
       "<tr>\n",
       "  <th>Skew:</th>          <td>-1.059</td> <th>  Prob(JB):          </th> <td>0.000985</td>\n",
       "</tr>\n",
       "<tr>\n",
       "  <th>Kurtosis:</th>      <td> 5.178</td> <th>  Cond. No.          </th> <td>2.19e+03</td>\n",
       "</tr>\n",
       "</table><br/><br/>Notes:<br/>[1] Standard Errors assume that the covariance matrix of the errors is correctly specified.<br/>[2] The condition number is large, 2.19e+03. This might indicate that there are<br/>strong multicollinearity or other numerical problems."
      ],
      "text/plain": [
       "<class 'statsmodels.iolib.summary.Summary'>\n",
       "\"\"\"\n",
       "                            OLS Regression Results                            \n",
       "==============================================================================\n",
       "Dep. Variable:              pisa_read   R-squared:                       0.140\n",
       "Model:                            OLS   Adj. R-squared:                  0.115\n",
       "Method:                 Least Squares   F-statistic:                     5.550\n",
       "Date:                Wed, 30 Dec 2020   Prob (F-statistic):             0.0244\n",
       "Time:                        17:09:42   Log-Likelihood:                -167.86\n",
       "No. Observations:                  36   AIC:                             339.7\n",
       "Df Residuals:                      34   BIC:                             342.9\n",
       "Df Model:                           1                                         \n",
       "Covariance Type:            nonrobust                                         \n",
       "===============================================================================\n",
       "                  coef    std err          t      P>|t|      [0.025      0.975]\n",
       "-------------------------------------------------------------------------------\n",
       "Intercept     239.2713    106.519      2.246      0.031      22.798     455.744\n",
       "parent_attn     2.7721      1.177      2.356      0.024       0.381       5.163\n",
       "==============================================================================\n",
       "Omnibus:                       12.547   Durbin-Watson:                   2.161\n",
       "Prob(Omnibus):                  0.002   Jarque-Bera (JB):               13.845\n",
       "Skew:                          -1.059   Prob(JB):                     0.000985\n",
       "Kurtosis:                       5.178   Cond. No.                     2.19e+03\n",
       "==============================================================================\n",
       "\n",
       "Notes:\n",
       "[1] Standard Errors assume that the covariance matrix of the errors is correctly specified.\n",
       "[2] The condition number is large, 2.19e+03. This might indicate that there are\n",
       "strong multicollinearity or other numerical problems.\n",
       "\"\"\""
      ]
     },
     "execution_count": 49,
     "metadata": {},
     "output_type": "execute_result"
    }
   ],
   "source": [
    "#Parental support vs. PISA reading score\n",
    "model10 = smf.ols('pisa_read ~ parent_attn', data=oecd2_df).fit()\n",
    "model10.summary()"
   ]
  },
  {
   "cell_type": "code",
   "execution_count": 50,
   "metadata": {},
   "outputs": [
    {
     "data": {
      "text/plain": [
       "0.3746046819503495"
      ]
     },
     "execution_count": 50,
     "metadata": {},
     "output_type": "execute_result"
    }
   ],
   "source": [
    "#The correlation coefficient\n",
    "oecd2_df.corr().loc['parent_attn', 'pisa_read']"
   ]
  },
  {
   "cell_type": "code",
   "execution_count": 51,
   "metadata": {},
   "outputs": [
    {
     "data": {
      "image/png": "[encoded data removed]",
      "text/plain": [
       "<Figure size 360x360 with 1 Axes>"
      ]
     },
     "metadata": {
      "needs_background": "light"
     },
     "output_type": "display_data"
    }
   ],
   "source": [
    "#Plotting the regression\n",
    "attn_read_plt = sns.lmplot(x='parent_attn', y='pisa_read', data=oecd2_df)\n",
    "attn_read_plt = (attn_read_plt.set_axis_labels('% of Adolescents with Parents Interested in/Supportive of Their Education', \n",
    "                                              'Average PISA Reading Score'))\n",
    "\n",
    "#Saving the figure\n",
    "attn_read_plt.savefig('../data_story_presentation/img/attn_read_plt.jpg', \n",
    "                                  bbox_inches='tight', dpi=300)"
   ]
  },
  {
   "cell_type": "markdown",
   "metadata": {},
   "source": [
    "Again, there is a significant relationship between parental support/interest and better PISA reading scores. For each additional percent of teens who say they feel supported in their education, the average PISA reading score increases by 2.8 points. "
   ]
  },
  {
   "cell_type": "code",
   "execution_count": 52,
   "metadata": {
    "scrolled": true
   },
   "outputs": [
    {
     "data": {
      "text/html": [
       "<table class=\"simpletable\">\n",
       "<caption>OLS Regression Results</caption>\n",
       "<tr>\n",
       "  <th>Dep. Variable:</th>        <td>pisa_read</td>    <th>  R-squared:         </th> <td>   0.230</td>\n",
       "</tr>\n",
       "<tr>\n",
       "  <th>Model:</th>                   <td>OLS</td>       <th>  Adj. R-squared:    </th> <td>   0.208</td>\n",
       "</tr>\n",
       "<tr>\n",
       "  <th>Method:</th>             <td>Least Squares</td>  <th>  F-statistic:       </th> <td>   10.46</td>\n",
       "</tr>\n",
       "<tr>\n",
       "  <th>Date:</th>             <td>Wed, 30 Dec 2020</td> <th>  Prob (F-statistic):</th>  <td>0.00266</td>\n",
       "</tr>\n",
       "<tr>\n",
       "  <th>Time:</th>                 <td>17:09:42</td>     <th>  Log-Likelihood:    </th> <td> -170.05</td>\n",
       "</tr>\n",
       "<tr>\n",
       "  <th>No. Observations:</th>      <td>    37</td>      <th>  AIC:               </th> <td>   344.1</td>\n",
       "</tr>\n",
       "<tr>\n",
       "  <th>Df Residuals:</th>          <td>    35</td>      <th>  BIC:               </th> <td>   347.3</td>\n",
       "</tr>\n",
       "<tr>\n",
       "  <th>Df Model:</th>              <td>     1</td>      <th>                     </th>     <td> </td>   \n",
       "</tr>\n",
       "<tr>\n",
       "  <th>Covariance Type:</th>      <td>nonrobust</td>    <th>                     </th>     <td> </td>   \n",
       "</tr>\n",
       "</table>\n",
       "<table class=\"simpletable\">\n",
       "<tr>\n",
       "        <td></td>          <th>coef</th>     <th>std err</th>      <th>t</th>      <th>P>|t|</th>  <th>[0.025</th>    <th>0.975]</th>  \n",
       "</tr>\n",
       "<tr>\n",
       "  <th>Intercept</th>    <td>  -14.8548</td> <td>  156.053</td> <td>   -0.095</td> <td> 0.925</td> <td> -331.660</td> <td>  301.951</td>\n",
       "</tr>\n",
       "<tr>\n",
       "  <th>talk_parents</th> <td>    5.3034</td> <td>    1.640</td> <td>    3.234</td> <td> 0.003</td> <td>    1.975</td> <td>    8.632</td>\n",
       "</tr>\n",
       "</table>\n",
       "<table class=\"simpletable\">\n",
       "<tr>\n",
       "  <th>Omnibus:</th>       <td> 4.174</td> <th>  Durbin-Watson:     </th> <td>   2.167</td>\n",
       "</tr>\n",
       "<tr>\n",
       "  <th>Prob(Omnibus):</th> <td> 0.124</td> <th>  Jarque-Bera (JB):  </th> <td>   2.954</td>\n",
       "</tr>\n",
       "<tr>\n",
       "  <th>Skew:</th>          <td>-0.438</td> <th>  Prob(JB):          </th> <td>   0.228</td>\n",
       "</tr>\n",
       "<tr>\n",
       "  <th>Kurtosis:</th>      <td> 4.072</td> <th>  Cond. No.          </th> <td>3.66e+03</td>\n",
       "</tr>\n",
       "</table><br/><br/>Notes:<br/>[1] Standard Errors assume that the covariance matrix of the errors is correctly specified.<br/>[2] The condition number is large, 3.66e+03. This might indicate that there are<br/>strong multicollinearity or other numerical problems."
      ],
      "text/plain": [
       "<class 'statsmodels.iolib.summary.Summary'>\n",
       "\"\"\"\n",
       "                            OLS Regression Results                            \n",
       "==============================================================================\n",
       "Dep. Variable:              pisa_read   R-squared:                       0.230\n",
       "Model:                            OLS   Adj. R-squared:                  0.208\n",
       "Method:                 Least Squares   F-statistic:                     10.46\n",
       "Date:                Wed, 30 Dec 2020   Prob (F-statistic):            0.00266\n",
       "Time:                        17:09:42   Log-Likelihood:                -170.05\n",
       "No. Observations:                  37   AIC:                             344.1\n",
       "Df Residuals:                      35   BIC:                             347.3\n",
       "Df Model:                           1                                         \n",
       "Covariance Type:            nonrobust                                         \n",
       "================================================================================\n",
       "                   coef    std err          t      P>|t|      [0.025      0.975]\n",
       "--------------------------------------------------------------------------------\n",
       "Intercept      -14.8548    156.053     -0.095      0.925    -331.660     301.951\n",
       "talk_parents     5.3034      1.640      3.234      0.003       1.975       8.632\n",
       "==============================================================================\n",
       "Omnibus:                        4.174   Durbin-Watson:                   2.167\n",
       "Prob(Omnibus):                  0.124   Jarque-Bera (JB):                2.954\n",
       "Skew:                          -0.438   Prob(JB):                        0.228\n",
       "Kurtosis:                       4.072   Cond. No.                     3.66e+03\n",
       "==============================================================================\n",
       "\n",
       "Notes:\n",
       "[1] Standard Errors assume that the covariance matrix of the errors is correctly specified.\n",
       "[2] The condition number is large, 3.66e+03. This might indicate that there are\n",
       "strong multicollinearity or other numerical problems.\n",
       "\"\"\""
      ]
     },
     "execution_count": 52,
     "metadata": {},
     "output_type": "execute_result"
    }
   ],
   "source": [
    "#Talking consistently vs. PISA reading score\n",
    "model11 = smf.ols('pisa_read ~ talk_parents', data=oecd2_df).fit()\n",
    "model11.summary()"
   ]
  },
  {
   "cell_type": "code",
   "execution_count": 53,
   "metadata": {},
   "outputs": [
    {
     "data": {
      "text/plain": [
       "0.45066208244829536"
      ]
     },
     "execution_count": 53,
     "metadata": {},
     "output_type": "execute_result"
    }
   ],
   "source": [
    "#The correlation coefficient\n",
    "oecd2_df.corr().loc['talk_parents', 'pisa_math']"
   ]
  },
  {
   "cell_type": "code",
   "execution_count": 54,
   "metadata": {
    "scrolled": true
   },
   "outputs": [
    {
     "data": {
      "image/png": "[encoded data removed]",
      "text/plain": [
       "<Figure size 360x360 with 1 Axes>"
      ]
     },
     "metadata": {
      "needs_background": "light"
     },
     "output_type": "display_data"
    }
   ],
   "source": [
    "#Plotting the regression\n",
    "talk_read_plt = sns.lmplot(x='talk_parents', y='pisa_read', data=oecd2_df)\n",
    "talk_read_plt = (talk_read_plt.set_axis_labels('% of Adolescents Who Talk with Parents Twice a Day', \n",
    "                                              'Average PISA Reading Score'))"
   ]
  },
  {
   "cell_type": "markdown",
   "metadata": {},
   "source": [
    "There is a significant relationship between talking consistently and better PISA reading scores. For each additional percent of teens who report talking to their parents regularly, the average PISA reading score increases by 5.3 points.\n",
    "This leads to the question, \"Is talking to your child consistently correlated with less test anxiety?\""
   ]
  },
  {
   "cell_type": "markdown",
   "metadata": {},
   "source": [
    "## Question 6\n",
    "### Are measures of parental involvement associated with test anxiety?\n",
    "\n",
    "Do kids who report **talking to their parents before and after school** experience worry about school tests even when well-prepared?"
   ]
  },
  {
   "cell_type": "code",
   "execution_count": 55,
   "metadata": {
    "scrolled": true
   },
   "outputs": [
    {
     "data": {
      "text/html": [
       "<table class=\"simpletable\">\n",
       "<caption>OLS Regression Results</caption>\n",
       "<tr>\n",
       "  <th>Dep. Variable:</th>        <td>test_anx</td>     <th>  R-squared:         </th> <td>   0.001</td>\n",
       "</tr>\n",
       "<tr>\n",
       "  <th>Model:</th>                   <td>OLS</td>       <th>  Adj. R-squared:    </th> <td>  -0.027</td>\n",
       "</tr>\n",
       "<tr>\n",
       "  <th>Method:</th>             <td>Least Squares</td>  <th>  F-statistic:       </th> <td> 0.04505</td>\n",
       "</tr>\n",
       "<tr>\n",
       "  <th>Date:</th>             <td>Wed, 30 Dec 2020</td> <th>  Prob (F-statistic):</th>  <td> 0.833</td> \n",
       "</tr>\n",
       "<tr>\n",
       "  <th>Time:</th>                 <td>17:09:43</td>     <th>  Log-Likelihood:    </th> <td> -140.94</td>\n",
       "</tr>\n",
       "<tr>\n",
       "  <th>No. Observations:</th>      <td>    37</td>      <th>  AIC:               </th> <td>   285.9</td>\n",
       "</tr>\n",
       "<tr>\n",
       "  <th>Df Residuals:</th>          <td>    35</td>      <th>  BIC:               </th> <td>   289.1</td>\n",
       "</tr>\n",
       "<tr>\n",
       "  <th>Df Model:</th>              <td>     1</td>      <th>                     </th>     <td> </td>   \n",
       "</tr>\n",
       "<tr>\n",
       "  <th>Covariance Type:</th>      <td>nonrobust</td>    <th>                     </th>     <td> </td>   \n",
       "</tr>\n",
       "</table>\n",
       "<table class=\"simpletable\">\n",
       "<tr>\n",
       "        <td></td>          <th>coef</th>     <th>std err</th>      <th>t</th>      <th>P>|t|</th>  <th>[0.025</th>    <th>0.975]</th>  \n",
       "</tr>\n",
       "<tr>\n",
       "  <th>Intercept</th>    <td>   71.2454</td> <td>   71.051</td> <td>    1.003</td> <td> 0.323</td> <td>  -72.997</td> <td>  215.487</td>\n",
       "</tr>\n",
       "<tr>\n",
       "  <th>talk_parents</th> <td>   -0.1585</td> <td>    0.747</td> <td>   -0.212</td> <td> 0.833</td> <td>   -1.674</td> <td>    1.357</td>\n",
       "</tr>\n",
       "</table>\n",
       "<table class=\"simpletable\">\n",
       "<tr>\n",
       "  <th>Omnibus:</th>       <td> 1.088</td> <th>  Durbin-Watson:     </th> <td>   2.225</td>\n",
       "</tr>\n",
       "<tr>\n",
       "  <th>Prob(Omnibus):</th> <td> 0.580</td> <th>  Jarque-Bera (JB):  </th> <td>   0.878</td>\n",
       "</tr>\n",
       "<tr>\n",
       "  <th>Skew:</th>          <td> 0.021</td> <th>  Prob(JB):          </th> <td>   0.645</td>\n",
       "</tr>\n",
       "<tr>\n",
       "  <th>Kurtosis:</th>      <td> 2.246</td> <th>  Cond. No.          </th> <td>3.66e+03</td>\n",
       "</tr>\n",
       "</table><br/><br/>Notes:<br/>[1] Standard Errors assume that the covariance matrix of the errors is correctly specified.<br/>[2] The condition number is large, 3.66e+03. This might indicate that there are<br/>strong multicollinearity or other numerical problems."
      ],
      "text/plain": [
       "<class 'statsmodels.iolib.summary.Summary'>\n",
       "\"\"\"\n",
       "                            OLS Regression Results                            \n",
       "==============================================================================\n",
       "Dep. Variable:               test_anx   R-squared:                       0.001\n",
       "Model:                            OLS   Adj. R-squared:                 -0.027\n",
       "Method:                 Least Squares   F-statistic:                   0.04505\n",
       "Date:                Wed, 30 Dec 2020   Prob (F-statistic):              0.833\n",
       "Time:                        17:09:43   Log-Likelihood:                -140.94\n",
       "No. Observations:                  37   AIC:                             285.9\n",
       "Df Residuals:                      35   BIC:                             289.1\n",
       "Df Model:                           1                                         \n",
       "Covariance Type:            nonrobust                                         \n",
       "================================================================================\n",
       "                   coef    std err          t      P>|t|      [0.025      0.975]\n",
       "--------------------------------------------------------------------------------\n",
       "Intercept       71.2454     71.051      1.003      0.323     -72.997     215.487\n",
       "talk_parents    -0.1585      0.747     -0.212      0.833      -1.674       1.357\n",
       "==============================================================================\n",
       "Omnibus:                        1.088   Durbin-Watson:                   2.225\n",
       "Prob(Omnibus):                  0.580   Jarque-Bera (JB):                0.878\n",
       "Skew:                           0.021   Prob(JB):                        0.645\n",
       "Kurtosis:                       2.246   Cond. No.                     3.66e+03\n",
       "==============================================================================\n",
       "\n",
       "Notes:\n",
       "[1] Standard Errors assume that the covariance matrix of the errors is correctly specified.\n",
       "[2] The condition number is large, 3.66e+03. This might indicate that there are\n",
       "strong multicollinearity or other numerical problems.\n",
       "\"\"\""
      ]
     },
     "execution_count": 55,
     "metadata": {},
     "output_type": "execute_result"
    }
   ],
   "source": [
    "#Talking consistently vs. Test anxiety\n",
    "model4 = smf.ols('test_anx ~ talk_parents', data=oecd2_df).fit()\n",
    "model4.summary()"
   ]
  },
  {
   "cell_type": "code",
   "execution_count": 56,
   "metadata": {},
   "outputs": [
    {
     "data": {
      "text/plain": [
       "-0.03585259892922092"
      ]
     },
     "execution_count": 56,
     "metadata": {},
     "output_type": "execute_result"
    }
   ],
   "source": [
    "#The correlation coefficient\n",
    "oecd2_df.corr().loc['talk_parents', 'test_anx']"
   ]
  },
  {
   "cell_type": "markdown",
   "metadata": {},
   "source": [
    "There is no significant relationship test anxiety and more parent-child communication, and the correlation is close to 0. Does test anxiety decrease when parents show more attention to their child's education? Does more attention (or helicopter parenting) maybe have an adverse effect, causing the child to feel more nervous?"
   ]
  },
  {
   "cell_type": "code",
   "execution_count": 57,
   "metadata": {
    "scrolled": true
   },
   "outputs": [
    {
     "data": {
      "text/html": [
       "<table class=\"simpletable\">\n",
       "<caption>OLS Regression Results</caption>\n",
       "<tr>\n",
       "  <th>Dep. Variable:</th>        <td>test_anx</td>     <th>  R-squared:         </th> <td>   0.002</td>\n",
       "</tr>\n",
       "<tr>\n",
       "  <th>Model:</th>                   <td>OLS</td>       <th>  Adj. R-squared:    </th> <td>  -0.028</td>\n",
       "</tr>\n",
       "<tr>\n",
       "  <th>Method:</th>             <td>Least Squares</td>  <th>  F-statistic:       </th> <td> 0.05218</td>\n",
       "</tr>\n",
       "<tr>\n",
       "  <th>Date:</th>             <td>Wed, 30 Dec 2020</td> <th>  Prob (F-statistic):</th>  <td> 0.821</td> \n",
       "</tr>\n",
       "<tr>\n",
       "  <th>Time:</th>                 <td>17:09:43</td>     <th>  Log-Likelihood:    </th> <td> -137.04</td>\n",
       "</tr>\n",
       "<tr>\n",
       "  <th>No. Observations:</th>      <td>    36</td>      <th>  AIC:               </th> <td>   278.1</td>\n",
       "</tr>\n",
       "<tr>\n",
       "  <th>Df Residuals:</th>          <td>    34</td>      <th>  BIC:               </th> <td>   281.3</td>\n",
       "</tr>\n",
       "<tr>\n",
       "  <th>Df Model:</th>              <td>     1</td>      <th>                     </th>     <td> </td>   \n",
       "</tr>\n",
       "<tr>\n",
       "  <th>Covariance Type:</th>      <td>nonrobust</td>    <th>                     </th>     <td> </td>   \n",
       "</tr>\n",
       "</table>\n",
       "<table class=\"simpletable\">\n",
       "<tr>\n",
       "       <td></td>          <th>coef</th>     <th>std err</th>      <th>t</th>      <th>P>|t|</th>  <th>[0.025</th>    <th>0.975]</th>  \n",
       "</tr>\n",
       "<tr>\n",
       "  <th>Intercept</th>   <td>   46.1664</td> <td>   45.254</td> <td>    1.020</td> <td> 0.315</td> <td>  -45.800</td> <td>  138.133</td>\n",
       "</tr>\n",
       "<tr>\n",
       "  <th>parent_attn</th> <td>    0.1142</td> <td>    0.500</td> <td>    0.228</td> <td> 0.821</td> <td>   -0.902</td> <td>    1.130</td>\n",
       "</tr>\n",
       "</table>\n",
       "<table class=\"simpletable\">\n",
       "<tr>\n",
       "  <th>Omnibus:</th>       <td> 0.625</td> <th>  Durbin-Watson:     </th> <td>   2.211</td>\n",
       "</tr>\n",
       "<tr>\n",
       "  <th>Prob(Omnibus):</th> <td> 0.732</td> <th>  Jarque-Bera (JB):  </th> <td>   0.684</td>\n",
       "</tr>\n",
       "<tr>\n",
       "  <th>Skew:</th>          <td>-0.089</td> <th>  Prob(JB):          </th> <td>   0.710</td>\n",
       "</tr>\n",
       "<tr>\n",
       "  <th>Kurtosis:</th>      <td> 2.349</td> <th>  Cond. No.          </th> <td>2.19e+03</td>\n",
       "</tr>\n",
       "</table><br/><br/>Notes:<br/>[1] Standard Errors assume that the covariance matrix of the errors is correctly specified.<br/>[2] The condition number is large, 2.19e+03. This might indicate that there are<br/>strong multicollinearity or other numerical problems."
      ],
      "text/plain": [
       "<class 'statsmodels.iolib.summary.Summary'>\n",
       "\"\"\"\n",
       "                            OLS Regression Results                            \n",
       "==============================================================================\n",
       "Dep. Variable:               test_anx   R-squared:                       0.002\n",
       "Model:                            OLS   Adj. R-squared:                 -0.028\n",
       "Method:                 Least Squares   F-statistic:                   0.05218\n",
       "Date:                Wed, 30 Dec 2020   Prob (F-statistic):              0.821\n",
       "Time:                        17:09:43   Log-Likelihood:                -137.04\n",
       "No. Observations:                  36   AIC:                             278.1\n",
       "Df Residuals:                      34   BIC:                             281.3\n",
       "Df Model:                           1                                         \n",
       "Covariance Type:            nonrobust                                         \n",
       "===============================================================================\n",
       "                  coef    std err          t      P>|t|      [0.025      0.975]\n",
       "-------------------------------------------------------------------------------\n",
       "Intercept      46.1664     45.254      1.020      0.315     -45.800     138.133\n",
       "parent_attn     0.1142      0.500      0.228      0.821      -0.902       1.130\n",
       "==============================================================================\n",
       "Omnibus:                        0.625   Durbin-Watson:                   2.211\n",
       "Prob(Omnibus):                  0.732   Jarque-Bera (JB):                0.684\n",
       "Skew:                          -0.089   Prob(JB):                        0.710\n",
       "Kurtosis:                       2.349   Cond. No.                     2.19e+03\n",
       "==============================================================================\n",
       "\n",
       "Notes:\n",
       "[1] Standard Errors assume that the covariance matrix of the errors is correctly specified.\n",
       "[2] The condition number is large, 2.19e+03. This might indicate that there are\n",
       "strong multicollinearity or other numerical problems.\n",
       "\"\"\""
      ]
     },
     "execution_count": 57,
     "metadata": {},
     "output_type": "execute_result"
    }
   ],
   "source": [
    "#Parental support vs. Test anxiety\n",
    "model5 = smf.ols('test_anx ~ parent_attn', data=oecd2_df).fit()\n",
    "model5.summary()"
   ]
  },
  {
   "cell_type": "code",
   "execution_count": 58,
   "metadata": {},
   "outputs": [
    {
     "data": {
      "text/plain": [
       "0.039143646002309726"
      ]
     },
     "execution_count": 58,
     "metadata": {},
     "output_type": "execute_result"
    }
   ],
   "source": [
    "#The correlation coefficient\n",
    "oecd2_df.corr().loc['parent_attn', 'test_anx']"
   ]
  },
  {
   "cell_type": "markdown",
   "metadata": {},
   "source": [
    "No relationship there either, and the correlation is close to 0 showing no trend. \n",
    "\n",
    "## Question 7\n",
    "\n",
    "### Do measures of  parental involvement correlate with the percentage of teens who feel they belong at school?\n",
    "\n",
    "Does more **interest in a child's education** help a child feel more comfortable at school?"
   ]
  },
  {
   "cell_type": "code",
   "execution_count": 59,
   "metadata": {
    "scrolled": true
   },
   "outputs": [
    {
     "data": {
      "text/html": [
       "<table class=\"simpletable\">\n",
       "<caption>OLS Regression Results</caption>\n",
       "<tr>\n",
       "  <th>Dep. Variable:</th>         <td>belong</td>      <th>  R-squared:         </th> <td>   0.016</td>\n",
       "</tr>\n",
       "<tr>\n",
       "  <th>Model:</th>                   <td>OLS</td>       <th>  Adj. R-squared:    </th> <td>  -0.013</td>\n",
       "</tr>\n",
       "<tr>\n",
       "  <th>Method:</th>             <td>Least Squares</td>  <th>  F-statistic:       </th> <td>  0.5483</td>\n",
       "</tr>\n",
       "<tr>\n",
       "  <th>Date:</th>             <td>Wed, 30 Dec 2020</td> <th>  Prob (F-statistic):</th>  <td> 0.464</td> \n",
       "</tr>\n",
       "<tr>\n",
       "  <th>Time:</th>                 <td>17:09:43</td>     <th>  Log-Likelihood:    </th> <td> -128.26</td>\n",
       "</tr>\n",
       "<tr>\n",
       "  <th>No. Observations:</th>      <td>    36</td>      <th>  AIC:               </th> <td>   260.5</td>\n",
       "</tr>\n",
       "<tr>\n",
       "  <th>Df Residuals:</th>          <td>    34</td>      <th>  BIC:               </th> <td>   263.7</td>\n",
       "</tr>\n",
       "<tr>\n",
       "  <th>Df Model:</th>              <td>     1</td>      <th>                     </th>     <td> </td>   \n",
       "</tr>\n",
       "<tr>\n",
       "  <th>Covariance Type:</th>      <td>nonrobust</td>    <th>                     </th>     <td> </td>   \n",
       "</tr>\n",
       "</table>\n",
       "<table class=\"simpletable\">\n",
       "<tr>\n",
       "       <td></td>          <th>coef</th>     <th>std err</th>      <th>t</th>      <th>P>|t|</th>  <th>[0.025</th>    <th>0.975]</th>  \n",
       "</tr>\n",
       "<tr>\n",
       "  <th>Intercept</th>   <td>   46.3574</td> <td>   35.460</td> <td>    1.307</td> <td> 0.200</td> <td>  -25.707</td> <td>  118.422</td>\n",
       "</tr>\n",
       "<tr>\n",
       "  <th>parent_attn</th> <td>    0.2901</td> <td>    0.392</td> <td>    0.740</td> <td> 0.464</td> <td>   -0.506</td> <td>    1.086</td>\n",
       "</tr>\n",
       "</table>\n",
       "<table class=\"simpletable\">\n",
       "<tr>\n",
       "  <th>Omnibus:</th>       <td>21.826</td> <th>  Durbin-Watson:     </th> <td>   2.138</td>\n",
       "</tr>\n",
       "<tr>\n",
       "  <th>Prob(Omnibus):</th> <td> 0.000</td> <th>  Jarque-Bera (JB):  </th> <td>  37.481</td>\n",
       "</tr>\n",
       "<tr>\n",
       "  <th>Skew:</th>          <td>-1.526</td> <th>  Prob(JB):          </th> <td>7.26e-09</td>\n",
       "</tr>\n",
       "<tr>\n",
       "  <th>Kurtosis:</th>      <td> 6.958</td> <th>  Cond. No.          </th> <td>2.19e+03</td>\n",
       "</tr>\n",
       "</table><br/><br/>Notes:<br/>[1] Standard Errors assume that the covariance matrix of the errors is correctly specified.<br/>[2] The condition number is large, 2.19e+03. This might indicate that there are<br/>strong multicollinearity or other numerical problems."
      ],
      "text/plain": [
       "<class 'statsmodels.iolib.summary.Summary'>\n",
       "\"\"\"\n",
       "                            OLS Regression Results                            \n",
       "==============================================================================\n",
       "Dep. Variable:                 belong   R-squared:                       0.016\n",
       "Model:                            OLS   Adj. R-squared:                 -0.013\n",
       "Method:                 Least Squares   F-statistic:                    0.5483\n",
       "Date:                Wed, 30 Dec 2020   Prob (F-statistic):              0.464\n",
       "Time:                        17:09:43   Log-Likelihood:                -128.26\n",
       "No. Observations:                  36   AIC:                             260.5\n",
       "Df Residuals:                      34   BIC:                             263.7\n",
       "Df Model:                           1                                         \n",
       "Covariance Type:            nonrobust                                         \n",
       "===============================================================================\n",
       "                  coef    std err          t      P>|t|      [0.025      0.975]\n",
       "-------------------------------------------------------------------------------\n",
       "Intercept      46.3574     35.460      1.307      0.200     -25.707     118.422\n",
       "parent_attn     0.2901      0.392      0.740      0.464      -0.506       1.086\n",
       "==============================================================================\n",
       "Omnibus:                       21.826   Durbin-Watson:                   2.138\n",
       "Prob(Omnibus):                  0.000   Jarque-Bera (JB):               37.481\n",
       "Skew:                          -1.526   Prob(JB):                     7.26e-09\n",
       "Kurtosis:                       6.958   Cond. No.                     2.19e+03\n",
       "==============================================================================\n",
       "\n",
       "Notes:\n",
       "[1] Standard Errors assume that the covariance matrix of the errors is correctly specified.\n",
       "[2] The condition number is large, 2.19e+03. This might indicate that there are\n",
       "strong multicollinearity or other numerical problems.\n",
       "\"\"\""
      ]
     },
     "execution_count": 59,
     "metadata": {},
     "output_type": "execute_result"
    }
   ],
   "source": [
    "#Parent support vs. Sense of belonging\n",
    "model6 = smf.ols('belong ~ parent_attn', data=oecd2_df).fit()\n",
    "model6.summary()"
   ]
  },
  {
   "cell_type": "code",
   "execution_count": 60,
   "metadata": {},
   "outputs": [
    {
     "data": {
      "text/plain": [
       "0.12597434914599703"
      ]
     },
     "execution_count": 60,
     "metadata": {},
     "output_type": "execute_result"
    }
   ],
   "source": [
    "#The correlation coefficient\n",
    "oecd2_df.corr().loc['parent_attn', 'belong']"
   ]
  },
  {
   "cell_type": "markdown",
   "metadata": {},
   "source": [
    "There is a very weak, positive correlation between parental attention and sense of belonging (corr coefficient = .13), but there is no significant relationship. For each additional percent of teens who report their parents are supportive of their education, their sense of belonging at school increases by .29 percentage points. \n",
    "\n",
    "#### What about talking consistently and sense of belonging?"
   ]
  },
  {
   "cell_type": "code",
   "execution_count": 61,
   "metadata": {
    "scrolled": true
   },
   "outputs": [
    {
     "data": {
      "text/html": [
       "<table class=\"simpletable\">\n",
       "<caption>OLS Regression Results</caption>\n",
       "<tr>\n",
       "  <th>Dep. Variable:</th>         <td>belong</td>      <th>  R-squared:         </th> <td>   0.015</td>\n",
       "</tr>\n",
       "<tr>\n",
       "  <th>Model:</th>                   <td>OLS</td>       <th>  Adj. R-squared:    </th> <td>  -0.014</td>\n",
       "</tr>\n",
       "<tr>\n",
       "  <th>Method:</th>             <td>Least Squares</td>  <th>  F-statistic:       </th> <td>  0.5176</td>\n",
       "</tr>\n",
       "<tr>\n",
       "  <th>Date:</th>             <td>Wed, 30 Dec 2020</td> <th>  Prob (F-statistic):</th>  <td> 0.477</td> \n",
       "</tr>\n",
       "<tr>\n",
       "  <th>Time:</th>                 <td>17:09:43</td>     <th>  Log-Likelihood:    </th> <td> -128.28</td>\n",
       "</tr>\n",
       "<tr>\n",
       "  <th>No. Observations:</th>      <td>    36</td>      <th>  AIC:               </th> <td>   260.6</td>\n",
       "</tr>\n",
       "<tr>\n",
       "  <th>Df Residuals:</th>          <td>    34</td>      <th>  BIC:               </th> <td>   263.7</td>\n",
       "</tr>\n",
       "<tr>\n",
       "  <th>Df Model:</th>              <td>     1</td>      <th>                     </th>     <td> </td>   \n",
       "</tr>\n",
       "<tr>\n",
       "  <th>Covariance Type:</th>      <td>nonrobust</td>    <th>                     </th>     <td> </td>   \n",
       "</tr>\n",
       "</table>\n",
       "<table class=\"simpletable\">\n",
       "<tr>\n",
       "        <td></td>          <th>coef</th>     <th>std err</th>      <th>t</th>      <th>P>|t|</th>  <th>[0.025</th>    <th>0.975]</th>  \n",
       "</tr>\n",
       "<tr>\n",
       "  <th>Intercept</th>    <td>   32.5937</td> <td>   55.615</td> <td>    0.586</td> <td> 0.562</td> <td>  -80.429</td> <td>  145.616</td>\n",
       "</tr>\n",
       "<tr>\n",
       "  <th>talk_parents</th> <td>    0.4205</td> <td>    0.584</td> <td>    0.719</td> <td> 0.477</td> <td>   -0.767</td> <td>    1.608</td>\n",
       "</tr>\n",
       "</table>\n",
       "<table class=\"simpletable\">\n",
       "<tr>\n",
       "  <th>Omnibus:</th>       <td>19.117</td> <th>  Durbin-Watson:     </th> <td>   2.196</td>\n",
       "</tr>\n",
       "<tr>\n",
       "  <th>Prob(Omnibus):</th> <td> 0.000</td> <th>  Jarque-Bera (JB):  </th> <td>  27.674</td>\n",
       "</tr>\n",
       "<tr>\n",
       "  <th>Skew:</th>          <td>-1.434</td> <th>  Prob(JB):          </th> <td>9.79e-07</td>\n",
       "</tr>\n",
       "<tr>\n",
       "  <th>Kurtosis:</th>      <td> 6.198</td> <th>  Cond. No.          </th> <td>3.62e+03</td>\n",
       "</tr>\n",
       "</table><br/><br/>Notes:<br/>[1] Standard Errors assume that the covariance matrix of the errors is correctly specified.<br/>[2] The condition number is large, 3.62e+03. This might indicate that there are<br/>strong multicollinearity or other numerical problems."
      ],
      "text/plain": [
       "<class 'statsmodels.iolib.summary.Summary'>\n",
       "\"\"\"\n",
       "                            OLS Regression Results                            \n",
       "==============================================================================\n",
       "Dep. Variable:                 belong   R-squared:                       0.015\n",
       "Model:                            OLS   Adj. R-squared:                 -0.014\n",
       "Method:                 Least Squares   F-statistic:                    0.5176\n",
       "Date:                Wed, 30 Dec 2020   Prob (F-statistic):              0.477\n",
       "Time:                        17:09:43   Log-Likelihood:                -128.28\n",
       "No. Observations:                  36   AIC:                             260.6\n",
       "Df Residuals:                      34   BIC:                             263.7\n",
       "Df Model:                           1                                         \n",
       "Covariance Type:            nonrobust                                         \n",
       "================================================================================\n",
       "                   coef    std err          t      P>|t|      [0.025      0.975]\n",
       "--------------------------------------------------------------------------------\n",
       "Intercept       32.5937     55.615      0.586      0.562     -80.429     145.616\n",
       "talk_parents     0.4205      0.584      0.719      0.477      -0.767       1.608\n",
       "==============================================================================\n",
       "Omnibus:                       19.117   Durbin-Watson:                   2.196\n",
       "Prob(Omnibus):                  0.000   Jarque-Bera (JB):               27.674\n",
       "Skew:                          -1.434   Prob(JB):                     9.79e-07\n",
       "Kurtosis:                       6.198   Cond. No.                     3.62e+03\n",
       "==============================================================================\n",
       "\n",
       "Notes:\n",
       "[1] Standard Errors assume that the covariance matrix of the errors is correctly specified.\n",
       "[2] The condition number is large, 3.62e+03. This might indicate that there are\n",
       "strong multicollinearity or other numerical problems.\n",
       "\"\"\""
      ]
     },
     "execution_count": 61,
     "metadata": {},
     "output_type": "execute_result"
    }
   ],
   "source": [
    "#Talking vs. Sense of belonging\n",
    "model7 = smf.ols('belong ~ talk_parents', data=oecd2_df).fit()\n",
    "model7.summary()"
   ]
  },
  {
   "cell_type": "markdown",
   "metadata": {},
   "source": [
    "Again, there is a very weak, positive correlation between more communicating and sense of belonging (corr coefficient = .12), but there is no significant relationship. For each additional percent of teens who report their parents are supportive of their education, their sense of belonging at school increases by .42 percentage points. "
   ]
  },
  {
   "cell_type": "markdown",
   "metadata": {},
   "source": [
    "### Is parental involvement related to intention to attend university?\n",
    "\n",
    "How is **\"talking before/after school\"** related to the percentage of **teens who expect to complete a university degree**?"
   ]
  },
  {
   "cell_type": "code",
   "execution_count": 62,
   "metadata": {
    "scrolled": true
   },
   "outputs": [
    {
     "data": {
      "text/html": [
       "<table class=\"simpletable\">\n",
       "<caption>OLS Regression Results</caption>\n",
       "<tr>\n",
       "  <th>Dep. Variable:</th>         <td>college</td>     <th>  R-squared:         </th> <td>   0.146</td>\n",
       "</tr>\n",
       "<tr>\n",
       "  <th>Model:</th>                   <td>OLS</td>       <th>  Adj. R-squared:    </th> <td>   0.121</td>\n",
       "</tr>\n",
       "<tr>\n",
       "  <th>Method:</th>             <td>Least Squares</td>  <th>  F-statistic:       </th> <td>   5.824</td>\n",
       "</tr>\n",
       "<tr>\n",
       "  <th>Date:</th>             <td>Wed, 30 Dec 2020</td> <th>  Prob (F-statistic):</th>  <td>0.0213</td> \n",
       "</tr>\n",
       "<tr>\n",
       "  <th>Time:</th>                 <td>17:09:43</td>     <th>  Log-Likelihood:    </th> <td> -147.51</td>\n",
       "</tr>\n",
       "<tr>\n",
       "  <th>No. Observations:</th>      <td>    36</td>      <th>  AIC:               </th> <td>   299.0</td>\n",
       "</tr>\n",
       "<tr>\n",
       "  <th>Df Residuals:</th>          <td>    34</td>      <th>  BIC:               </th> <td>   302.2</td>\n",
       "</tr>\n",
       "<tr>\n",
       "  <th>Df Model:</th>              <td>     1</td>      <th>                     </th>     <td> </td>   \n",
       "</tr>\n",
       "<tr>\n",
       "  <th>Covariance Type:</th>      <td>nonrobust</td>    <th>                     </th>     <td> </td>   \n",
       "</tr>\n",
       "</table>\n",
       "<table class=\"simpletable\">\n",
       "<tr>\n",
       "        <td></td>          <th>coef</th>     <th>std err</th>      <th>t</th>      <th>P>|t|</th>  <th>[0.025</th>    <th>0.975]</th>  \n",
       "</tr>\n",
       "<tr>\n",
       "  <th>Intercept</th>    <td>  274.9169</td> <td>   95.500</td> <td>    2.879</td> <td> 0.007</td> <td>   80.837</td> <td>  468.997</td>\n",
       "</tr>\n",
       "<tr>\n",
       "  <th>talk_parents</th> <td>   -2.4205</td> <td>    1.003</td> <td>   -2.413</td> <td> 0.021</td> <td>   -4.459</td> <td>   -0.382</td>\n",
       "</tr>\n",
       "</table>\n",
       "<table class=\"simpletable\">\n",
       "<tr>\n",
       "  <th>Omnibus:</th>       <td> 0.049</td> <th>  Durbin-Watson:     </th> <td>   1.716</td>\n",
       "</tr>\n",
       "<tr>\n",
       "  <th>Prob(Omnibus):</th> <td> 0.976</td> <th>  Jarque-Bera (JB):  </th> <td>   0.255</td>\n",
       "</tr>\n",
       "<tr>\n",
       "  <th>Skew:</th>          <td> 0.009</td> <th>  Prob(JB):          </th> <td>   0.880</td>\n",
       "</tr>\n",
       "<tr>\n",
       "  <th>Kurtosis:</th>      <td> 2.588</td> <th>  Cond. No.          </th> <td>3.64e+03</td>\n",
       "</tr>\n",
       "</table><br/><br/>Notes:<br/>[1] Standard Errors assume that the covariance matrix of the errors is correctly specified.<br/>[2] The condition number is large, 3.64e+03. This might indicate that there are<br/>strong multicollinearity or other numerical problems."
      ],
      "text/plain": [
       "<class 'statsmodels.iolib.summary.Summary'>\n",
       "\"\"\"\n",
       "                            OLS Regression Results                            \n",
       "==============================================================================\n",
       "Dep. Variable:                college   R-squared:                       0.146\n",
       "Model:                            OLS   Adj. R-squared:                  0.121\n",
       "Method:                 Least Squares   F-statistic:                     5.824\n",
       "Date:                Wed, 30 Dec 2020   Prob (F-statistic):             0.0213\n",
       "Time:                        17:09:43   Log-Likelihood:                -147.51\n",
       "No. Observations:                  36   AIC:                             299.0\n",
       "Df Residuals:                      34   BIC:                             302.2\n",
       "Df Model:                           1                                         \n",
       "Covariance Type:            nonrobust                                         \n",
       "================================================================================\n",
       "                   coef    std err          t      P>|t|      [0.025      0.975]\n",
       "--------------------------------------------------------------------------------\n",
       "Intercept      274.9169     95.500      2.879      0.007      80.837     468.997\n",
       "talk_parents    -2.4205      1.003     -2.413      0.021      -4.459      -0.382\n",
       "==============================================================================\n",
       "Omnibus:                        0.049   Durbin-Watson:                   1.716\n",
       "Prob(Omnibus):                  0.976   Jarque-Bera (JB):                0.255\n",
       "Skew:                           0.009   Prob(JB):                        0.880\n",
       "Kurtosis:                       2.588   Cond. No.                     3.64e+03\n",
       "==============================================================================\n",
       "\n",
       "Notes:\n",
       "[1] Standard Errors assume that the covariance matrix of the errors is correctly specified.\n",
       "[2] The condition number is large, 3.64e+03. This might indicate that there are\n",
       "strong multicollinearity or other numerical problems.\n",
       "\"\"\""
      ]
     },
     "execution_count": 62,
     "metadata": {},
     "output_type": "execute_result"
    }
   ],
   "source": [
    "#Talking vs. \"belonging\" at school\n",
    "model8 = smf.ols('college ~ talk_parents', data=oecd2_df).fit()\n",
    "model8.summary()"
   ]
  },
  {
   "cell_type": "code",
   "execution_count": 63,
   "metadata": {},
   "outputs": [
    {
     "data": {
      "text/plain": [
       "-0.38241813684203707"
      ]
     },
     "execution_count": 63,
     "metadata": {},
     "output_type": "execute_result"
    }
   ],
   "source": [
    "#The correlation coefficient\n",
    "oecd2_df.corr().loc['talk_parents', 'college']"
   ]
  },
  {
   "cell_type": "code",
   "execution_count": 64,
   "metadata": {},
   "outputs": [
    {
     "data": {
      "text/plain": [
       "<seaborn.axisgrid.FacetGrid at 0x7f9bf4386b70>"
      ]
     },
     "execution_count": 64,
     "metadata": {},
     "output_type": "execute_result"
    },
    {
     "data": {
      "image/png": "[encoded data removed]",
      "text/plain": [
       "<Figure size 360x360 with 1 Axes>"
      ]
     },
     "metadata": {
      "needs_background": "light"
     },
     "output_type": "display_data"
    }
   ],
   "source": [
    "#Plotting the regression\n",
    "sns.lmplot(x='talk_parents', y='college', data=oecd2_df)"
   ]
  },
  {
   "cell_type": "markdown",
   "metadata": {},
   "source": [
    "Interestingly enough, there is a significant _negative_ relationship between more parent-child communication in a country and the proportion of that country's teen who intend to go to college. For each additional percent of teens who say they talk with their parents, intentions of going to college decreases by 2.4 percentage points on average. There is a moderately weak, negative trend between the two variables. Is the relationship the same for countries where parents take more interest in their child's education?"
   ]
  },
  {
   "cell_type": "markdown",
   "metadata": {},
   "source": [
    "#### Between parental support and intention to go to college?"
   ]
  },
  {
   "cell_type": "code",
   "execution_count": 65,
   "metadata": {
    "scrolled": true
   },
   "outputs": [
    {
     "data": {
      "text/html": [
       "<table class=\"simpletable\">\n",
       "<caption>OLS Regression Results</caption>\n",
       "<tr>\n",
       "  <th>Dep. Variable:</th>         <td>college</td>     <th>  R-squared:         </th> <td>   0.153</td>\n",
       "</tr>\n",
       "<tr>\n",
       "  <th>Model:</th>                   <td>OLS</td>       <th>  Adj. R-squared:    </th> <td>   0.127</td>\n",
       "</tr>\n",
       "<tr>\n",
       "  <th>Method:</th>             <td>Least Squares</td>  <th>  F-statistic:       </th> <td>   5.959</td>\n",
       "</tr>\n",
       "<tr>\n",
       "  <th>Date:</th>             <td>Wed, 30 Dec 2020</td> <th>  Prob (F-statistic):</th>  <td>0.0202</td> \n",
       "</tr>\n",
       "<tr>\n",
       "  <th>Time:</th>                 <td>17:09:43</td>     <th>  Log-Likelihood:    </th> <td> -143.45</td>\n",
       "</tr>\n",
       "<tr>\n",
       "  <th>No. Observations:</th>      <td>    35</td>      <th>  AIC:               </th> <td>   290.9</td>\n",
       "</tr>\n",
       "<tr>\n",
       "  <th>Df Residuals:</th>          <td>    33</td>      <th>  BIC:               </th> <td>   294.0</td>\n",
       "</tr>\n",
       "<tr>\n",
       "  <th>Df Model:</th>              <td>     1</td>      <th>                     </th>     <td> </td>   \n",
       "</tr>\n",
       "<tr>\n",
       "  <th>Covariance Type:</th>      <td>nonrobust</td>    <th>                     </th>     <td> </td>   \n",
       "</tr>\n",
       "</table>\n",
       "<table class=\"simpletable\">\n",
       "<tr>\n",
       "       <td></td>          <th>coef</th>     <th>std err</th>      <th>t</th>      <th>P>|t|</th>  <th>[0.025</th>    <th>0.975]</th>  \n",
       "</tr>\n",
       "<tr>\n",
       "  <th>Intercept</th>   <td>  192.5813</td> <td>   60.849</td> <td>    3.165</td> <td> 0.003</td> <td>   68.782</td> <td>  316.380</td>\n",
       "</tr>\n",
       "<tr>\n",
       "  <th>parent_attn</th> <td>   -1.6400</td> <td>    0.672</td> <td>   -2.441</td> <td> 0.020</td> <td>   -3.007</td> <td>   -0.273</td>\n",
       "</tr>\n",
       "</table>\n",
       "<table class=\"simpletable\">\n",
       "<tr>\n",
       "  <th>Omnibus:</th>       <td> 2.321</td> <th>  Durbin-Watson:     </th> <td>   1.935</td>\n",
       "</tr>\n",
       "<tr>\n",
       "  <th>Prob(Omnibus):</th> <td> 0.313</td> <th>  Jarque-Bera (JB):  </th> <td>   1.526</td>\n",
       "</tr>\n",
       "<tr>\n",
       "  <th>Skew:</th>          <td> 0.506</td> <th>  Prob(JB):          </th> <td>   0.466</td>\n",
       "</tr>\n",
       "<tr>\n",
       "  <th>Kurtosis:</th>      <td> 3.147</td> <th>  Cond. No.          </th> <td>2.17e+03</td>\n",
       "</tr>\n",
       "</table><br/><br/>Notes:<br/>[1] Standard Errors assume that the covariance matrix of the errors is correctly specified.<br/>[2] The condition number is large, 2.17e+03. This might indicate that there are<br/>strong multicollinearity or other numerical problems."
      ],
      "text/plain": [
       "<class 'statsmodels.iolib.summary.Summary'>\n",
       "\"\"\"\n",
       "                            OLS Regression Results                            \n",
       "==============================================================================\n",
       "Dep. Variable:                college   R-squared:                       0.153\n",
       "Model:                            OLS   Adj. R-squared:                  0.127\n",
       "Method:                 Least Squares   F-statistic:                     5.959\n",
       "Date:                Wed, 30 Dec 2020   Prob (F-statistic):             0.0202\n",
       "Time:                        17:09:43   Log-Likelihood:                -143.45\n",
       "No. Observations:                  35   AIC:                             290.9\n",
       "Df Residuals:                      33   BIC:                             294.0\n",
       "Df Model:                           1                                         \n",
       "Covariance Type:            nonrobust                                         \n",
       "===============================================================================\n",
       "                  coef    std err          t      P>|t|      [0.025      0.975]\n",
       "-------------------------------------------------------------------------------\n",
       "Intercept     192.5813     60.849      3.165      0.003      68.782     316.380\n",
       "parent_attn    -1.6400      0.672     -2.441      0.020      -3.007      -0.273\n",
       "==============================================================================\n",
       "Omnibus:                        2.321   Durbin-Watson:                   1.935\n",
       "Prob(Omnibus):                  0.313   Jarque-Bera (JB):                1.526\n",
       "Skew:                           0.506   Prob(JB):                        0.466\n",
       "Kurtosis:                       3.147   Cond. No.                     2.17e+03\n",
       "==============================================================================\n",
       "\n",
       "Notes:\n",
       "[1] Standard Errors assume that the covariance matrix of the errors is correctly specified.\n",
       "[2] The condition number is large, 2.17e+03. This might indicate that there are\n",
       "strong multicollinearity or other numerical problems.\n",
       "\"\"\""
      ]
     },
     "execution_count": 65,
     "metadata": {},
     "output_type": "execute_result"
    }
   ],
   "source": [
    "#Support vs. \"belonging\" at school\n",
    "model9 = smf.ols('college ~ parent_attn', data=oecd2_df).fit()\n",
    "model9.summary()"
   ]
  },
  {
   "cell_type": "code",
   "execution_count": 66,
   "metadata": {},
   "outputs": [
    {
     "data": {
      "text/plain": [
       "-0.39109983651977503"
      ]
     },
     "execution_count": 66,
     "metadata": {},
     "output_type": "execute_result"
    }
   ],
   "source": [
    "#The correlation coefficient\n",
    "oecd2_df.corr().loc['parent_attn', 'college']"
   ]
  },
  {
   "cell_type": "code",
   "execution_count": 67,
   "metadata": {},
   "outputs": [
    {
     "data": {
      "text/plain": [
       "<seaborn.axisgrid.FacetGrid at 0x7f9bf430b5f8>"
      ]
     },
     "execution_count": 67,
     "metadata": {},
     "output_type": "execute_result"
    },
    {
     "data": {
      "image/png": "[encoded data removed]",
      "text/plain": [
       "<Figure size 360x360 with 1 Axes>"
      ]
     },
     "metadata": {
      "needs_background": "light"
     },
     "output_type": "display_data"
    }
   ],
   "source": [
    "#Plotting the regression\n",
    "sns.lmplot(x='parent_attn', y='college', data=oecd2_df)"
   ]
  },
  {
   "cell_type": "markdown",
   "metadata": {},
   "source": [
    "This negative trend is very similar to the first. The trend is even slightly more negative than before. For each additional percent of teens who say parents support their education, intentions of going to college decreases by 1.64 percentage points on average. I am not sure what the implications of this are. Perhaps teens who spoke to their parents and had their support felt more comfortable in knowing their parents would support them whether or not the went to college, which allowed them more freedom with their post-secondary school plans. Alternatively, these teens could have parents who would prefer that they enter the workforce directly after college or take on family businesses instead of going to college."
   ]
  },
  {
   "cell_type": "markdown",
   "metadata": {},
   "source": [
    "## Scatterplot of significant relationships"
   ]
  },
  {
   "cell_type": "code",
   "execution_count": 68,
   "metadata": {},
   "outputs": [
    {
     "data": {
      "image/png": "[encoded data removed]",
      "text/plain": [
       "<Figure size 792x576 with 4 Axes>"
      ]
     },
     "metadata": {
      "needs_background": "light"
     },
     "output_type": "display_data"
    }
   ],
   "source": [
    "#Creating a figure with multiple graphs\n",
    "fig, axes = plt.subplots(2, 2, figsize=(11,8), sharey=True)\n",
    "fig.subplots_adjust(wspace = .7, hspace  = .2)\n",
    "# fig.suptitle('In OECD nations, is more parental involvement associated with better standardized test scores?', \n",
    "#              fontsize=15)\n",
    "fig.suptitle('\\n', fontsize=15)#Just a space between the paragraph and the chart\n",
    "\n",
    "#Creating regression plots\n",
    "attn_math = sns.regplot(ax=axes[0, 0], x='parent_attn', y='pisa_math', data=oecd2_df)\n",
    "talk_math = sns.regplot(ax=axes[0, 1], x='talk_parents', y='pisa_math', data=oecd2_df)\n",
    "attn_read = sns.regplot(ax=axes[1, 0], x='parent_attn', y='pisa_read', data=oecd2_df)\n",
    "talk_read = sns.regplot(ax=axes[1, 1], x='talk_parents', y='pisa_read', data=oecd2_df)\n",
    "\n",
    "\n",
    "# Setting plot labels\n",
    "attn_math.set_title('Average PISA Scores vs. Parental Support', pad = 15, fontsize = 14)\n",
    "#attn_math.set_xlabel('% of 15 year-olds  whose parents support their education')\n",
    "attn_math.set_xlabel('')\n",
    "attn_math.set_ylabel('Average PISA Math Score', fontsize = 12) \n",
    "\n",
    "talk_math.set_title('Average PISA Scores vs. Talking Before/After School', pad = 15, fontsize = 14)\n",
    "#talk_math.set_xlabel('% of 15 year-olds who talk with their parents twice a day')\n",
    "talk_math.set_xlabel('')\n",
    "talk_math.set_ylabel('Average PISA Math Score', fontsize = 12) \n",
    "\n",
    "#attn_read.set_title('Average PISA Reading Score vs. Parental Support')\n",
    "attn_read.set_xlabel('% of 15 year-olds whose parents support/are interested in their education', fontsize = 11)\n",
    "attn_read.set_ylabel('Average PISA Reading Score', fontsize = 12) \n",
    "\n",
    "#talk_read.set_title('Average PISA Reading Score vs. Talking Before/After School')\n",
    "talk_read.set_xlabel('% of 15 year-olds who talk with their parents twice a day', fontsize = 11)\n",
    "talk_read.set_ylabel('Average PISA Reading Score', fontsize = 12)\n",
    "\n",
    "\n",
    "# Saving the figure\n",
    "fig.savefig('../data_story_presentation/img/significant_plts.jpg', \n",
    "                                  bbox_inches='tight', dpi=300)"
   ]
  }
 ],
 "metadata": {
  "kernelspec": {
   "display_name": "Python 3",
   "language": "python",
   "name": "python3"
  },
  "language_info": {
   "codemirror_mode": {
    "name": "ipython",
    "version": 3
   },
   "file_extension": ".py",
   "mimetype": "text/x-python",
   "name": "python",
   "nbconvert_exporter": "python",
   "pygments_lexer": "ipython3",
   "version": "3.7.3"
  }
 },
 "nbformat": 4,
 "nbformat_minor": 2
}
